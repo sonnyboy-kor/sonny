{
  "nbformat": 4,
  "nbformat_minor": 0,
  "metadata": {
    "colab": {
      "name": "21507_16주차.ipynb",
      "provenance": [],
      "authorship_tag": "ABX9TyPGE4Bbl2FxqykRDRqqM/1R",
      "include_colab_link": true
    },
    "kernelspec": {
      "name": "python3",
      "display_name": "Python 3"
    },
    "language_info": {
      "name": "python"
    }
  },
  "cells": [
    {
      "cell_type": "markdown",
      "metadata": {
        "id": "view-in-github",
        "colab_type": "text"
      },
      "source": [
        "<a href=\"https://colab.research.google.com/github/sonnyboy-kor/sonny/blob/main/21507_16%EC%A3%BC%EC%B0%A8.ipynb\" target=\"_parent\"><img src=\"https://colab.research.google.com/assets/colab-badge.svg\" alt=\"Open In Colab\"/></a>"
      ]
    },
    {
      "cell_type": "code",
      "metadata": {
        "colab": {
          "base_uri": "https://localhost:8080/"
        },
        "id": "Co_vPr9jahBM",
        "outputId": "c9b9a7bf-d6e4-4262-a5da-d16844125272"
      },
      "source": [
        "names = ['정밀', '폴리', '산설', '메카', '로봇', '전기']\n",
        "type(names)"
      ],
      "execution_count": 1,
      "outputs": [
        {
          "output_type": "execute_result",
          "data": {
            "text/plain": [
              "list"
            ]
          },
          "metadata": {
            "tags": []
          },
          "execution_count": 1
        }
      ]
    },
    {
      "cell_type": "code",
      "metadata": {
        "colab": {
          "base_uri": "https://localhost:8080/",
          "height": 35
        },
        "id": "f9_I4iqIa-yy",
        "outputId": "f026624a-a7e0-4436-89a5-e9e2abe54bca"
      },
      "source": [
        "names[1]"
      ],
      "execution_count": 2,
      "outputs": [
        {
          "output_type": "execute_result",
          "data": {
            "application/vnd.google.colaboratory.intrinsic+json": {
              "type": "string"
            },
            "text/plain": [
              "'폴리'"
            ]
          },
          "metadata": {
            "tags": []
          },
          "execution_count": 2
        }
      ]
    },
    {
      "cell_type": "code",
      "metadata": {
        "colab": {
          "base_uri": "https://localhost:8080/"
        },
        "id": "QFWC98JVbA3x",
        "outputId": "258c8be2-c712-446d-e4d4-cf32c567e9ad"
      },
      "source": [
        "type(names[0])"
      ],
      "execution_count": 3,
      "outputs": [
        {
          "output_type": "execute_result",
          "data": {
            "text/plain": [
              "str"
            ]
          },
          "metadata": {
            "tags": []
          },
          "execution_count": 3
        }
      ]
    },
    {
      "cell_type": "code",
      "metadata": {
        "id": "rIbKAdLxbElR"
      },
      "source": [
        "names.append('부산기계')"
      ],
      "execution_count": 4,
      "outputs": []
    },
    {
      "cell_type": "code",
      "metadata": {
        "colab": {
          "base_uri": "https://localhost:8080/"
        },
        "id": "REU9YabzbMI7",
        "outputId": "faf58806-3f21-484a-d44f-f2ea6e2edd16"
      },
      "source": [
        "names"
      ],
      "execution_count": 5,
      "outputs": [
        {
          "output_type": "execute_result",
          "data": {
            "text/plain": [
              "['정밀', '폴리', '산설', '메카', '로봇', '전기', '부산기계']"
            ]
          },
          "metadata": {
            "tags": []
          },
          "execution_count": 5
        }
      ]
    },
    {
      "cell_type": "code",
      "metadata": {
        "colab": {
          "base_uri": "https://localhost:8080/"
        },
        "id": "jnSsfbpZbNGw",
        "outputId": "92c6e471-13a5-4140-d936-1af99ccf1828"
      },
      "source": [
        "for name in names:\n",
        "  if len(name) > 2:\n",
        "    print(name,\"공업고등학교\")     # 빈칸 만드는 것\n",
        "    print(name + '공업고등학교')   # 빈칸 없이 이어서 출력"
      ],
      "execution_count": 6,
      "outputs": [
        {
          "output_type": "stream",
          "text": [
            "부산기계 공업고등학교\n",
            "부산기계공업고등학교\n"
          ],
          "name": "stdout"
        }
      ]
    },
    {
      "cell_type": "code",
      "metadata": {
        "id": "WiO-OM-AbgkR"
      },
      "source": [
        "# 주석"
      ],
      "execution_count": 7,
      "outputs": []
    },
    {
      "cell_type": "code",
      "metadata": {
        "colab": {
          "base_uri": "https://localhost:8080/"
        },
        "id": "qbrGUrSgb4Uh",
        "outputId": "935da733-dfda-4e17-eac9-c630fddad4ba"
      },
      "source": [
        "print(20**3) \n",
        "\n",
        "print('Hello, World') # 문자열출력 \n"
      ],
      "execution_count": 8,
      "outputs": [
        {
          "output_type": "stream",
          "text": [
            "8000\n",
            "Hello, World\n"
          ],
          "name": "stdout"
        }
      ]
    },
    {
      "cell_type": "code",
      "metadata": {
        "colab": {
          "base_uri": "https://localhost:8080/"
        },
        "id": "WQWUxTCOb-LA",
        "outputId": "1dd85d25-6f92-48e4-faf2-a7f8fa4ca4b0"
      },
      "source": [
        "school = '부산기계공고'  # 문자열 변수 선언 및 초기화\n",
        "print(school)  # 변수를 이용하여 print함수 사용\n",
        "\n",
        "a = 1024 # 변수의 이름은 사용자가 지정\n",
        "print(a)\n",
        "  \n",
        "name = \"전기과\"\n",
        "print(name+' 화이팅!!!')     # 일반적인 출력\n",
        "print(f'{name} 화이팅!!!')   # f 포맷팅을 이용한 출력\n",
        "\n",
        "print(2020, f'{name} 화이팅!!!') # 다양한 출력형태"
      ],
      "execution_count": 9,
      "outputs": [
        {
          "output_type": "stream",
          "text": [
            "부산기계공고\n",
            "1024\n",
            "전기과 화이팅!!!\n",
            "전기과 화이팅!!!\n",
            "2020 전기과 화이팅!!!\n"
          ],
          "name": "stdout"
        }
      ]
    },
    {
      "cell_type": "code",
      "metadata": {
        "colab": {
          "base_uri": "https://localhost:8080/"
        },
        "id": "06hw00_9cQXy",
        "outputId": "9e716c1d-d36b-4115-a4d5-c0046a28c99a"
      },
      "source": [
        "# 입력 : input() 함수로 문자열 값 입력받기\n",
        "\n",
        "name = input()\n",
        "\n",
        "print(name+'님! 안녕하세요!')\n",
        "print(name, '님! 안녕하세요!')\n",
        "print(f'{name}님! 안녕하세요!')"
      ],
      "execution_count": 10,
      "outputs": [
        {
          "output_type": "stream",
          "text": [
            "부기공\n",
            "부기공님! 안녕하세요!\n",
            "부기공 님! 안녕하세요!\n",
            "부기공님! 안녕하세요!\n"
          ],
          "name": "stdout"
        }
      ]
    },
    {
      "cell_type": "code",
      "metadata": {
        "colab": {
          "base_uri": "https://localhost:8080/"
        },
        "id": "dOwagMQxc6li",
        "outputId": "8ea7f5ce-2576-492e-fa38-1bf69b7da5a3"
      },
      "source": [
        "name = input('이름을 입력해주세요 : ')\n",
        "\n",
        "print(name+'님! 안녕하세요!')\n",
        "print(name, '님! 안녕하세요!')\n",
        "print(f'{name}님! 안녕하세요!')"
      ],
      "execution_count": 11,
      "outputs": [
        {
          "output_type": "stream",
          "text": [
            "이름을 입력해주세요 : 김나윤\n",
            "김나윤님! 안녕하세요!\n",
            "김나윤 님! 안녕하세요!\n",
            "김나윤님! 안녕하세요!\n"
          ],
          "name": "stdout"
        }
      ]
    },
    {
      "cell_type": "code",
      "metadata": {
        "colab": {
          "base_uri": "https://localhost:8080/",
          "height": 256
        },
        "id": "xjG1ZgfJdJXS",
        "outputId": "3c7b03d5-667e-40cf-eaa9-c314b25c11cc"
      },
      "source": [
        "# 입력 : 숫자 입력 경우\n",
        "\n",
        "age = input('나이를 입력해 주세요 : ')\n",
        "\n",
        "print(age-1) # 숫자 연산 후 출력 : 만 나이 계산 \n",
        "\n",
        "# 에러 발생 : input()함수로는 문자열만 받음.\n",
        "# unsupported operand type(s) for -: 'str' and 'int'"
      ],
      "execution_count": 13,
      "outputs": [
        {
          "output_type": "stream",
          "text": [
            "나이를 입력해 주세요 : 5\n"
          ],
          "name": "stdout"
        },
        {
          "output_type": "error",
          "ename": "TypeError",
          "evalue": "ignored",
          "traceback": [
            "\u001b[0;31m---------------------------------------------------------------------------\u001b[0m",
            "\u001b[0;31mTypeError\u001b[0m                                 Traceback (most recent call last)",
            "\u001b[0;32m<ipython-input-13-c99ed4051740>\u001b[0m in \u001b[0;36m<module>\u001b[0;34m()\u001b[0m\n\u001b[1;32m      3\u001b[0m \u001b[0mage\u001b[0m \u001b[0;34m=\u001b[0m \u001b[0minput\u001b[0m\u001b[0;34m(\u001b[0m\u001b[0;34m'나이를 입력해 주세요 : '\u001b[0m\u001b[0;34m)\u001b[0m\u001b[0;34m\u001b[0m\u001b[0;34m\u001b[0m\u001b[0m\n\u001b[1;32m      4\u001b[0m \u001b[0;34m\u001b[0m\u001b[0m\n\u001b[0;32m----> 5\u001b[0;31m \u001b[0mprint\u001b[0m\u001b[0;34m(\u001b[0m\u001b[0mint\u001b[0m\u001b[0;34m(\u001b[0m\u001b[0mage\u001b[0m\u001b[0;34m-\u001b[0m\u001b[0;36m1\u001b[0m\u001b[0;34m)\u001b[0m\u001b[0;34m)\u001b[0m \u001b[0;31m# 숫자 연산 후 출력 : 만 나이 계산\u001b[0m\u001b[0;34m\u001b[0m\u001b[0;34m\u001b[0m\u001b[0m\n\u001b[0m\u001b[1;32m      6\u001b[0m \u001b[0;34m\u001b[0m\u001b[0m\n\u001b[1;32m      7\u001b[0m \u001b[0;31m# 에러 발생 : input()함수로는 문자열만 받음.\u001b[0m\u001b[0;34m\u001b[0m\u001b[0;34m\u001b[0m\u001b[0;34m\u001b[0m\u001b[0m\n",
            "\u001b[0;31mTypeError\u001b[0m: unsupported operand type(s) for -: 'str' and 'int'"
          ]
        }
      ]
    },
    {
      "cell_type": "code",
      "metadata": {
        "colab": {
          "base_uri": "https://localhost:8080/"
        },
        "id": "FlJyA0SydbaZ",
        "outputId": "b2fe3263-6c33-472b-fa83-a0dc6f311c73"
      },
      "source": [
        "age = input('나이를 입력해 주세요 : ')\n",
        "\n",
        "print(int(age)-1)"
      ],
      "execution_count": 17,
      "outputs": [
        {
          "output_type": "stream",
          "text": [
            "나이를 입력해 주세요 : 8\n",
            "7\n"
          ],
          "name": "stdout"
        }
      ]
    },
    {
      "cell_type": "code",
      "metadata": {
        "colab": {
          "base_uri": "https://localhost:8080/"
        },
        "id": "e2V8ht8Rdqnh",
        "outputId": "80d8408a-73c5-428a-901d-3af7c35c694e"
      },
      "source": [
        "type(age)"
      ],
      "execution_count": 18,
      "outputs": [
        {
          "output_type": "execute_result",
          "data": {
            "text/plain": [
              "str"
            ]
          },
          "metadata": {
            "tags": []
          },
          "execution_count": 18
        }
      ]
    },
    {
      "cell_type": "code",
      "metadata": {
        "colab": {
          "base_uri": "https://localhost:8080/"
        },
        "id": "_DDaOEwEd2wR",
        "outputId": "9ac0bbea-8d0c-49b9-cb72-3f3852b1a7da"
      },
      "source": [
        "age = int(input('나이를 입력해주세요 : '))\n",
        "print(age -1)"
      ],
      "execution_count": 19,
      "outputs": [
        {
          "output_type": "stream",
          "text": [
            "나이를 입력해주세요 : 8\n",
            "7\n"
          ],
          "name": "stdout"
        }
      ]
    },
    {
      "cell_type": "code",
      "metadata": {
        "colab": {
          "base_uri": "https://localhost:8080/"
        },
        "id": "iwPA-Cmxd72x",
        "outputId": "e6e9b707-dae8-4c4c-d928-33705e79571a"
      },
      "source": [
        "type(age)"
      ],
      "execution_count": 20,
      "outputs": [
        {
          "output_type": "execute_result",
          "data": {
            "text/plain": [
              "int"
            ]
          },
          "metadata": {
            "tags": []
          },
          "execution_count": 20
        }
      ]
    },
    {
      "cell_type": "code",
      "metadata": {
        "colab": {
          "base_uri": "https://localhost:8080/"
        },
        "id": "0hxH61hsd-Rp",
        "outputId": "5a8c2c37-685a-464f-9cdf-e54f199f6bc2"
      },
      "source": [
        "# 종합\n",
        "\n",
        "name = input('이름을 입력해 주세요 : ')\n",
        "age = int(input('나이를 입력해 주세요 : '))\n",
        "\n",
        "print(f'안녕하세요! {name} 님! 저는 처음에 {str(age-4)}살인 줄 알았어요!!')"
      ],
      "execution_count": 21,
      "outputs": [
        {
          "output_type": "stream",
          "text": [
            "이름을 입력해 주세요 : 김민성\n",
            "나이를 입력해 주세요 : 17\n",
            "안녕하세요! 김민성 님! 저는 처음에 13살인 줄 알았어요!!\n"
          ],
          "name": "stdout"
        }
      ]
    },
    {
      "cell_type": "code",
      "metadata": {
        "colab": {
          "base_uri": "https://localhost:8080/"
        },
        "id": "QlakC8Q6eS8u",
        "outputId": "20aea81f-e395-47bf-ade8-6173d7e217b7"
      },
      "source": [
        "# 산술 연산자\n",
        "\n",
        "print(10 * 2)   # * : 곱셈 연산자\n",
        "print(10 ** 2)  # ** : 거듭 제곱 연산자\n",
        "print(10 % 2)   # % : 나머지 연산자\n",
        "print(7 / 2)   # / : 실수 나눗셈\n",
        "print(7 // 2)  # // : 정수 나눗셈 (몫만 나옴)"
      ],
      "execution_count": 22,
      "outputs": [
        {
          "output_type": "stream",
          "text": [
            "20\n",
            "100\n",
            "0\n",
            "3.5\n",
            "3\n"
          ],
          "name": "stdout"
        }
      ]
    },
    {
      "cell_type": "code",
      "metadata": {
        "colab": {
          "base_uri": "https://localhost:8080/"
        },
        "id": "3lm-HMtjehlo",
        "outputId": "ec221e81-d8db-44a2-f1a4-fb6720d46f13"
      },
      "source": [
        "# 비교 연산자 (참:True, 거짓:False)\n",
        "\n",
        "print(10 >= 2)\n",
        "print(10 <= 2)\n",
        "print(10 == 2)   # == : 같다\n",
        "print(10 != 2)   # != : 같지 않다\n",
        "print(10 % 2 == 1)"
      ],
      "execution_count": 23,
      "outputs": [
        {
          "output_type": "stream",
          "text": [
            "True\n",
            "False\n",
            "False\n",
            "True\n",
            "False\n"
          ],
          "name": "stdout"
        }
      ]
    },
    {
      "cell_type": "code",
      "metadata": {
        "colab": {
          "base_uri": "https://localhost:8080/"
        },
        "id": "aCKyFlKgfO9R",
        "outputId": "a4271c50-3486-4eed-a77e-961d11535c45"
      },
      "source": [
        "True"
      ],
      "execution_count": 24,
      "outputs": [
        {
          "output_type": "execute_result",
          "data": {
            "text/plain": [
              "True"
            ]
          },
          "metadata": {
            "tags": []
          },
          "execution_count": 24
        }
      ]
    },
    {
      "cell_type": "code",
      "metadata": {
        "colab": {
          "base_uri": "https://localhost:8080/",
          "height": 168
        },
        "id": "abM7LCYEfUep",
        "outputId": "a802018f-82cf-4bbd-f3f9-1959a838d8f6"
      },
      "source": [
        "TRUE"
      ],
      "execution_count": 25,
      "outputs": [
        {
          "output_type": "error",
          "ename": "NameError",
          "evalue": "ignored",
          "traceback": [
            "\u001b[0;31m---------------------------------------------------------------------------\u001b[0m",
            "\u001b[0;31mNameError\u001b[0m                                 Traceback (most recent call last)",
            "\u001b[0;32m<ipython-input-25-425fdcbd1209>\u001b[0m in \u001b[0;36m<module>\u001b[0;34m()\u001b[0m\n\u001b[0;32m----> 1\u001b[0;31m \u001b[0mTRUE\u001b[0m\u001b[0;34m\u001b[0m\u001b[0;34m\u001b[0m\u001b[0m\n\u001b[0m",
            "\u001b[0;31mNameError\u001b[0m: name 'TRUE' is not defined"
          ]
        }
      ]
    },
    {
      "cell_type": "code",
      "metadata": {
        "colab": {
          "base_uri": "https://localhost:8080/"
        },
        "id": "pJVJg1KkfV2w",
        "outputId": "0e3650ee-1b93-4d4f-fd9b-f407b63f4a80"
      },
      "source": [
        "# 논리 연산자 (참:True, 거짓:False)\n",
        "# and(둘 다 참일때 True), or(둘 중 하나만 참일 때 True), not(반전) 연산자\n",
        "\n",
        "# and 연산자\n",
        "print(1==1 and 2 != 1) # True and True => True\n",
        "print(10 % 2 != 0 and 1 + 1 > 0 ) # True and False => False\n",
        "print()\n",
        "\n",
        "# or 연산자\n",
        "print(10 < 5 or 10 == 5) # False or False => False\n",
        "print(10 % 2 != 0 or 1 + 1 > 0) # False or True => True\n",
        "print()\n",
        "\n",
        "# not 연산자\n",
        "print(not 10 > 5)   # not True => False\n",
        "print(not 10 == 5)  # not False => True\n",
        "print(not 0)        # 0은 False에 해당 : not False => True\n",
        "print(not 10)       # 0을 제외한 수는 True에 해당 : not True => False"
      ],
      "execution_count": 26,
      "outputs": [
        {
          "output_type": "stream",
          "text": [
            "True\n",
            "False\n",
            "\n",
            "False\n",
            "True\n",
            "\n",
            "False\n",
            "True\n",
            "True\n",
            "False\n"
          ],
          "name": "stdout"
        }
      ]
    },
    {
      "cell_type": "code",
      "metadata": {
        "id": "MHwQNzf7fuZz"
      },
      "source": [
        "# 함수 불러오기 시험범위 x"
      ],
      "execution_count": 32,
      "outputs": []
    },
    {
      "cell_type": "code",
      "metadata": {
        "colab": {
          "base_uri": "https://localhost:8080/",
          "height": 133
        },
        "id": "NlgE6B28gjsx",
        "outputId": "0fe50991-6623-41b4-d3ff-9229a81fa54b"
      },
      "source": [
        "1) for 반복문\n",
        "for A in B:       # 맨 뒤에 콜론 기호(:) 잊지 말기\n",
        "    반복할 문장1    # 들여쓰기(문단구분)가 되어 있음\n",
        "    ...\n",
        "    반복할 문장n    # 보통 공백 문자([space]키) 4개로 사용\n",
        "B는 데이터 세트를 의미\n",
        "for 반복문은 주어진 데이터 세트를 순회하거나 원하는 횟수만큼 반복하고 싶을 때 사용\n",
        "즉, 데이터 세트에서 데이터를 하나씩 꺼내 와서 A에 임시로 저장"
      ],
      "execution_count": 33,
      "outputs": [
        {
          "output_type": "error",
          "ename": "SyntaxError",
          "evalue": "ignored",
          "traceback": [
            "\u001b[0;36m  File \u001b[0;32m\"<ipython-input-33-51e350db8d5b>\"\u001b[0;36m, line \u001b[0;32m1\u001b[0m\n\u001b[0;31m    1) for 반복문\u001b[0m\n\u001b[0m     ^\u001b[0m\n\u001b[0;31mSyntaxError\u001b[0m\u001b[0;31m:\u001b[0m invalid syntax\n"
          ]
        }
      ]
    },
    {
      "cell_type": "code",
      "metadata": {
        "colab": {
          "base_uri": "https://localhost:8080/"
        },
        "id": "s0JomOJkgkMx",
        "outputId": "3783d5da-3b22-4497-cd88-b08522b2c76c"
      },
      "source": [
        "# for 반복문 - 1\n",
        "\n",
        "name = '부산기계공고'\n",
        "\n",
        "for i in name:\n",
        "  print(i)\n",
        "\n",
        "print()\n",
        "\n",
        "for i in name:\n",
        "  print(i, end='')"
      ],
      "execution_count": 34,
      "outputs": [
        {
          "output_type": "stream",
          "text": [
            "부\n",
            "산\n",
            "기\n",
            "계\n",
            "공\n",
            "고\n",
            "\n",
            "부산기계공고"
          ],
          "name": "stdout"
        }
      ]
    },
    {
      "cell_type": "code",
      "metadata": {
        "colab": {
          "base_uri": "https://localhost:8080/"
        },
        "id": "WNY4HAhng8SZ",
        "outputId": "07a559b1-676a-42f9-9717-ed1b5e870c45"
      },
      "source": [
        "type(name)"
      ],
      "execution_count": 35,
      "outputs": [
        {
          "output_type": "execute_result",
          "data": {
            "text/plain": [
              "str"
            ]
          },
          "metadata": {
            "tags": []
          },
          "execution_count": 35
        }
      ]
    },
    {
      "cell_type": "code",
      "metadata": {
        "colab": {
          "base_uri": "https://localhost:8080/",
          "height": 35
        },
        "id": "wvSH7bxehAN5",
        "outputId": "8a22552b-314b-499f-e980-0ee980185cc6"
      },
      "source": [
        "name[0]"
      ],
      "execution_count": 36,
      "outputs": [
        {
          "output_type": "execute_result",
          "data": {
            "application/vnd.google.colaboratory.intrinsic+json": {
              "type": "string"
            },
            "text/plain": [
              "'부'"
            ]
          },
          "metadata": {
            "tags": []
          },
          "execution_count": 36
        }
      ]
    },
    {
      "cell_type": "code",
      "metadata": {
        "colab": {
          "base_uri": "https://localhost:8080/"
        },
        "id": "FN-TdOhNhEfp",
        "outputId": "1be6b474-b009-42be-ee0d-4a9c04154314"
      },
      "source": [
        "type(name[0])"
      ],
      "execution_count": 37,
      "outputs": [
        {
          "output_type": "execute_result",
          "data": {
            "text/plain": [
              "str"
            ]
          },
          "metadata": {
            "tags": []
          },
          "execution_count": 37
        }
      ]
    },
    {
      "cell_type": "code",
      "metadata": {
        "colab": {
          "base_uri": "https://localhost:8080/"
        },
        "id": "k51d8W8vhLQQ",
        "outputId": "5f340219-9426-4c88-c354-875bafb0bae3"
      },
      "source": [
        "# for 반복문 - 2\n",
        "\n",
        "names = ['정밀', '폴리', '산설', '메카', '로봇', '전기']\n",
        "\n",
        "for name in names:\n",
        "  print(name)\n",
        "\n",
        "for name in names:\n",
        "  print(name, end=' ')"
      ],
      "execution_count": 38,
      "outputs": [
        {
          "output_type": "stream",
          "text": [
            "정밀\n",
            "폴리\n",
            "산설\n",
            "메카\n",
            "로봇\n",
            "전기\n",
            "정밀 폴리 산설 메카 로봇 전기 "
          ],
          "name": "stdout"
        }
      ]
    },
    {
      "cell_type": "code",
      "metadata": {
        "colab": {
          "base_uri": "https://localhost:8080/"
        },
        "id": "kcW9y2T-hfhx",
        "outputId": "846d9386-c7bb-4cb5-da07-b81b1da28bf0"
      },
      "source": [
        "# for 반복문 - 3\n",
        "\n",
        "for i in [0, 1, 2, 3]:\n",
        "  print(i ** 2)\n",
        "\n",
        "for i in [0, 1, 2, 3]:\n",
        "  print(i ** 2, end=' ')"
      ],
      "execution_count": 39,
      "outputs": [
        {
          "output_type": "stream",
          "text": [
            "0\n",
            "1\n",
            "4\n",
            "9\n",
            "0 1 4 9 "
          ],
          "name": "stdout"
        }
      ]
    },
    {
      "cell_type": "code",
      "metadata": {
        "colab": {
          "base_uri": "https://localhost:8080/"
        },
        "id": "LFiOAL5ClVh8",
        "outputId": "90957dc6-b9f2-4c13-82b3-0be2ba82688d"
      },
      "source": [
        "# for 반복문 - 4\n",
        "\n",
        "for i in range(10): # range(10) : 0 이상 10 미만의 범위를 갖는 정수 즉, 0~9까지 정수\n",
        "  print(i ** 2)\n",
        "\n",
        "for i in range(10):\n",
        "  print(i ** 2, end=' ')"
      ],
      "execution_count": 40,
      "outputs": [
        {
          "output_type": "stream",
          "text": [
            "0\n",
            "1\n",
            "4\n",
            "9\n",
            "16\n",
            "25\n",
            "36\n",
            "49\n",
            "64\n",
            "81\n",
            "0 1 4 9 16 25 36 49 64 81 "
          ],
          "name": "stdout"
        }
      ]
    },
    {
      "cell_type": "code",
      "metadata": {
        "colab": {
          "base_uri": "https://localhost:8080/"
        },
        "id": "34_cOkW1leCk",
        "outputId": "3b7f9e84-ff9b-4b7c-eff7-14019c910a62"
      },
      "source": [
        "# for 반복문 - 5\n",
        "\n",
        "for i in range(1, 10): # range(1, 10) : 1 이상 10 미만의 범위를 갖는 정수 즉, 1~9까지 정수\n",
        "  print(i ** 2)\n",
        "\n",
        "for i in range(1, 10, 2): # range(1, 10, 2) : 1 이상 10 미만의 범위를 갖는 정수 중 2씩 간격을 두고 생성 즉, 1, 3, 5, 7, 9\n",
        "  print(i ** 2, end=' ')"
      ],
      "execution_count": 41,
      "outputs": [
        {
          "output_type": "stream",
          "text": [
            "1\n",
            "4\n",
            "9\n",
            "16\n",
            "25\n",
            "36\n",
            "49\n",
            "64\n",
            "81\n",
            "1 9 25 49 81 "
          ],
          "name": "stdout"
        }
      ]
    },
    {
      "cell_type": "markdown",
      "metadata": {
        "id": "goBUi-7qmHRL"
      },
      "source": [
        "2) if 조건문\n",
        "if 조건:       # 맨 뒤에 콜론 기호(:) 잊지 말기\n",
        "    조건이 참일 경우 실행할 문장1    # 들여쓰기(문단구분)가 되어 있음\n",
        "    ...\n",
        "    조건이 참일 경우 실행할 문장n    # 보통 공백 문자([space]키) 4개로 사용\n",
        "if 조건문은 주어진 조건이 True(참)인 경우에만 명령을 선택적으로 실행하고 싶을 때 사용"
      ]
    },
    {
      "cell_type": "code",
      "metadata": {
        "colab": {
          "base_uri": "https://localhost:8080/"
        },
        "id": "KlWFt-uamLu-",
        "outputId": "f75f052c-2bf2-4da6-dddc-9940aedf4aaf"
      },
      "source": [
        "# 기본 예\n",
        "\n",
        "if 10 > 0:\n",
        "  print('안녕하세요')\n",
        "print('반가워요')"
      ],
      "execution_count": 44,
      "outputs": [
        {
          "output_type": "stream",
          "text": [
            "안녕하세요\n",
            "반가워요\n"
          ],
          "name": "stdout"
        }
      ]
    },
    {
      "cell_type": "code",
      "metadata": {
        "colab": {
          "base_uri": "https://localhost:8080/"
        },
        "id": "nyJjHVJ3mVaS",
        "outputId": "7e40479b-f9cf-483f-e6df-0d8ddc6bb177"
      },
      "source": [
        "if 10 != 0 and 5 % 2 == 1:\n",
        "  print('안녕하세요')"
      ],
      "execution_count": 45,
      "outputs": [
        {
          "output_type": "stream",
          "text": [
            "안녕하세요\n"
          ],
          "name": "stdout"
        }
      ]
    },
    {
      "cell_type": "code",
      "metadata": {
        "colab": {
          "base_uri": "https://localhost:8080/"
        },
        "id": "m5n5GLSFmlRy",
        "outputId": "33e53134-bc66-4183-8325-c37cacb7a7ea"
      },
      "source": [
        "# 비밀번호 확인\n",
        "\n",
        "passwd = int(input('비밀번호 4자리를 입력하세요 : '))\n",
        "\n",
        "if passwd == 2020:\n",
        "  print('비밀번호가 일치합니다.')"
      ],
      "execution_count": 47,
      "outputs": [
        {
          "output_type": "stream",
          "text": [
            "비밀번호 4자리를 입력하세요 : 1234\n"
          ],
          "name": "stdout"
        }
      ]
    },
    {
      "cell_type": "code",
      "metadata": {
        "colab": {
          "base_uri": "https://localhost:8080/"
        },
        "id": "Jy2_tXNEmwS7",
        "outputId": "332b5e34-ec81-433d-fa3e-db7f5fd8b737"
      },
      "source": [
        "# 비밀번호 해킹 프로그램 (for문과 if문의 융합)\n",
        "\n",
        "for i in range(1,10000):\n",
        "  if i == 2020:\n",
        "    print('비밀번호가 일치합니다.')\n",
        "    print(f'비밀번호는 {i}입니다.')"
      ],
      "execution_count": 48,
      "outputs": [
        {
          "output_type": "stream",
          "text": [
            "비밀번호가 일치합니다.\n",
            "비밀번호는 2020입니다.\n"
          ],
          "name": "stdout"
        }
      ]
    },
    {
      "cell_type": "code",
      "metadata": {
        "colab": {
          "base_uri": "https://localhost:8080/"
        },
        "id": "l_xdqImbm9Eq",
        "outputId": "c4ede3fb-7665-4eee-91b6-48e64a9cc7a0"
      },
      "source": [
        "# else 문 추가\n",
        "\n",
        "passwd = int(input('비밀번호 4자리를 입력하세요 : '))\n",
        "\n",
        "if passwd == 2020:\n",
        "  print('비밀번호가 일치합니다.')\n",
        "else :\n",
        "  print('비밀번호가 일치하지 않습니다.')"
      ],
      "execution_count": 50,
      "outputs": [
        {
          "output_type": "stream",
          "text": [
            "비밀번호 4자리를 입력하세요 : 2200\n",
            "비밀번호가 일치하지 않습니다.\n"
          ],
          "name": "stdout"
        }
      ]
    },
    {
      "cell_type": "code",
      "metadata": {
        "colab": {
          "base_uri": "https://localhost:8080/"
        },
        "id": "hDADcCGWnq1S",
        "outputId": "39e7feef-a33f-406b-a822-4ac459311a87"
      },
      "source": [
        "# 심리게임 프로그램\n",
        "\n",
        "print('[ 소름끼치도록 놀라운 심리테스트 ]')\n",
        "\n",
        "menu = input('당신이 좋아하는 음식을 입력해주세요 : ')\n",
        "\n",
        "if menu == '짜장면':\n",
        "  print(f'당신은 {menu}을 좋아하는 사람입니다.')\n",
        "elif menu == '아이스크림':\n",
        "  print(f'당신은 {menu}을 좋아하는 사람입니다.')\n",
        "elif menu == '사탕':\n",
        "  print(f'당신은 {menu}을 좋아하는 사람입니다.')\n",
        "else :\n",
        "  print(f'당신은 짜장면, 아이스크림, 사탕을 좋아하지 않는 사람입니다.')"
      ],
      "execution_count": 51,
      "outputs": [
        {
          "output_type": "stream",
          "text": [
            "[ 소름끼치도록 놀라운 심리테스트 ]\n",
            "당신이 좋아하는 음식을 입력해주세요 : 야키소바\n",
            "당신은 짜장면, 아이스크림, 사탕을 좋아하지 않는 사람입니다.\n"
          ],
          "name": "stdout"
        }
      ]
    },
    {
      "cell_type": "code",
      "metadata": {
        "colab": {
          "base_uri": "https://localhost:8080/"
        },
        "id": "Q-6PCPsYn6AK",
        "outputId": "6076437f-a52a-40c1-bdec-984e8c12540d"
      },
      "source": [
        "# 리스트에 저장된 위치(index)로 값에 접근하기 : indexing\n",
        "\n",
        "names = ['정밀', '폴리', '산설', '메카', '로봇', '전기']\n",
        "\n",
        "for i in [0, 1, 2, 3, 4, 5]:\n",
        "  print(names[i], end=' ')\n",
        "\n",
        "print()\n",
        "\n",
        "for i in range(6):\n",
        "  print(names[i], end=' ')"
      ],
      "execution_count": 52,
      "outputs": [
        {
          "output_type": "stream",
          "text": [
            "정밀 폴리 산설 메카 로봇 전기 \n",
            "정밀 폴리 산설 메카 로봇 전기 "
          ],
          "name": "stdout"
        }
      ]
    },
    {
      "cell_type": "code",
      "metadata": {
        "colab": {
          "base_uri": "https://localhost:8080/"
        },
        "id": "IXzB_PfUoILT",
        "outputId": "18f7e6b5-f636-48bf-bc5f-7ae9f9f841d0"
      },
      "source": [
        "# 리스트에 저장된 위치(index)로 값에 접근하기 : indexing(인덱싱)\n",
        "\n",
        "names = ['정밀', '폴리', '산설', '메카', '로봇', '전기']\n",
        "         # 0       1       2       3        4       5\n",
        "         # -6     -5      -4      -3       -2       -1\n",
        "\n",
        "print(names[0])   # 리스트 원소 중 제일 첫번째 요소\n",
        "print(names[-1])  # 리스트 원소 중 제일 마지막 요소(뒤에서 첫번째 요소)"
      ],
      "execution_count": 53,
      "outputs": [
        {
          "output_type": "stream",
          "text": [
            "정밀\n",
            "전기\n"
          ],
          "name": "stdout"
        }
      ]
    },
    {
      "cell_type": "code",
      "metadata": {
        "colab": {
          "base_uri": "https://localhost:8080/"
        },
        "id": "i_BKOLLqoiMT",
        "outputId": "f133fec5-d599-40d6-d287-bfa9204b964a"
      },
      "source": [
        "  # 리스트에 저장된 위치로 데이터의 일부 자르기 : slicing(슬라이싱)\n",
        "\n",
        "names = ['정밀', '폴리', '산설', '메카', '로봇', '전기']\n",
        "\n",
        "print(names[0:2])\n",
        "print(names[1:3])\n",
        "print(names[1:])\n",
        "print(names[:])"
      ],
      "execution_count": 54,
      "outputs": [
        {
          "output_type": "stream",
          "text": [
            "['정밀', '폴리']\n",
            "['폴리', '산설']\n",
            "['폴리', '산설', '메카', '로봇', '전기']\n",
            "['정밀', '폴리', '산설', '메카', '로봇', '전기']\n"
          ],
          "name": "stdout"
        }
      ]
    },
    {
      "cell_type": "code",
      "metadata": {
        "colab": {
          "base_uri": "https://localhost:8080/",
          "height": 35
        },
        "id": "vg47us5HowVb",
        "outputId": "8ba9e1d8-1144-48ba-9c07-17d58ab9d411"
      },
      "source": [
        "'''\n",
        "0 : 2 => 0 이상 2미만 : 0,1\n",
        "1:5=> 1이상 5미만\n",
        "'''"
      ],
      "execution_count": 55,
      "outputs": [
        {
          "output_type": "execute_result",
          "data": {
            "application/vnd.google.colaboratory.intrinsic+json": {
              "type": "string"
            },
            "text/plain": [
              "'\\n0 : 2 => 0 이상 2미만 : 0,1\\n1:5=> 1이상 5미만\\n'"
            ]
          },
          "metadata": {
            "tags": []
          },
          "execution_count": 55
        }
      ]
    },
    {
      "cell_type": "code",
      "metadata": {
        "colab": {
          "base_uri": "https://localhost:8080/"
        },
        "id": "Fa7sVBLfpB-y",
        "outputId": "5acaaf70-d395-450a-8f94-d24c9bcb352f"
      },
      "source": [
        "# 리스트에 값 추가하기 : append() 함수 사용\n",
        "\n",
        "names = ['정밀', '폴리', '산설', '메카', '로봇', '전기']\n",
        "\n",
        "names.append('부기공')\n",
        "names.insert(0,'화이팅!')\n",
        "\n",
        "print(names)"
      ],
      "execution_count": 56,
      "outputs": [
        {
          "output_type": "stream",
          "text": [
            "['화이팅!', '정밀', '폴리', '산설', '메카', '로봇', '전기', '부기공']\n"
          ],
          "name": "stdout"
        }
      ]
    },
    {
      "cell_type": "code",
      "metadata": {
        "colab": {
          "base_uri": "https://localhost:8080/"
        },
        "id": "_zNL5hY-pLvD",
        "outputId": "fc531843-241f-4c08-d39f-f7123a5ea4f5"
      },
      "source": [
        "# 리스트 길이 구하기 : len() 함수 사용\n",
        "\n",
        "names = ['정밀', '폴리', '산설', '메카', '로봇', '전기']\n",
        "\n",
        "print(len(names))   # 리스트의 길이 출력하기\n",
        "print(len('문자열의 크기를 구해봅시다.')) # 문자열의 길이 출력하기"
      ],
      "execution_count": 57,
      "outputs": [
        {
          "output_type": "stream",
          "text": [
            "6\n",
            "15\n"
          ],
          "name": "stdout"
        }
      ]
    },
    {
      "cell_type": "code",
      "metadata": {
        "colab": {
          "base_uri": "https://localhost:8080/"
        },
        "id": "rKIoCq_kpZJD",
        "outputId": "f2d1f0b4-ebaa-4c40-aa84-b6240bf42c60"
      },
      "source": [
        "# 종합\n",
        "\n",
        "names = ['정밀', '폴리', '산설', '메카', '로봇', '전기']\n",
        "\n",
        "names.append('부산기계')\n",
        "\n",
        "for name in names:\n",
        "  if len(name) > 2:\n",
        "    print(f'{name}공업고등학교')"
      ],
      "execution_count": 58,
      "outputs": [
        {
          "output_type": "stream",
          "text": [
            "부산기계공업고등학교\n"
          ],
          "name": "stdout"
        }
      ]
    },
    {
      "cell_type": "code",
      "metadata": {
        "colab": {
          "base_uri": "https://localhost:8080/"
        },
        "id": "zZy2-E1_ptqb",
        "outputId": "e9ea2be7-7004-4ab7-c3c0-fedb36dc67a5"
      },
      "source": [
        "# 표준출력1 - 기본적으로 개행('\\n')\n",
        "\n",
        "print('Hello World')\n",
        "print('Busan')\n",
        "print('Mechanical')\n",
        "print('High School')"
      ],
      "execution_count": 59,
      "outputs": [
        {
          "output_type": "stream",
          "text": [
            "Hello World\n",
            "Busan\n",
            "Mechanical\n",
            "High School\n"
          ],
          "name": "stdout"
        }
      ]
    },
    {
      "cell_type": "code",
      "metadata": {
        "colab": {
          "base_uri": "https://localhost:8080/"
        },
        "id": "Qz2ZugOIqI-M",
        "outputId": "a612d046-3aa3-48f5-ee41-f5f98ff5d9fb"
      },
      "source": [
        "# 표준출력2 - end 속성\n",
        "\n",
        "print('Hello', end = ' ') # end 속성\n",
        "print('World')"
      ],
      "execution_count": 60,
      "outputs": [
        {
          "output_type": "stream",
          "text": [
            "Hello World\n"
          ],
          "name": "stdout"
        }
      ]
    },
    {
      "cell_type": "code",
      "metadata": {
        "colab": {
          "base_uri": "https://localhost:8080/"
        },
        "id": "yqO6NwZFqMiT",
        "outputId": "b74d6999-dbb9-43ec-da60-036ddab6feef"
      },
      "source": [
        "# 표준출력3 - 문자열 연산\n",
        "\n",
        "print('Hello', 'World')   # 각 문자열 한칸 띄우기\n",
        "print('Hello' + 'World')  # 문자열 합치기"
      ],
      "execution_count": 61,
      "outputs": [
        {
          "output_type": "stream",
          "text": [
            "Hello World\n",
            "HelloWorld\n"
          ],
          "name": "stdout"
        }
      ]
    },
    {
      "cell_type": "code",
      "metadata": {
        "colab": {
          "base_uri": "https://localhost:8080/"
        },
        "id": "0-d5txlkqP30",
        "outputId": "b0ef1d65-95a9-4c38-9f39-fa74f3279de3"
      },
      "source": [
        "# 이스케이프 시퀀스(Escape Sequence)\n",
        "# \\와 특정문자를 결합하여 문자를 표시해주는 문자\n",
        "\n",
        "print('Hello\\'') # \\' : 작은 따옴표 표시\n",
        "print('Hello\\\"') # \\\" : 큰 따옴표 표시\n",
        "print('Hello\\nWorld') # \\n : 개행(엔터)"
      ],
      "execution_count": 62,
      "outputs": [
        {
          "output_type": "stream",
          "text": [
            "Hello'\n",
            "Hello\"\n",
            "Hello\n",
            "World\n"
          ],
          "name": "stdout"
        }
      ]
    },
    {
      "cell_type": "code",
      "metadata": {
        "colab": {
          "base_uri": "https://localhost:8080/"
        },
        "id": "o5ckNU1CqScb",
        "outputId": "75fe0fdb-c85c-40ad-84f6-c4e3ddf17317"
      },
      "source": [
        "# 표준입력\n",
        "x = input() # 키보드를 통한 문자열 입력하고 그 값을 x 변수에 저장\n",
        "print(x) # 입력된 x 변수값 출력"
      ],
      "execution_count": 64,
      "outputs": [
        {
          "output_type": "stream",
          "text": [
            "1\n",
            "1\n"
          ],
          "name": "stdout"
        }
      ]
    },
    {
      "cell_type": "code",
      "metadata": {
        "colab": {
          "base_uri": "https://localhost:8080/"
        },
        "id": "HB6w5ijPqirL",
        "outputId": "df78fa67-a890-46f2-a1b3-d98e5ea50e9f"
      },
      "source": [
        "# 두 값을 입력받아 더한 결과를 출력하기\n",
        "\n",
        "x = input('x 입력 : ')\n",
        "y = input('y 입력 : ')\n",
        "\n",
        "print(x, '+', y, '=', x+y)\n",
        "# 잘못된 출력 => 이유 입력되는 숫자도 문자열임. "
      ],
      "execution_count": 66,
      "outputs": [
        {
          "output_type": "stream",
          "text": [
            "x 입력 : 우와와와와와오\n",
            "y 입력 : 오오오오오오오옹\n",
            "우와와와와와오 + 오오오오오오오옹 = 우와와와와와오오오오오오오오옹\n"
          ],
          "name": "stdout"
        }
      ]
    },
    {
      "cell_type": "code",
      "metadata": {
        "colab": {
          "base_uri": "https://localhost:8080/"
        },
        "id": "hJN2SsNiqsXy",
        "outputId": "2dd3eb4a-5f69-4d9e-d111-02c08985ce38"
      },
      "source": [
        "# 두 값을 입력받아 더한 결과를 출력하기 - 해결\n",
        "\n",
        "x = input('x 입력 : ')\n",
        "y = input('y 입력 : ')\n",
        "\n",
        "print(x, '+', y, '=', int(x)+int(y))"
      ],
      "execution_count": 67,
      "outputs": [
        {
          "output_type": "stream",
          "text": [
            "x 입력 : 1\n",
            "y 입력 : 4\n",
            "1 + 4 = 5\n"
          ],
          "name": "stdout"
        }
      ]
    },
    {
      "cell_type": "code",
      "metadata": {
        "colab": {
          "base_uri": "https://localhost:8080/"
        },
        "id": "Yg_v5Q5Fq6iy",
        "outputId": "05842687-1d5f-435d-de57-23b9ffe15b56"
      },
      "source": [
        "# f 스트링 출력\n",
        "\n",
        "x = input('x 입력 : ')\n",
        "y = input('y 입력 : ')\n",
        "\n",
        "print(f'{x} + {y} = {int(x)+int(y)}')"
      ],
      "execution_count": 69,
      "outputs": [
        {
          "output_type": "stream",
          "text": [
            "x 입력 : 1\n",
            "y 입력 : 65\n",
            "1 + 65 = 66\n"
          ],
          "name": "stdout"
        }
      ]
    },
    {
      "cell_type": "code",
      "metadata": {
        "colab": {
          "base_uri": "https://localhost:8080/"
        },
        "id": "F7mULx5zq9Vi",
        "outputId": "3d1ad354-d469-4bde-9e09-c04a6c291892"
      },
      "source": [
        "# 정수 및 실수 입력\n",
        "# 정수 : int(input('메시지'))\n",
        "# 실수 : float(input('메시지'))\n",
        "# 형변환 : 정수형 int(), 실수형 float() 함수 사용\n",
        "\n",
        "x = int(input('x 입력 : '))\n",
        "y = float(input('y 입력 : '))\n",
        "\n",
        "print(f'{x} + {y} = {x+y}')"
      ],
      "execution_count": 70,
      "outputs": [
        {
          "output_type": "stream",
          "text": [
            "x 입력 : 8\n",
            "y 입력 : 6\n",
            "8 + 6.0 = 14.0\n"
          ],
          "name": "stdout"
        }
      ]
    },
    {
      "cell_type": "code",
      "metadata": {
        "colab": {
          "base_uri": "https://localhost:8080/"
        },
        "id": "FCv0Hi7xrC06",
        "outputId": "c82de00a-8cbf-45f8-ba6b-fccabc2944a8"
      },
      "source": [
        "# 두 정수를 입력 받아서 사칙연산을 수행하는 프로그램\n",
        "\n",
        "# 입력부\n",
        "x = int(input('첫 번째 정수 입력 : '))\n",
        "y = int(input('두 번째 정수 입력 : '))\n",
        "\n",
        "# 제어부(연산작업) + 출력부\n",
        "print(x, '+', y, '=', (x + y))\n",
        "print(x, '-', y, '=', (x - y))\n",
        "print(x, 'x', y, '=', (x * y))\n",
        "print(x, '/', y, '=', (x / y))"
      ],
      "execution_count": 71,
      "outputs": [
        {
          "output_type": "stream",
          "text": [
            "첫 번째 정수 입력 : 5\n",
            "두 번째 정수 입력 : 8\n",
            "5 + 8 = 13\n",
            "5 - 8 = -3\n",
            "5 x 8 = 40\n",
            "5 / 8 = 0.625\n"
          ],
          "name": "stdout"
        }
      ]
    },
    {
      "cell_type": "code",
      "metadata": {
        "colab": {
          "base_uri": "https://localhost:8080/"
        },
        "id": "XCkKYe3wrTzz",
        "outputId": "27055bde-8e2c-4bc6-a140-8b2d7dd2a1ac"
      },
      "source": [
        "# 나눈 몫과 나머지 연산을 수행하는 프로그램\n",
        "\n",
        "# 입력부\n",
        "x = int(input('첫 번째 정수 입력 : '))\n",
        "y = int(input('두 번째 정수 입력 : '))\n",
        "\n",
        "# 제어부(연산작업) + 출력부\n",
        "print(x, '+', y, '=', (x + y))\n",
        "print(x, '-', y, '=', (x - y))\n",
        "print(x, 'x', y, '=', (x * y))\n",
        "print(x, '/', y, '=', (x / y))\n",
        "print(x, '//', y, '=', (x // y)) # 몫\n",
        "print(x, '%', y, '=', (x % y)) # 나머지\n",
        "\n",
        "# 구분선\n",
        "print('*'*50)\n",
        "print(f'{x} + {y} = {x+y}')\n",
        "\n",
        "# f 스트링 사용한 출력부\n",
        "print(f'{x} + {y} = {x + y}')\n",
        "print(f'{x} - {y} = {x - y}')\n",
        "print(f'{x} x {y} = {x * y}')\n",
        "print(f'{x} / {y} = {x / y}')\n",
        "print(f'{x} // {y} (나눈 몫) = {x // y}')\n",
        "print(f'{x} % {y} (나눈 나머지) = {x % y}')"
      ],
      "execution_count": 72,
      "outputs": [
        {
          "output_type": "stream",
          "text": [
            "첫 번째 정수 입력 : 10\n",
            "두 번째 정수 입력 : 2\n",
            "10 + 2 = 12\n",
            "10 - 2 = 8\n",
            "10 x 2 = 20\n",
            "10 / 2 = 5.0\n",
            "10 // 2 = 5\n",
            "10 % 2 = 0\n",
            "**************************************************\n",
            "10 + 2 = 12\n",
            "10 + 2 = 12\n",
            "10 - 2 = 8\n",
            "10 x 2 = 20\n",
            "10 / 2 = 5.0\n",
            "10 // 2 (나눈 몫) = 5\n",
            "10 % 2 (나눈 나머지) = 0\n"
          ],
          "name": "stdout"
        }
      ]
    },
    {
      "cell_type": "code",
      "metadata": {
        "colab": {
          "base_uri": "https://localhost:8080/"
        },
        "id": "FBbJRRurrWpr",
        "outputId": "90eee4bd-fb21-429b-924e-309dcc6b850c"
      },
      "source": [
        "# BMI(Body Mass Index) 지수 구하기\n",
        "\n",
        "# 입력부\n",
        "weight = int(input('weight(kg) : '))\n",
        "height = int(input('height(cm) : '))\n",
        "\n",
        "# 제어부\n",
        "BMI = weight / ( height/100)**2\n",
        "\n",
        "# 출력부\n",
        "print(f'BMI : {BMI:4.3f}')"
      ],
      "execution_count": 74,
      "outputs": [
        {
          "output_type": "stream",
          "text": [
            "weight(kg) : 52\n",
            "height(cm) : 85\n",
            "BMI : 71.972\n"
          ],
          "name": "stdout"
        }
      ]
    },
    {
      "cell_type": "code",
      "metadata": {
        "colab": {
          "base_uri": "https://localhost:8080/"
        },
        "id": "JGjxw270rZqL",
        "outputId": "9a44182f-81af-43df-dc76-fbfe1561e918"
      },
      "source": [
        "# 환율 계산기\n",
        "\n",
        "# 입력부( 1000\\ = 0.84$, 1$ = 1187\\ )\n",
        "print('ExchangeRate Calc : $ - \\ ')\n",
        "ExchangeRate = float(input(' 1$ ExchangeRate : '))\n",
        "KRW = int(input('KRW : '))\n",
        "\n",
        "# 제어부 : 환율계산 => 0.84$ / 1000\\\n",
        "USD = ExchangeRate / 1000 * KRW\n",
        "\n",
        "# 출력부\n",
        "print(f'USD : {USD:.1f} $')"
      ],
      "execution_count": 75,
      "outputs": [
        {
          "output_type": "stream",
          "text": [
            "ExchangeRate Calc : $ - \\ \n",
            " 1$ ExchangeRate : 5\n",
            "KRW : 20000\n",
            "USD : 100.0 $\n"
          ],
          "name": "stdout"
        }
      ]
    },
    {
      "cell_type": "code",
      "metadata": {
        "colab": {
          "base_uri": "https://localhost:8080/"
        },
        "id": "xX2sGKEKr7c7",
        "outputId": "e46181ee-f21a-41e7-a14f-ca766aae46ba"
      },
      "source": [
        "# 섭씨(Celsius) <=> 화씨(Fahrenheit) 변환\n",
        "# F = C * 1.8 + 32 / C = (F-32) / 1.8\n",
        "\n",
        "# 입력부\n",
        "celsius = float(input('Celsius : '))\n",
        "\n",
        "# 제어부 : 변환\n",
        "fahrenheit = (celsius * 1.8) + 32\n",
        "\n",
        "# 출력부\n",
        "print(f'Fahrenheit : {fahrenheit}')"
      ],
      "execution_count": 76,
      "outputs": [
        {
          "output_type": "stream",
          "text": [
            "Celsius : 456\n",
            "Fahrenheit : 852.8000000000001\n"
          ],
          "name": "stdout"
        }
      ]
    },
    {
      "cell_type": "markdown",
      "metadata": {
        "id": "rsZfxdvksU17"
      },
      "source": [
        "2. 문자열 연산\n",
        "len() : 문자열 길이 구하기\n",
        "count() : 문자의 개수 구하기\n",
        "find() : 문자가 처음 나오는 위치 반환, 없으면 -1\n",
        "index() : 문자열이 처음 나오는 위치 반환, 없으면 오류\n",
        "join() : 문자열 사이에 문자 삽입, 예:'삽입문자'.join(문자열)\n",
        "upper() : 소문자를 대문자로 변환\n",
        "lower() : 대문자를 소문자로 변환\n",
        "replace() : 문자열 바꾸기, 예:replace(원본, 변환 문자)\n",
        "split() : 문자열 나누기 - 인수가 없으면 공백(스페이스, 탭, 엔터 등 구분자)을 기준"
      ]
    },
    {
      "cell_type": "code",
      "metadata": {
        "colab": {
          "base_uri": "https://localhost:8080/"
        },
        "id": "IO9wJBLcsZMK",
        "outputId": "ab6448fa-121a-43fa-81bb-502c87954a2a"
      },
      "source": [
        "# len() : 문자열 길이\n",
        "\n",
        "x = 'Hello Python'\n",
        "\n",
        "len(x)\n",
        "print(f'len(x) : {len(x)}')"
      ],
      "execution_count": 77,
      "outputs": [
        {
          "output_type": "stream",
          "text": [
            "len(x) : 12\n"
          ],
          "name": "stdout"
        }
      ]
    },
    {
      "cell_type": "code",
      "metadata": {
        "colab": {
          "base_uri": "https://localhost:8080/"
        },
        "id": "soZPa97TsaRs",
        "outputId": "51ddc7ef-44be-4f64-972a-c9fe66033a9c"
      },
      "source": [
        "# count() : 문자 갯수\n",
        "\n",
        "x = 'Hello Python'\n",
        "\n",
        "x.count('o')\n",
        "print(f\"x.count('o') : {x.count('o')}\") # 안쪽에 작은 따옴표가 있기에 바깥쪽에는 큰 따옴표가 있어야 함."
      ],
      "execution_count": 78,
      "outputs": [
        {
          "output_type": "stream",
          "text": [
            "x.count('o') : 2\n"
          ],
          "name": "stdout"
        }
      ]
    },
    {
      "cell_type": "code",
      "metadata": {
        "colab": {
          "base_uri": "https://localhost:8080/"
        },
        "id": "iXUjWfCksdYj",
        "outputId": "4b958516-7a3c-49be-d92d-d2302a0ba9ca"
      },
      "source": [
        "# find() : 문자 첫 위치 반환\n",
        "\n",
        "x = 'Hello Python'\n",
        "\n",
        "x.find(\"H\")\n",
        "print(f'x.find(\"H\") : {x.find(\"H\")}')"
      ],
      "execution_count": 79,
      "outputs": [
        {
          "output_type": "stream",
          "text": [
            "x.find(\"H\") : 0\n"
          ],
          "name": "stdout"
        }
      ]
    },
    {
      "cell_type": "code",
      "metadata": {
        "colab": {
          "base_uri": "https://localhost:8080/"
        },
        "id": "7fUOJDOjsgZb",
        "outputId": "2ab7f922-bd4c-4302-9f32-254b99d5a93d"
      },
      "source": [
        "# index() : 문자열의 첫 위치 반환\n",
        "\n",
        "x = 'Hello Python'\n",
        "\n",
        "x.index(\"Python\")\n",
        "print(f'x.index(\"Python\") : {x.index(\"Python\")}')"
      ],
      "execution_count": 80,
      "outputs": [
        {
          "output_type": "stream",
          "text": [
            "x.index(\"Python\") : 6\n"
          ],
          "name": "stdout"
        }
      ]
    },
    {
      "cell_type": "code",
      "metadata": {
        "colab": {
          "base_uri": "https://localhost:8080/"
        },
        "id": "pyuQHH0WslBK",
        "outputId": "2d6ab106-19b7-48c6-f3e1-2bf1b91302af"
      },
      "source": [
        "# join() : 문자열 사이 문자 삽입\n",
        "\n",
        "x = 'Hello Python'\n",
        "\n",
        "z = '-'.join(x)\n",
        "print(z)"
      ],
      "execution_count": 81,
      "outputs": [
        {
          "output_type": "stream",
          "text": [
            "H-e-l-l-o- -P-y-t-h-o-n\n"
          ],
          "name": "stdout"
        }
      ]
    },
    {
      "cell_type": "code",
      "metadata": {
        "colab": {
          "base_uri": "https://localhost:8080/"
        },
        "id": "Z-8OOpJntdMN",
        "outputId": "442d724c-33d1-447c-b8c4-7156cb6035fd"
      },
      "source": [
        "# split() : 문자열 나누기\n",
        "\n",
        "x = 'Hello Python'\n",
        "\n",
        "y = '-'.join(x)\n",
        "print(y)\n",
        "\n",
        "y.split(\"-\")\n",
        "print(f'y.split(\"-\") : {y.split(\"-\")}')"
      ],
      "execution_count": 84,
      "outputs": [
        {
          "output_type": "stream",
          "text": [
            "H-e-l-l-o- -P-y-t-h-o-n\n",
            "y.split(\"-\") : ['H', 'e', 'l', 'l', 'o', ' ', 'P', 'y', 't', 'h', 'o', 'n']\n"
          ],
          "name": "stdout"
        }
      ]
    },
    {
      "cell_type": "code",
      "metadata": {
        "colab": {
          "base_uri": "https://localhost:8080/"
        },
        "id": "NZEg2b8Dsy17",
        "outputId": "f347e389-1c62-4e76-fe37-d9fc0bbbe06c"
      },
      "source": [
        "# upper() : 소문자를 대문자로\n",
        "\n",
        "x = 'Hello Python'\n",
        "\n",
        "x.upper()\n",
        "print(f'x.upper() : {x.upper()}')"
      ],
      "execution_count": 82,
      "outputs": [
        {
          "output_type": "stream",
          "text": [
            "x.upper() : HELLO PYTHON\n"
          ],
          "name": "stdout"
        }
      ]
    },
    {
      "cell_type": "code",
      "metadata": {
        "colab": {
          "base_uri": "https://localhost:8080/"
        },
        "id": "Hr57uPVWszYa",
        "outputId": "d7875007-a88a-4d49-ce2c-02826f378796"
      },
      "source": [
        "# lower() : 대문자를 소문자로\n",
        "\n",
        "x = 'Hello Python'\n",
        "\n",
        "x.lower()\n",
        "print(f'x.lower() : {x.lower()}')"
      ],
      "execution_count": 83,
      "outputs": [
        {
          "output_type": "stream",
          "text": [
            "x.lower() : hello python\n"
          ],
          "name": "stdout"
        }
      ]
    },
    {
      "cell_type": "code",
      "metadata": {
        "colab": {
          "base_uri": "https://localhost:8080/"
        },
        "id": "qEtxEAH0s9Y8",
        "outputId": "2c70eacd-86fc-444b-fe03-9f9e979b6925"
      },
      "source": [
        "# replace() : 문자열 바꾸기\n",
        "\n",
        "x = 'Hello Python'\n",
        "\n",
        "x.replace(\"P\", \"★\")\n",
        "print(f'x.replace(\"P\", \"★\") : {x.replace(\"P\", \"★\")}')"
      ],
      "execution_count": 85,
      "outputs": [
        {
          "output_type": "stream",
          "text": [
            "x.replace(\"P\", \"★\") : Hello ★ython\n"
          ],
          "name": "stdout"
        }
      ]
    },
    {
      "cell_type": "code",
      "metadata": {
        "colab": {
          "base_uri": "https://localhost:8080/"
        },
        "id": "FCciT8-ltt39",
        "outputId": "e52de44e-f58e-4548-c1b7-a6fb286837d0"
      },
      "source": [
        "# 코로나 어원\n",
        "\n",
        "corona = '''\n",
        "코로나(corona)는 라틴말로 왕관을 뜻하며 통상 태양을 둘러싼 외곽의 빛(광환)을 지칭한다.\n",
        "코로나 바이러스라는 이름은 전자현미경으로 이 바이러스를 관찰했을 때 마치 코로나와 유사한 모양을 띠어 붙여진 이름이다.\n",
        "이번에 중국의 우환에서 시작된 코로나 바이러스는 2019년에 발견된 새로운 코로나 바이러스라는 뜻으로 2019-nCov로 붙여졌다.\n",
        "nCov는 novel(새로운) Cov(코로나 바이러스)라는 뜻이다.\n",
        "'''\n",
        "print('-'*50)\n",
        "sentence = corona.count('.')\n",
        "print(f'{sentence} 개의 문장으로 이루어짐')\n",
        "print(corona.replace('\\n','').split('.'))\n",
        "\n",
        "print()\n",
        "\n",
        "print('-'*50)\n",
        "str = input('찾으려는 단어를 입력하시요 : ')\n",
        "cnt = corona.count(str)\n",
        "print(f\"'{str}'(은/는) {cnt} 번 언급됨\")  "
      ],
      "execution_count": 86,
      "outputs": [
        {
          "output_type": "stream",
          "text": [
            "--------------------------------------------------\n",
            "4 개의 문장으로 이루어짐\n",
            "['코로나(corona)는 라틴말로 왕관을 뜻하며 통상 태양을 둘러싼 외곽의 빛(광환)을 지칭한다', '코로나 바이러스라는 이름은 전자현미경으로 이 바이러스를 관찰했을 때 마치 코로나와 유사한 모양을 띠어 붙여진 이름이다', '이번에 중국의 우환에서 시작된 코로나 바이러스는 2019년에 발견된 새로운 코로나 바이러스라는 뜻으로 2019-nCov로 붙여졌다', 'nCov는 novel(새로운) Cov(코로나 바이러스)라는 뜻이다', '']\n",
            "\n",
            "--------------------------------------------------\n",
            "찾으려는 단어를 입력하시요 : 코로나\n",
            "'코로나'(은/는) 6 번 언급됨\n"
          ],
          "name": "stdout"
        }
      ]
    },
    {
      "cell_type": "code",
      "metadata": {
        "id": "xlRbgEHKt5ks"
      },
      "source": [
        ""
      ],
      "execution_count": null,
      "outputs": []
    }
  ]
}