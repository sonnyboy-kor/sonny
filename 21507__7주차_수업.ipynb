{
  "nbformat": 4,
  "nbformat_minor": 0,
  "metadata": {
    "colab": {
      "name": "21507_ 7주차 수업.ipynb",
      "provenance": [],
      "authorship_tag": "ABX9TyMSFOfuS4mCPcmug8fLeK2g",
      "include_colab_link": true
    },
    "kernelspec": {
      "name": "python3",
      "display_name": "Python 3"
    },
    "language_info": {
      "name": "python"
    }
  },
  "cells": [
    {
      "cell_type": "markdown",
      "metadata": {
        "id": "view-in-github",
        "colab_type": "text"
      },
      "source": [
        "<a href=\"https://colab.research.google.com/github/sonnyboy-kor/sonny/blob/main/21507__7%EC%A3%BC%EC%B0%A8_%EC%88%98%EC%97%85.ipynb\" target=\"_parent\"><img src=\"https://colab.research.google.com/assets/colab-badge.svg\" alt=\"Open In Colab\"/></a>"
      ]
    },
    {
      "cell_type": "code",
      "metadata": {
        "colab": {
          "base_uri": "https://localhost:8080/",
          "height": 190
        },
        "id": "kBpbBb9nI8PE",
        "outputId": "9135dc26-c29d-48f1-fa5b-fd6b2ca28289"
      },
      "source": [
        "x = int(input('값 입력 : '))"
      ],
      "execution_count": 2,
      "outputs": [
        {
          "output_type": "stream",
          "text": [
            "값 입력 : ㅇ\n"
          ],
          "name": "stdout"
        },
        {
          "output_type": "error",
          "ename": "ValueError",
          "evalue": "ignored",
          "traceback": [
            "\u001b[0;31m---------------------------------------------------------------------------\u001b[0m",
            "\u001b[0;31mValueError\u001b[0m                                Traceback (most recent call last)",
            "\u001b[0;32m<ipython-input-2-3b7a5a27cf08>\u001b[0m in \u001b[0;36m<module>\u001b[0;34m()\u001b[0m\n\u001b[0;32m----> 1\u001b[0;31m \u001b[0mx\u001b[0m \u001b[0;34m=\u001b[0m \u001b[0mint\u001b[0m\u001b[0;34m(\u001b[0m\u001b[0minput\u001b[0m\u001b[0;34m(\u001b[0m\u001b[0;34m'값 입력 : '\u001b[0m\u001b[0;34m)\u001b[0m\u001b[0;34m)\u001b[0m\u001b[0;34m\u001b[0m\u001b[0;34m\u001b[0m\u001b[0m\n\u001b[0m",
            "\u001b[0;31mValueError\u001b[0m: invalid literal for int() with base 10: 'ㅇ'"
          ]
        }
      ]
    },
    {
      "cell_type": "code",
      "metadata": {
        "colab": {
          "base_uri": "https://localhost:8080/"
        },
        "id": "32EyWToQKXiZ",
        "outputId": "c608b4a3-b015-4161-86ef-ce08468560bc"
      },
      "source": [
        "x = int(input('값 입력 : '))\n",
        "\n",
        "if x % 2 == 0:\n",
        "  print(f'{x}는 짝수')\n",
        "else :\n",
        "  print(f'{x}는 홀수')"
      ],
      "execution_count": 4,
      "outputs": [
        {
          "output_type": "stream",
          "text": [
            "값 입력 : 2\n",
            "2는 짝수\n"
          ],
          "name": "stdout"
        }
      ]
    },
    {
      "cell_type": "code",
      "metadata": {
        "colab": {
          "base_uri": "https://localhost:8080/"
        },
        "id": "rhv4onJYKoa4",
        "outputId": "ff5a4b9a-c59d-4ca9-93cd-b5d9826a2e67"
      },
      "source": [
        "\n",
        "x = int(input('값 입력 : '))\n",
        "\n",
        "if x % 2 ==0:\n",
        "  print(f'{x} : 짝수 ')\n",
        "else:\n",
        "  print(f'{x} : 홀수 ')"
      ],
      "execution_count": 7,
      "outputs": [
        {
          "output_type": "stream",
          "text": [
            "값 입력 : 5\n",
            "5 : 홀수 \n"
          ],
          "name": "stdout"
        }
      ]
    },
    {
      "cell_type": "code",
      "metadata": {
        "colab": {
          "base_uri": "https://localhost:8080/"
        },
        "id": "DPFA_hS0LKhI",
        "outputId": "4f833f0f-5f3a-4316-b78b-0369c97221be"
      },
      "source": [
        "x = float(input('성적입력 :'))\n",
        "\n",
        "if x >= 70:\n",
        "  print(f'{x} : Pass')\n",
        "elif x >= 60 :\n",
        "  print(f'{x} : 재시험 ')\n",
        "else:\n",
        "  print(f'{x} : fail ')"
      ],
      "execution_count": 8,
      "outputs": [
        {
          "output_type": "stream",
          "text": [
            "성적입력 :80\n",
            "80.0 : Pass\n"
          ],
          "name": "stdout"
        }
      ]
    },
    {
      "cell_type": "code",
      "metadata": {
        "colab": {
          "base_uri": "https://localhost:8080/",
          "height": 136
        },
        "id": "qn1m1AdcMPwe",
        "outputId": "158efed6-26cd-44c4-9606-6405ab9e323d"
      },
      "source": [
        "str = '안녕하세요.'\n",
        "\n",
        "'안' in str"
      ],
      "execution_count": 10,
      "outputs": [
        {
          "output_type": "error",
          "ename": "SyntaxError",
          "evalue": "ignored",
          "traceback": [
            "\u001b[0;36m  File \u001b[0;32m\"<ipython-input-10-b3d840cdf7f5>\"\u001b[0;36m, line \u001b[0;32m2\u001b[0m\n\u001b[0;31m    in '안녕하세요'\u001b[0m\n\u001b[0m     ^\u001b[0m\n\u001b[0;31mSyntaxError\u001b[0m\u001b[0;31m:\u001b[0m invalid syntax\n"
          ]
        }
      ]
    },
    {
      "cell_type": "code",
      "metadata": {
        "colab": {
          "base_uri": "https://localhost:8080/"
        },
        "id": "XVlQqZoJNoz1",
        "outputId": "54818abc-a5a8-4bb5-8389-21f9b0d890a0"
      },
      "source": [
        "1 in [1,2,3]\n",
        "\n"
      ],
      "execution_count": 11,
      "outputs": [
        {
          "output_type": "execute_result",
          "data": {
            "text/plain": [
              "True"
            ]
          },
          "metadata": {
            "tags": []
          },
          "execution_count": 11
        }
      ]
    },
    {
      "cell_type": "code",
      "metadata": {
        "colab": {
          "base_uri": "https://localhost:8080/"
        },
        "id": "6DghYaGhN8zF",
        "outputId": "5bb45915-382f-4a84-fa3e-959c20f0e3df"
      },
      "source": [
        "str = '안녕하세요'\n",
        "\n",
        "for item in str:\n",
        "  print(item)"
      ],
      "execution_count": 12,
      "outputs": [
        {
          "output_type": "stream",
          "text": [
            "안\n",
            "녕\n",
            "하\n",
            "세\n",
            "요\n"
          ],
          "name": "stdout"
        }
      ]
    },
    {
      "cell_type": "code",
      "metadata": {
        "colab": {
          "base_uri": "https://localhost:8080/"
        },
        "id": "Wk5AuMEsOQOF",
        "outputId": "51620429-13eb-4b4e-94a0-1ce580c3d3fd"
      },
      "source": [
        "list = [0,1,2,3,4]\n",
        "\n",
        "# list = list(range(5))\n",
        "\n",
        "for item in list:\n",
        "  print(item)\n",
        "\n"
      ],
      "execution_count": 14,
      "outputs": [
        {
          "output_type": "stream",
          "text": [
            "0\n",
            "1\n",
            "2\n",
            "3\n",
            "4\n"
          ],
          "name": "stdout"
        }
      ]
    },
    {
      "cell_type": "code",
      "metadata": {
        "colab": {
          "base_uri": "https://localhost:8080/"
        },
        "id": "yktoKtCrOnSk",
        "outputId": "e86b53d3-3ba1-45d9-ee5b-6c49b4463f10"
      },
      "source": [
        "d = {'a':1, 'b':2}\n",
        "\n",
        "for item in d:\n",
        "  print(item, end=' ')\n",
        "print()\n",
        "for item in d.values():\n",
        "  print(item, end=' ')\n",
        "print()\n",
        "for key, value in d.items():\n",
        "  print(key, value)"
      ],
      "execution_count": 16,
      "outputs": [
        {
          "output_type": "stream",
          "text": [
            "a b \n",
            "1 2 \n",
            "a 1\n",
            "b 2\n"
          ],
          "name": "stdout"
        }
      ]
    },
    {
      "cell_type": "code",
      "metadata": {
        "colab": {
          "base_uri": "https://localhost:8080/"
        },
        "id": "L26HysC0PiEA",
        "outputId": "b2ae7fb3-fbe8-495c-d33e-bd4986777a76"
      },
      "source": [
        "for item in d.keys() :\n",
        "  print(item)"
      ],
      "execution_count": 17,
      "outputs": [
        {
          "output_type": "stream",
          "text": [
            "a\n",
            "b\n"
          ],
          "name": "stdout"
        }
      ]
    },
    {
      "cell_type": "code",
      "metadata": {
        "colab": {
          "base_uri": "https://localhost:8080/"
        },
        "id": "J3GhiRzzQUYD",
        "outputId": "b4972ed6-e6e7-4828-e2e9-eec6e0d26012"
      },
      "source": [
        "xlist = range(10)\n",
        "print(xlist)\n",
        "\n",
        "for item in xlist:\n",
        "  print(item, end=' ')"
      ],
      "execution_count": 21,
      "outputs": [
        {
          "output_type": "stream",
          "text": [
            "range(0, 10)\n",
            "0 1 2 3 4 5 6 7 8 9 "
          ],
          "name": "stdout"
        }
      ]
    },
    {
      "cell_type": "code",
      "metadata": {
        "colab": {
          "base_uri": "https://localhost:8080/"
        },
        "id": "3G1F-9aJQ7xT",
        "outputId": "0697260e-3304-48c3-9912-f6c0faa4f942"
      },
      "source": [
        "xlist = ['1','2']\n",
        "\n",
        "xlist = [int(item) for item in xlist]\n",
        "\n",
        "xlist"
      ],
      "execution_count": 24,
      "outputs": [
        {
          "output_type": "execute_result",
          "data": {
            "text/plain": [
              "[1, 2]"
            ]
          },
          "metadata": {
            "tags": []
          },
          "execution_count": 24
        }
      ]
    },
    {
      "cell_type": "code",
      "metadata": {
        "id": "-OKc1SxIROji"
      },
      "source": [
        "i = 0       # 시험문제\n",
        "\n",
        "while i <= 5 :\n",
        "  i = i + 1\n",
        "  if i == 2 : continue\n",
        "  \n",
        "  print(i)\n",
        "\n",
        "  if i == 4 : break"
      ],
      "execution_count": null,
      "outputs": []
    }
  ]
}