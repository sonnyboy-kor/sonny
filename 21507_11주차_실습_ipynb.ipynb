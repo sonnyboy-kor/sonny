{
  "nbformat": 4,
  "nbformat_minor": 0,
  "metadata": {
    "colab": {
      "name": "21507_11주차 실습_ipynb",
      "provenance": [],
      "authorship_tag": "ABX9TyOacmveSj6Fj4l/xu3fB3ja",
      "include_colab_link": true
    },
    "kernelspec": {
      "name": "python3",
      "display_name": "Python 3"
    },
    "language_info": {
      "name": "python"
    }
  },
  "cells": [
    {
      "cell_type": "markdown",
      "metadata": {
        "id": "view-in-github",
        "colab_type": "text"
      },
      "source": [
        "<a href=\"https://colab.research.google.com/github/sonnyboy-kor/sonny/blob/main/21507_11%EC%A3%BC%EC%B0%A8_%EC%8B%A4%EC%8A%B5_ipynb.ipynb\" target=\"_parent\"><img src=\"https://colab.research.google.com/assets/colab-badge.svg\" alt=\"Open In Colab\"/></a>"
      ]
    },
    {
      "cell_type": "code",
      "metadata": {
        "id": "VPzmrtXhIz9f"
      },
      "source": [
        "import pandas as pd\n",
        "import numpy as np\n",
        "import matplotlib.pyplot as plt\n"
      ],
      "execution_count": 10,
      "outputs": []
    },
    {
      "cell_type": "code",
      "metadata": {
        "colab": {
          "base_uri": "https://localhost:8080/"
        },
        "id": "RufotWi6LC8h",
        "outputId": "9334fc23-15ef-4c14-cfbe-795bc09e624b"
      },
      "source": [
        "dates = pd.date_range('20210514', periods=6)\n",
        "dates"
      ],
      "execution_count": 11,
      "outputs": [
        {
          "output_type": "execute_result",
          "data": {
            "text/plain": [
              "DatetimeIndex(['2021-05-14', '2021-05-15', '2021-05-16', '2021-05-17',\n",
              "               '2021-05-18', '2021-05-19'],\n",
              "              dtype='datetime64[ns]', freq='D')"
            ]
          },
          "metadata": {
            "tags": []
          },
          "execution_count": 11
        }
      ]
    },
    {
      "cell_type": "code",
      "metadata": {
        "colab": {
          "base_uri": "https://localhost:8080/",
          "height": 235
        },
        "id": "XitKgr5LLOZQ",
        "outputId": "a5576ca9-d7d9-4aef-bee0-fdc0cee681e4"
      },
      "source": [
        "df = pd.DataFrame(np.random.randn(6,4), index=dates, columns=list('ABCD'))\n",
        "df"
      ],
      "execution_count": 12,
      "outputs": [
        {
          "output_type": "execute_result",
          "data": {
            "text/html": [
              "<div>\n",
              "<style scoped>\n",
              "    .dataframe tbody tr th:only-of-type {\n",
              "        vertical-align: middle;\n",
              "    }\n",
              "\n",
              "    .dataframe tbody tr th {\n",
              "        vertical-align: top;\n",
              "    }\n",
              "\n",
              "    .dataframe thead th {\n",
              "        text-align: right;\n",
              "    }\n",
              "</style>\n",
              "<table border=\"1\" class=\"dataframe\">\n",
              "  <thead>\n",
              "    <tr style=\"text-align: right;\">\n",
              "      <th></th>\n",
              "      <th>A</th>\n",
              "      <th>B</th>\n",
              "      <th>C</th>\n",
              "      <th>D</th>\n",
              "    </tr>\n",
              "  </thead>\n",
              "  <tbody>\n",
              "    <tr>\n",
              "      <th>2021-05-14</th>\n",
              "      <td>1.693242</td>\n",
              "      <td>-0.310344</td>\n",
              "      <td>-0.977955</td>\n",
              "      <td>1.685274</td>\n",
              "    </tr>\n",
              "    <tr>\n",
              "      <th>2021-05-15</th>\n",
              "      <td>1.357480</td>\n",
              "      <td>-1.417594</td>\n",
              "      <td>-0.066830</td>\n",
              "      <td>-1.352370</td>\n",
              "    </tr>\n",
              "    <tr>\n",
              "      <th>2021-05-16</th>\n",
              "      <td>1.192459</td>\n",
              "      <td>-1.231855</td>\n",
              "      <td>1.405878</td>\n",
              "      <td>0.561098</td>\n",
              "    </tr>\n",
              "    <tr>\n",
              "      <th>2021-05-17</th>\n",
              "      <td>-1.046467</td>\n",
              "      <td>0.265238</td>\n",
              "      <td>1.986820</td>\n",
              "      <td>-0.129706</td>\n",
              "    </tr>\n",
              "    <tr>\n",
              "      <th>2021-05-18</th>\n",
              "      <td>0.451657</td>\n",
              "      <td>1.389559</td>\n",
              "      <td>0.399248</td>\n",
              "      <td>-0.694432</td>\n",
              "    </tr>\n",
              "    <tr>\n",
              "      <th>2021-05-19</th>\n",
              "      <td>0.773622</td>\n",
              "      <td>1.347284</td>\n",
              "      <td>-0.006185</td>\n",
              "      <td>1.859487</td>\n",
              "    </tr>\n",
              "  </tbody>\n",
              "</table>\n",
              "</div>"
            ],
            "text/plain": [
              "                   A         B         C         D\n",
              "2021-05-14  1.693242 -0.310344 -0.977955  1.685274\n",
              "2021-05-15  1.357480 -1.417594 -0.066830 -1.352370\n",
              "2021-05-16  1.192459 -1.231855  1.405878  0.561098\n",
              "2021-05-17 -1.046467  0.265238  1.986820 -0.129706\n",
              "2021-05-18  0.451657  1.389559  0.399248 -0.694432\n",
              "2021-05-19  0.773622  1.347284 -0.006185  1.859487"
            ]
          },
          "metadata": {
            "tags": []
          },
          "execution_count": 12
        }
      ]
    },
    {
      "cell_type": "code",
      "metadata": {
        "colab": {
          "base_uri": "https://localhost:8080/"
        },
        "id": "VsJpxzsoLxxf",
        "outputId": "bd9404f5-feeb-4c71-ba0d-1bfc94d2cd98"
      },
      "source": [
        "df.mean()"
      ],
      "execution_count": 13,
      "outputs": [
        {
          "output_type": "execute_result",
          "data": {
            "text/plain": [
              "A    0.736999\n",
              "B    0.007048\n",
              "C    0.456829\n",
              "D    0.321559\n",
              "dtype: float64"
            ]
          },
          "metadata": {
            "tags": []
          },
          "execution_count": 13
        }
      ]
    },
    {
      "cell_type": "code",
      "metadata": {
        "colab": {
          "base_uri": "https://localhost:8080/"
        },
        "id": "CF0Xy4xyMD7P",
        "outputId": "955a862f-0b06-47f2-bb06-d04e4a31b4d2"
      },
      "source": [
        "df.mean(0)"
      ],
      "execution_count": 14,
      "outputs": [
        {
          "output_type": "execute_result",
          "data": {
            "text/plain": [
              "A    0.736999\n",
              "B    0.007048\n",
              "C    0.456829\n",
              "D    0.321559\n",
              "dtype: float64"
            ]
          },
          "metadata": {
            "tags": []
          },
          "execution_count": 14
        }
      ]
    },
    {
      "cell_type": "code",
      "metadata": {
        "colab": {
          "base_uri": "https://localhost:8080/"
        },
        "id": "XQ8_EYRiMXW-",
        "outputId": "9c1346b9-e2d9-4990-dd6c-be2e126403ed"
      },
      "source": [
        "df.mean(1)"
      ],
      "execution_count": 15,
      "outputs": [
        {
          "output_type": "execute_result",
          "data": {
            "text/plain": [
              "2021-05-14    0.522554\n",
              "2021-05-15   -0.369828\n",
              "2021-05-16    0.481895\n",
              "2021-05-17    0.268971\n",
              "2021-05-18    0.386508\n",
              "2021-05-19    0.993552\n",
              "Freq: D, dtype: float64"
            ]
          },
          "metadata": {
            "tags": []
          },
          "execution_count": 15
        }
      ]
    },
    {
      "cell_type": "code",
      "metadata": {
        "colab": {
          "base_uri": "https://localhost:8080/",
          "height": 235
        },
        "id": "OlF_3fDQMrV-",
        "outputId": "06142a5b-535a-4ef8-a4d9-79209f586467"
      },
      "source": [
        "df"
      ],
      "execution_count": 16,
      "outputs": [
        {
          "output_type": "execute_result",
          "data": {
            "text/html": [
              "<div>\n",
              "<style scoped>\n",
              "    .dataframe tbody tr th:only-of-type {\n",
              "        vertical-align: middle;\n",
              "    }\n",
              "\n",
              "    .dataframe tbody tr th {\n",
              "        vertical-align: top;\n",
              "    }\n",
              "\n",
              "    .dataframe thead th {\n",
              "        text-align: right;\n",
              "    }\n",
              "</style>\n",
              "<table border=\"1\" class=\"dataframe\">\n",
              "  <thead>\n",
              "    <tr style=\"text-align: right;\">\n",
              "      <th></th>\n",
              "      <th>A</th>\n",
              "      <th>B</th>\n",
              "      <th>C</th>\n",
              "      <th>D</th>\n",
              "    </tr>\n",
              "  </thead>\n",
              "  <tbody>\n",
              "    <tr>\n",
              "      <th>2021-05-14</th>\n",
              "      <td>1.693242</td>\n",
              "      <td>-0.310344</td>\n",
              "      <td>-0.977955</td>\n",
              "      <td>1.685274</td>\n",
              "    </tr>\n",
              "    <tr>\n",
              "      <th>2021-05-15</th>\n",
              "      <td>1.357480</td>\n",
              "      <td>-1.417594</td>\n",
              "      <td>-0.066830</td>\n",
              "      <td>-1.352370</td>\n",
              "    </tr>\n",
              "    <tr>\n",
              "      <th>2021-05-16</th>\n",
              "      <td>1.192459</td>\n",
              "      <td>-1.231855</td>\n",
              "      <td>1.405878</td>\n",
              "      <td>0.561098</td>\n",
              "    </tr>\n",
              "    <tr>\n",
              "      <th>2021-05-17</th>\n",
              "      <td>-1.046467</td>\n",
              "      <td>0.265238</td>\n",
              "      <td>1.986820</td>\n",
              "      <td>-0.129706</td>\n",
              "    </tr>\n",
              "    <tr>\n",
              "      <th>2021-05-18</th>\n",
              "      <td>0.451657</td>\n",
              "      <td>1.389559</td>\n",
              "      <td>0.399248</td>\n",
              "      <td>-0.694432</td>\n",
              "    </tr>\n",
              "    <tr>\n",
              "      <th>2021-05-19</th>\n",
              "      <td>0.773622</td>\n",
              "      <td>1.347284</td>\n",
              "      <td>-0.006185</td>\n",
              "      <td>1.859487</td>\n",
              "    </tr>\n",
              "  </tbody>\n",
              "</table>\n",
              "</div>"
            ],
            "text/plain": [
              "                   A         B         C         D\n",
              "2021-05-14  1.693242 -0.310344 -0.977955  1.685274\n",
              "2021-05-15  1.357480 -1.417594 -0.066830 -1.352370\n",
              "2021-05-16  1.192459 -1.231855  1.405878  0.561098\n",
              "2021-05-17 -1.046467  0.265238  1.986820 -0.129706\n",
              "2021-05-18  0.451657  1.389559  0.399248 -0.694432\n",
              "2021-05-19  0.773622  1.347284 -0.006185  1.859487"
            ]
          },
          "metadata": {
            "tags": []
          },
          "execution_count": 16
        }
      ]
    },
    {
      "cell_type": "code",
      "metadata": {
        "colab": {
          "base_uri": "https://localhost:8080/"
        },
        "id": "0E3DclEsNBKP",
        "outputId": "2f629074-a204-40dc-e8ec-4788cb6957bb"
      },
      "source": [
        "print(df.apply(np.cumsum));print()"
      ],
      "execution_count": 17,
      "outputs": [
        {
          "output_type": "stream",
          "text": [
            "                   A         B         C         D\n",
            "2021-05-14  1.693242 -0.310344 -0.977955  1.685274\n",
            "2021-05-15  3.050723 -1.727938 -1.044784  0.332904\n",
            "2021-05-16  4.243181 -2.959793  0.361094  0.894002\n",
            "2021-05-17  3.196714 -2.694555  2.347914  0.764296\n",
            "2021-05-18  3.648371 -1.304997  2.747162  0.069864\n",
            "2021-05-19  4.421994  0.042287  2.740977  1.929351\n",
            "\n"
          ],
          "name": "stdout"
        }
      ]
    },
    {
      "cell_type": "code",
      "metadata": {
        "colab": {
          "base_uri": "https://localhost:8080/",
          "height": 235
        },
        "id": "ZxzlZT8INHu_",
        "outputId": "9aed55a7-f33d-49d7-dbcf-db9945e46227"
      },
      "source": [
        "df"
      ],
      "execution_count": 18,
      "outputs": [
        {
          "output_type": "execute_result",
          "data": {
            "text/html": [
              "<div>\n",
              "<style scoped>\n",
              "    .dataframe tbody tr th:only-of-type {\n",
              "        vertical-align: middle;\n",
              "    }\n",
              "\n",
              "    .dataframe tbody tr th {\n",
              "        vertical-align: top;\n",
              "    }\n",
              "\n",
              "    .dataframe thead th {\n",
              "        text-align: right;\n",
              "    }\n",
              "</style>\n",
              "<table border=\"1\" class=\"dataframe\">\n",
              "  <thead>\n",
              "    <tr style=\"text-align: right;\">\n",
              "      <th></th>\n",
              "      <th>A</th>\n",
              "      <th>B</th>\n",
              "      <th>C</th>\n",
              "      <th>D</th>\n",
              "    </tr>\n",
              "  </thead>\n",
              "  <tbody>\n",
              "    <tr>\n",
              "      <th>2021-05-14</th>\n",
              "      <td>1.693242</td>\n",
              "      <td>-0.310344</td>\n",
              "      <td>-0.977955</td>\n",
              "      <td>1.685274</td>\n",
              "    </tr>\n",
              "    <tr>\n",
              "      <th>2021-05-15</th>\n",
              "      <td>1.357480</td>\n",
              "      <td>-1.417594</td>\n",
              "      <td>-0.066830</td>\n",
              "      <td>-1.352370</td>\n",
              "    </tr>\n",
              "    <tr>\n",
              "      <th>2021-05-16</th>\n",
              "      <td>1.192459</td>\n",
              "      <td>-1.231855</td>\n",
              "      <td>1.405878</td>\n",
              "      <td>0.561098</td>\n",
              "    </tr>\n",
              "    <tr>\n",
              "      <th>2021-05-17</th>\n",
              "      <td>-1.046467</td>\n",
              "      <td>0.265238</td>\n",
              "      <td>1.986820</td>\n",
              "      <td>-0.129706</td>\n",
              "    </tr>\n",
              "    <tr>\n",
              "      <th>2021-05-18</th>\n",
              "      <td>0.451657</td>\n",
              "      <td>1.389559</td>\n",
              "      <td>0.399248</td>\n",
              "      <td>-0.694432</td>\n",
              "    </tr>\n",
              "    <tr>\n",
              "      <th>2021-05-19</th>\n",
              "      <td>0.773622</td>\n",
              "      <td>1.347284</td>\n",
              "      <td>-0.006185</td>\n",
              "      <td>1.859487</td>\n",
              "    </tr>\n",
              "  </tbody>\n",
              "</table>\n",
              "</div>"
            ],
            "text/plain": [
              "                   A         B         C         D\n",
              "2021-05-14  1.693242 -0.310344 -0.977955  1.685274\n",
              "2021-05-15  1.357480 -1.417594 -0.066830 -1.352370\n",
              "2021-05-16  1.192459 -1.231855  1.405878  0.561098\n",
              "2021-05-17 -1.046467  0.265238  1.986820 -0.129706\n",
              "2021-05-18  0.451657  1.389559  0.399248 -0.694432\n",
              "2021-05-19  0.773622  1.347284 -0.006185  1.859487"
            ]
          },
          "metadata": {
            "tags": []
          },
          "execution_count": 18
        }
      ]
    },
    {
      "cell_type": "code",
      "metadata": {
        "colab": {
          "base_uri": "https://localhost:8080/"
        },
        "id": "nNFtYLWiNpl-",
        "outputId": "6b7c66c8-d3ea-4a22-a402-ec913d34cb0b"
      },
      "source": [
        "df.apply(lambda x: x.max() - x.min(), axis=1)"
      ],
      "execution_count": 19,
      "outputs": [
        {
          "output_type": "execute_result",
          "data": {
            "text/plain": [
              "2021-05-14    2.671197\n",
              "2021-05-15    2.775074\n",
              "2021-05-16    2.637733\n",
              "2021-05-17    3.033287\n",
              "2021-05-18    2.083991\n",
              "2021-05-19    1.865671\n",
              "Freq: D, dtype: float64"
            ]
          },
          "metadata": {
            "tags": []
          },
          "execution_count": 19
        }
      ]
    },
    {
      "cell_type": "code",
      "metadata": {
        "colab": {
          "base_uri": "https://localhost:8080/"
        },
        "id": "6oHsEqw7NqHd",
        "outputId": "4d0ff5f9-8543-4766-9905-99f506e69925"
      },
      "source": [
        "s = pd.Series(np.random.randint(1, 6, size = 6))\n",
        "print(s.value_counts()) \n"
      ],
      "execution_count": 20,
      "outputs": [
        {
          "output_type": "stream",
          "text": [
            "2    2\n",
            "5    1\n",
            "4    1\n",
            "3    1\n",
            "1    1\n",
            "dtype: int64\n"
          ],
          "name": "stdout"
        }
      ]
    },
    {
      "cell_type": "code",
      "metadata": {
        "colab": {
          "base_uri": "https://localhost:8080/",
          "height": 235
        },
        "id": "kUFOkCCYOe4e",
        "outputId": "e6e0edd6-fe1b-4f07-fe59-e8ccd1c27fe6"
      },
      "source": [
        "df"
      ],
      "execution_count": 21,
      "outputs": [
        {
          "output_type": "execute_result",
          "data": {
            "text/html": [
              "<div>\n",
              "<style scoped>\n",
              "    .dataframe tbody tr th:only-of-type {\n",
              "        vertical-align: middle;\n",
              "    }\n",
              "\n",
              "    .dataframe tbody tr th {\n",
              "        vertical-align: top;\n",
              "    }\n",
              "\n",
              "    .dataframe thead th {\n",
              "        text-align: right;\n",
              "    }\n",
              "</style>\n",
              "<table border=\"1\" class=\"dataframe\">\n",
              "  <thead>\n",
              "    <tr style=\"text-align: right;\">\n",
              "      <th></th>\n",
              "      <th>A</th>\n",
              "      <th>B</th>\n",
              "      <th>C</th>\n",
              "      <th>D</th>\n",
              "    </tr>\n",
              "  </thead>\n",
              "  <tbody>\n",
              "    <tr>\n",
              "      <th>2021-05-14</th>\n",
              "      <td>1.693242</td>\n",
              "      <td>-0.310344</td>\n",
              "      <td>-0.977955</td>\n",
              "      <td>1.685274</td>\n",
              "    </tr>\n",
              "    <tr>\n",
              "      <th>2021-05-15</th>\n",
              "      <td>1.357480</td>\n",
              "      <td>-1.417594</td>\n",
              "      <td>-0.066830</td>\n",
              "      <td>-1.352370</td>\n",
              "    </tr>\n",
              "    <tr>\n",
              "      <th>2021-05-16</th>\n",
              "      <td>1.192459</td>\n",
              "      <td>-1.231855</td>\n",
              "      <td>1.405878</td>\n",
              "      <td>0.561098</td>\n",
              "    </tr>\n",
              "    <tr>\n",
              "      <th>2021-05-17</th>\n",
              "      <td>-1.046467</td>\n",
              "      <td>0.265238</td>\n",
              "      <td>1.986820</td>\n",
              "      <td>-0.129706</td>\n",
              "    </tr>\n",
              "    <tr>\n",
              "      <th>2021-05-18</th>\n",
              "      <td>0.451657</td>\n",
              "      <td>1.389559</td>\n",
              "      <td>0.399248</td>\n",
              "      <td>-0.694432</td>\n",
              "    </tr>\n",
              "    <tr>\n",
              "      <th>2021-05-19</th>\n",
              "      <td>0.773622</td>\n",
              "      <td>1.347284</td>\n",
              "      <td>-0.006185</td>\n",
              "      <td>1.859487</td>\n",
              "    </tr>\n",
              "  </tbody>\n",
              "</table>\n",
              "</div>"
            ],
            "text/plain": [
              "                   A         B         C         D\n",
              "2021-05-14  1.693242 -0.310344 -0.977955  1.685274\n",
              "2021-05-15  1.357480 -1.417594 -0.066830 -1.352370\n",
              "2021-05-16  1.192459 -1.231855  1.405878  0.561098\n",
              "2021-05-17 -1.046467  0.265238  1.986820 -0.129706\n",
              "2021-05-18  0.451657  1.389559  0.399248 -0.694432\n",
              "2021-05-19  0.773622  1.347284 -0.006185  1.859487"
            ]
          },
          "metadata": {
            "tags": []
          },
          "execution_count": 21
        }
      ]
    },
    {
      "cell_type": "code",
      "metadata": {
        "colab": {
          "base_uri": "https://localhost:8080/",
          "height": 359
        },
        "id": "YxKyADknPiAs",
        "outputId": "eaa7bd3e-fee4-4847-8941-422bc89c7c06"
      },
      "source": [
        "df = pd.DataFrame(np.random.randn(10, 4))\n",
        "df"
      ],
      "execution_count": 23,
      "outputs": [
        {
          "output_type": "execute_result",
          "data": {
            "text/html": [
              "<div>\n",
              "<style scoped>\n",
              "    .dataframe tbody tr th:only-of-type {\n",
              "        vertical-align: middle;\n",
              "    }\n",
              "\n",
              "    .dataframe tbody tr th {\n",
              "        vertical-align: top;\n",
              "    }\n",
              "\n",
              "    .dataframe thead th {\n",
              "        text-align: right;\n",
              "    }\n",
              "</style>\n",
              "<table border=\"1\" class=\"dataframe\">\n",
              "  <thead>\n",
              "    <tr style=\"text-align: right;\">\n",
              "      <th></th>\n",
              "      <th>0</th>\n",
              "      <th>1</th>\n",
              "      <th>2</th>\n",
              "      <th>3</th>\n",
              "    </tr>\n",
              "  </thead>\n",
              "  <tbody>\n",
              "    <tr>\n",
              "      <th>0</th>\n",
              "      <td>-0.091306</td>\n",
              "      <td>0.885377</td>\n",
              "      <td>0.745150</td>\n",
              "      <td>0.359158</td>\n",
              "    </tr>\n",
              "    <tr>\n",
              "      <th>1</th>\n",
              "      <td>0.277991</td>\n",
              "      <td>0.583457</td>\n",
              "      <td>0.681127</td>\n",
              "      <td>-1.155734</td>\n",
              "    </tr>\n",
              "    <tr>\n",
              "      <th>2</th>\n",
              "      <td>-0.871919</td>\n",
              "      <td>0.838060</td>\n",
              "      <td>-0.020036</td>\n",
              "      <td>-0.784737</td>\n",
              "    </tr>\n",
              "    <tr>\n",
              "      <th>3</th>\n",
              "      <td>-0.282330</td>\n",
              "      <td>-1.494801</td>\n",
              "      <td>0.028990</td>\n",
              "      <td>-1.265401</td>\n",
              "    </tr>\n",
              "    <tr>\n",
              "      <th>4</th>\n",
              "      <td>-0.458094</td>\n",
              "      <td>0.020163</td>\n",
              "      <td>0.201545</td>\n",
              "      <td>-0.799512</td>\n",
              "    </tr>\n",
              "    <tr>\n",
              "      <th>5</th>\n",
              "      <td>0.235027</td>\n",
              "      <td>-0.202665</td>\n",
              "      <td>0.703387</td>\n",
              "      <td>0.980585</td>\n",
              "    </tr>\n",
              "    <tr>\n",
              "      <th>6</th>\n",
              "      <td>-0.641566</td>\n",
              "      <td>0.870087</td>\n",
              "      <td>1.121847</td>\n",
              "      <td>1.100372</td>\n",
              "    </tr>\n",
              "    <tr>\n",
              "      <th>7</th>\n",
              "      <td>1.130579</td>\n",
              "      <td>0.948951</td>\n",
              "      <td>1.059073</td>\n",
              "      <td>1.963855</td>\n",
              "    </tr>\n",
              "    <tr>\n",
              "      <th>8</th>\n",
              "      <td>0.849526</td>\n",
              "      <td>0.480351</td>\n",
              "      <td>0.186353</td>\n",
              "      <td>0.134406</td>\n",
              "    </tr>\n",
              "    <tr>\n",
              "      <th>9</th>\n",
              "      <td>-0.088124</td>\n",
              "      <td>1.163911</td>\n",
              "      <td>1.187138</td>\n",
              "      <td>-1.008550</td>\n",
              "    </tr>\n",
              "  </tbody>\n",
              "</table>\n",
              "</div>"
            ],
            "text/plain": [
              "          0         1         2         3\n",
              "0 -0.091306  0.885377  0.745150  0.359158\n",
              "1  0.277991  0.583457  0.681127 -1.155734\n",
              "2 -0.871919  0.838060 -0.020036 -0.784737\n",
              "3 -0.282330 -1.494801  0.028990 -1.265401\n",
              "4 -0.458094  0.020163  0.201545 -0.799512\n",
              "5  0.235027 -0.202665  0.703387  0.980585\n",
              "6 -0.641566  0.870087  1.121847  1.100372\n",
              "7  1.130579  0.948951  1.059073  1.963855\n",
              "8  0.849526  0.480351  0.186353  0.134406\n",
              "9 -0.088124  1.163911  1.187138 -1.008550"
            ]
          },
          "metadata": {
            "tags": []
          },
          "execution_count": 23
        }
      ]
    },
    {
      "cell_type": "code",
      "metadata": {
        "colab": {
          "base_uri": "https://localhost:8080/",
          "height": 142
        },
        "id": "RZuCq3cYQQRd",
        "outputId": "b1556eda-f960-4abf-ff49-dfaecd80d095"
      },
      "source": [
        "df[:3]"
      ],
      "execution_count": 24,
      "outputs": [
        {
          "output_type": "execute_result",
          "data": {
            "text/html": [
              "<div>\n",
              "<style scoped>\n",
              "    .dataframe tbody tr th:only-of-type {\n",
              "        vertical-align: middle;\n",
              "    }\n",
              "\n",
              "    .dataframe tbody tr th {\n",
              "        vertical-align: top;\n",
              "    }\n",
              "\n",
              "    .dataframe thead th {\n",
              "        text-align: right;\n",
              "    }\n",
              "</style>\n",
              "<table border=\"1\" class=\"dataframe\">\n",
              "  <thead>\n",
              "    <tr style=\"text-align: right;\">\n",
              "      <th></th>\n",
              "      <th>0</th>\n",
              "      <th>1</th>\n",
              "      <th>2</th>\n",
              "      <th>3</th>\n",
              "    </tr>\n",
              "  </thead>\n",
              "  <tbody>\n",
              "    <tr>\n",
              "      <th>0</th>\n",
              "      <td>-0.091306</td>\n",
              "      <td>0.885377</td>\n",
              "      <td>0.745150</td>\n",
              "      <td>0.359158</td>\n",
              "    </tr>\n",
              "    <tr>\n",
              "      <th>1</th>\n",
              "      <td>0.277991</td>\n",
              "      <td>0.583457</td>\n",
              "      <td>0.681127</td>\n",
              "      <td>-1.155734</td>\n",
              "    </tr>\n",
              "    <tr>\n",
              "      <th>2</th>\n",
              "      <td>-0.871919</td>\n",
              "      <td>0.838060</td>\n",
              "      <td>-0.020036</td>\n",
              "      <td>-0.784737</td>\n",
              "    </tr>\n",
              "  </tbody>\n",
              "</table>\n",
              "</div>"
            ],
            "text/plain": [
              "          0         1         2         3\n",
              "0 -0.091306  0.885377  0.745150  0.359158\n",
              "1  0.277991  0.583457  0.681127 -1.155734\n",
              "2 -0.871919  0.838060 -0.020036 -0.784737"
            ]
          },
          "metadata": {
            "tags": []
          },
          "execution_count": 24
        }
      ]
    },
    {
      "cell_type": "code",
      "metadata": {
        "colab": {
          "base_uri": "https://localhost:8080/",
          "height": 173
        },
        "id": "ZnMhwevOQTQ9",
        "outputId": "40feaf78-b8bc-4a77-fe51-1c5fbcd11d34"
      },
      "source": [
        "df[3:7]"
      ],
      "execution_count": 25,
      "outputs": [
        {
          "output_type": "execute_result",
          "data": {
            "text/html": [
              "<div>\n",
              "<style scoped>\n",
              "    .dataframe tbody tr th:only-of-type {\n",
              "        vertical-align: middle;\n",
              "    }\n",
              "\n",
              "    .dataframe tbody tr th {\n",
              "        vertical-align: top;\n",
              "    }\n",
              "\n",
              "    .dataframe thead th {\n",
              "        text-align: right;\n",
              "    }\n",
              "</style>\n",
              "<table border=\"1\" class=\"dataframe\">\n",
              "  <thead>\n",
              "    <tr style=\"text-align: right;\">\n",
              "      <th></th>\n",
              "      <th>0</th>\n",
              "      <th>1</th>\n",
              "      <th>2</th>\n",
              "      <th>3</th>\n",
              "    </tr>\n",
              "  </thead>\n",
              "  <tbody>\n",
              "    <tr>\n",
              "      <th>3</th>\n",
              "      <td>-0.282330</td>\n",
              "      <td>-1.494801</td>\n",
              "      <td>0.028990</td>\n",
              "      <td>-1.265401</td>\n",
              "    </tr>\n",
              "    <tr>\n",
              "      <th>4</th>\n",
              "      <td>-0.458094</td>\n",
              "      <td>0.020163</td>\n",
              "      <td>0.201545</td>\n",
              "      <td>-0.799512</td>\n",
              "    </tr>\n",
              "    <tr>\n",
              "      <th>5</th>\n",
              "      <td>0.235027</td>\n",
              "      <td>-0.202665</td>\n",
              "      <td>0.703387</td>\n",
              "      <td>0.980585</td>\n",
              "    </tr>\n",
              "    <tr>\n",
              "      <th>6</th>\n",
              "      <td>-0.641566</td>\n",
              "      <td>0.870087</td>\n",
              "      <td>1.121847</td>\n",
              "      <td>1.100372</td>\n",
              "    </tr>\n",
              "  </tbody>\n",
              "</table>\n",
              "</div>"
            ],
            "text/plain": [
              "          0         1         2         3\n",
              "3 -0.282330 -1.494801  0.028990 -1.265401\n",
              "4 -0.458094  0.020163  0.201545 -0.799512\n",
              "5  0.235027 -0.202665  0.703387  0.980585\n",
              "6 -0.641566  0.870087  1.121847  1.100372"
            ]
          },
          "metadata": {
            "tags": []
          },
          "execution_count": 25
        }
      ]
    },
    {
      "cell_type": "code",
      "metadata": {
        "colab": {
          "base_uri": "https://localhost:8080/",
          "height": 142
        },
        "id": "CjfXMRwhQUqd",
        "outputId": "eecfdc95-e81c-450d-8cd4-565bd6407a41"
      },
      "source": [
        "df[7:]"
      ],
      "execution_count": 26,
      "outputs": [
        {
          "output_type": "execute_result",
          "data": {
            "text/html": [
              "<div>\n",
              "<style scoped>\n",
              "    .dataframe tbody tr th:only-of-type {\n",
              "        vertical-align: middle;\n",
              "    }\n",
              "\n",
              "    .dataframe tbody tr th {\n",
              "        vertical-align: top;\n",
              "    }\n",
              "\n",
              "    .dataframe thead th {\n",
              "        text-align: right;\n",
              "    }\n",
              "</style>\n",
              "<table border=\"1\" class=\"dataframe\">\n",
              "  <thead>\n",
              "    <tr style=\"text-align: right;\">\n",
              "      <th></th>\n",
              "      <th>0</th>\n",
              "      <th>1</th>\n",
              "      <th>2</th>\n",
              "      <th>3</th>\n",
              "    </tr>\n",
              "  </thead>\n",
              "  <tbody>\n",
              "    <tr>\n",
              "      <th>7</th>\n",
              "      <td>1.130579</td>\n",
              "      <td>0.948951</td>\n",
              "      <td>1.059073</td>\n",
              "      <td>1.963855</td>\n",
              "    </tr>\n",
              "    <tr>\n",
              "      <th>8</th>\n",
              "      <td>0.849526</td>\n",
              "      <td>0.480351</td>\n",
              "      <td>0.186353</td>\n",
              "      <td>0.134406</td>\n",
              "    </tr>\n",
              "    <tr>\n",
              "      <th>9</th>\n",
              "      <td>-0.088124</td>\n",
              "      <td>1.163911</td>\n",
              "      <td>1.187138</td>\n",
              "      <td>-1.008550</td>\n",
              "    </tr>\n",
              "  </tbody>\n",
              "</table>\n",
              "</div>"
            ],
            "text/plain": [
              "          0         1         2         3\n",
              "7  1.130579  0.948951  1.059073  1.963855\n",
              "8  0.849526  0.480351  0.186353  0.134406\n",
              "9 -0.088124  1.163911  1.187138 -1.008550"
            ]
          },
          "metadata": {
            "tags": []
          },
          "execution_count": 26
        }
      ]
    },
    {
      "cell_type": "code",
      "metadata": {
        "colab": {
          "base_uri": "https://localhost:8080/"
        },
        "id": "ii-f8R2WQWxt",
        "outputId": "e238dc23-dc3b-4de7-f88c-22fd78c3f2c2"
      },
      "source": [
        "pieces = [df[:3], df[3:7], df[7:]]\n",
        "pieces"
      ],
      "execution_count": 28,
      "outputs": [
        {
          "output_type": "execute_result",
          "data": {
            "text/plain": [
              "[          0         1         2         3\n",
              " 0 -0.091306  0.885377  0.745150  0.359158\n",
              " 1  0.277991  0.583457  0.681127 -1.155734\n",
              " 2 -0.871919  0.838060 -0.020036 -0.784737,\n",
              "           0         1         2         3\n",
              " 3 -0.282330 -1.494801  0.028990 -1.265401\n",
              " 4 -0.458094  0.020163  0.201545 -0.799512\n",
              " 5  0.235027 -0.202665  0.703387  0.980585\n",
              " 6 -0.641566  0.870087  1.121847  1.100372,\n",
              "           0         1         2         3\n",
              " 7  1.130579  0.948951  1.059073  1.963855\n",
              " 8  0.849526  0.480351  0.186353  0.134406\n",
              " 9 -0.088124  1.163911  1.187138 -1.008550]"
            ]
          },
          "metadata": {
            "tags": []
          },
          "execution_count": 28
        }
      ]
    },
    {
      "cell_type": "code",
      "metadata": {
        "colab": {
          "base_uri": "https://localhost:8080/"
        },
        "id": "PNpbpV55Qlfs",
        "outputId": "fbb39e93-b2fe-4587-9f51-4fdedc7eb9c8"
      },
      "source": [
        "print(pd.concat(pieces))"
      ],
      "execution_count": 29,
      "outputs": [
        {
          "output_type": "stream",
          "text": [
            "          0         1         2         3\n",
            "0 -0.091306  0.885377  0.745150  0.359158\n",
            "1  0.277991  0.583457  0.681127 -1.155734\n",
            "2 -0.871919  0.838060 -0.020036 -0.784737\n",
            "3 -0.282330 -1.494801  0.028990 -1.265401\n",
            "4 -0.458094  0.020163  0.201545 -0.799512\n",
            "5  0.235027 -0.202665  0.703387  0.980585\n",
            "6 -0.641566  0.870087  1.121847  1.100372\n",
            "7  1.130579  0.948951  1.059073  1.963855\n",
            "8  0.849526  0.480351  0.186353  0.134406\n",
            "9 -0.088124  1.163911  1.187138 -1.008550\n"
          ],
          "name": "stdout"
        }
      ]
    },
    {
      "cell_type": "code",
      "metadata": {
        "id": "8Hjia4dJQ3en"
      },
      "source": [
        "left = pd.DataFrame({'key':['foo', 'foo'], 'lval': [1, 2]})\n",
        "right = pd.DataFrame({'key':['foo', 'foo'], 'rval': [4, 5]})\n"
      ],
      "execution_count": null,
      "outputs": []
    }
  ]
}