{
  "nbformat": 4,
  "nbformat_minor": 0,
  "metadata": {
    "colab": {
      "name": "21507_9주차 실습.ipynb",
      "provenance": [],
      "toc_visible": true,
      "authorship_tag": "ABX9TyOdY0Z6nZMUjolExYOv3C9y",
      "include_colab_link": true
    },
    "kernelspec": {
      "name": "python3",
      "display_name": "Python 3"
    },
    "language_info": {
      "name": "python"
    }
  },
  "cells": [
    {
      "cell_type": "markdown",
      "metadata": {
        "id": "view-in-github",
        "colab_type": "text"
      },
      "source": [
        "<a href=\"https://colab.research.google.com/github/sonnyboy-kor/sonny/blob/main/21507_9%EC%A3%BC%EC%B0%A8_%EC%8B%A4%EC%8A%B5.ipynb\" target=\"_parent\"><img src=\"https://colab.research.google.com/assets/colab-badge.svg\" alt=\"Open In Colab\"/></a>"
      ]
    },
    {
      "cell_type": "code",
      "metadata": {
        "id": "wF5ABIsMCAGS"
      },
      "source": [
        "fp = open('지역평균기온.txt')\n",
        "data = fp.read()\n",
        "fp.close()"
      ],
      "execution_count": 1,
      "outputs": []
    },
    {
      "cell_type": "code",
      "metadata": {
        "colab": {
          "base_uri": "https://localhost:8080/",
          "height": 52
        },
        "id": "NQiu0ttWE8rq",
        "outputId": "eb3b041f-b864-4099-8a09-4d6a2c264ca2"
      },
      "source": [
        "data"
      ],
      "execution_count": 2,
      "outputs": [
        {
          "output_type": "execute_result",
          "data": {
            "application/vnd.google.colaboratory.intrinsic+json": {
              "type": "string"
            },
            "text/plain": [
              "'서울,20\\n부산,26\\n대구,24\\n인천,24\\n광주,25\\n대전,22\\n울산,26\\n세종,23\\n경기,24\\n강원,23\\n충북,26\\n충남,22\\n전북,24\\n전남,23\\n경북,28\\n경남,29\\n제주,26'"
            ]
          },
          "metadata": {
            "tags": []
          },
          "execution_count": 2
        }
      ]
    },
    {
      "cell_type": "code",
      "metadata": {
        "colab": {
          "base_uri": "https://localhost:8080/"
        },
        "id": "geAPiFl-E_Hb",
        "outputId": "52802e02-54ca-4e96-cc3a-b0447479e4c8"
      },
      "source": [
        "print(data)"
      ],
      "execution_count": 3,
      "outputs": [
        {
          "output_type": "stream",
          "text": [
            "서울,20\n",
            "부산,26\n",
            "대구,24\n",
            "인천,24\n",
            "광주,25\n",
            "대전,22\n",
            "울산,26\n",
            "세종,23\n",
            "경기,24\n",
            "강원,23\n",
            "충북,26\n",
            "충남,22\n",
            "전북,24\n",
            "전남,23\n",
            "경북,28\n",
            "경남,29\n",
            "제주,26\n"
          ],
          "name": "stdout"
        }
      ]
    },
    {
      "cell_type": "code",
      "metadata": {
        "colab": {
          "base_uri": "https://localhost:8080/"
        },
        "id": "qk2-XvJjFGfC",
        "outputId": "ce210207-4f42-4c1d-b9a8-c1dac399fae9"
      },
      "source": [
        "fp = open('지역평균기온.txt')\n",
        "data = fp.readlines()\n",
        "fp.close()\n",
        "\n",
        "dt = {}\n",
        "\n",
        "for line in data :\n",
        "  line = line.replace('\\n', '')\n",
        "  items = line.split(',')\n",
        "  dt[items[0]] = int(items[1])\n",
        "  \n",
        "print(dt)"
      ],
      "execution_count": 4,
      "outputs": [
        {
          "output_type": "stream",
          "text": [
            "{'서울': 20, '부산': 26, '대구': 24, '인천': 24, '광주': 25, '대전': 22, '울산': 26, '세종': 23, '경기': 24, '강원': 23, '충북': 26, '충남': 22, '전북': 24, '전남': 23, '경북': 28, '경남': 29, '제주': 26}\n"
          ],
          "name": "stdout"
        }
      ]
    },
    {
      "cell_type": "code",
      "metadata": {
        "colab": {
          "base_uri": "https://localhost:8080/"
        },
        "id": "fdkfe7PoG2Si",
        "outputId": "f413cb7c-fb3a-4cf9-f568-2ff36d536995"
      },
      "source": [
        "# Colab에서 한글 글꼴 쓰기\n",
        "!sudo apt-get install -y fonts-nanum\n",
        "!sudo fc-cache -fv\n",
        "!rm ~/.cache/matplotlib -rf\n",
        "# 이후 런타임 재실행"
      ],
      "execution_count": 5,
      "outputs": [
        {
          "output_type": "stream",
          "text": [
            "Reading package lists... Done\n",
            "Building dependency tree       \n",
            "Reading state information... Done\n",
            "fonts-nanum is already the newest version (20170925-1).\n",
            "The following package was automatically installed and is no longer required:\n",
            "  libnvidia-common-460\n",
            "Use 'sudo apt autoremove' to remove it.\n",
            "0 upgraded, 0 newly installed, 0 to remove and 34 not upgraded.\n",
            "/usr/share/fonts: caching, new cache contents: 0 fonts, 1 dirs\n",
            "/usr/share/fonts/truetype: caching, new cache contents: 0 fonts, 3 dirs\n",
            "/usr/share/fonts/truetype/humor-sans: caching, new cache contents: 1 fonts, 0 dirs\n",
            "/usr/share/fonts/truetype/liberation: caching, new cache contents: 16 fonts, 0 dirs\n",
            "/usr/share/fonts/truetype/nanum: caching, new cache contents: 10 fonts, 0 dirs\n",
            "/usr/local/share/fonts: caching, new cache contents: 0 fonts, 0 dirs\n",
            "/root/.local/share/fonts: skipping, no such directory\n",
            "/root/.fonts: skipping, no such directory\n",
            "/var/cache/fontconfig: cleaning cache directory\n",
            "/root/.cache/fontconfig: not cleaning non-existent cache directory\n",
            "/root/.fontconfig: not cleaning non-existent cache directory\n",
            "fc-cache: succeeded\n"
          ],
          "name": "stdout"
        }
      ]
    },
    {
      "cell_type": "code",
      "metadata": {
        "colab": {
          "base_uri": "https://localhost:8080/",
          "height": 397
        },
        "id": "yN19-ZkqHkBd",
        "outputId": "3e2650a5-d600-49b7-a763-4e8ebd957953"
      },
      "source": [
        "fp = open('지역평균기온.txt')\n",
        "data = fp.readlines()\n",
        "fp.close()\n",
        "\n",
        "dt = {}\n",
        "\n",
        "for line in data : \n",
        "  line = line.replace('\\n', '')\n",
        "  items = line.split(',')\n",
        "  dt[items[0]] = int(items[1])  \n",
        "\n",
        "area = list(dt.keys())\n",
        "temp = list(dt.values())\n",
        "print(area)\n",
        "print(temp)\n",
        "\n",
        "import matplotlib.pyplot as plt\n",
        "\n",
        "plt.rc('font', family='NanumBarunGothic') # 한글 글꼴 설정\n",
        "\n",
        "\n",
        "plt.figure(figsize =(10,5))\n",
        "plt.plot(area, temp, 'g--')\n",
        "plt.scatter(area,temp, color='red')\n",
        "plt.xticks(rotation=30)\n",
        "plt.title('지역평균기온')\n",
        "\n",
        "plt.show()"
      ],
      "execution_count": 25,
      "outputs": [
        {
          "output_type": "stream",
          "text": [
            "['서울', '부산', '대구', '인천', '광주', '대전', '울산', '세종', '경기', '강원', '충북', '충남', '전북', '전남', '경북', '경남', '제주']\n",
            "[20, 26, 24, 24, 25, 22, 26, 23, 24, 23, 26, 22, 24, 23, 28, 29, 26]\n"
          ],
          "name": "stdout"
        },
        {
          "output_type": "display_data",
          "data": {
            "image/png": "[encoded data removed]",
            "text/plain": [
              "<Figure size 720x360 with 1 Axes>"
            ]
          },
          "metadata": {
            "tags": [],
            "needs_background": "light"
          }
        }
      ]
    },
    {
      "cell_type": "code",
      "metadata": {
        "id": "a2PheQyXIUZs"
      },
      "source": [
        "import pandas as pd\n",
        "import numpy as np\n",
        "import matplotlib.pyplot as plt\n"
      ],
      "execution_count": 26,
      "outputs": []
    },
    {
      "cell_type": "code",
      "metadata": {
        "id": "kQ3_Hm1GQyul"
      },
      "source": [
        "s = pd.Series([1, 3, 5, np.nan, 6, 8])"
      ],
      "execution_count": 27,
      "outputs": []
    },
    {
      "cell_type": "code",
      "metadata": {
        "colab": {
          "base_uri": "https://localhost:8080/"
        },
        "id": "wMZnXu_xRX0V",
        "outputId": "459798f3-d947-4a15-d462-204ae7eb9668"
      },
      "source": [
        "s"
      ],
      "execution_count": 28,
      "outputs": [
        {
          "output_type": "execute_result",
          "data": {
            "text/plain": [
              "0    1.0\n",
              "1    3.0\n",
              "2    5.0\n",
              "3    NaN\n",
              "4    6.0\n",
              "5    8.0\n",
              "dtype: float64"
            ]
          },
          "metadata": {
            "tags": []
          },
          "execution_count": 28
        }
      ]
    },
    {
      "cell_type": "code",
      "metadata": {
        "colab": {
          "base_uri": "https://localhost:8080/"
        },
        "id": "Qd6Wal-VRYul",
        "outputId": "760968ad-ff91-4a51-aae3-1c9bf498f01f"
      },
      "source": [
        "type(s)"
      ],
      "execution_count": 29,
      "outputs": [
        {
          "output_type": "execute_result",
          "data": {
            "text/plain": [
              "pandas.core.series.Series"
            ]
          },
          "metadata": {
            "tags": []
          },
          "execution_count": 29
        }
      ]
    },
    {
      "cell_type": "code",
      "metadata": {
        "colab": {
          "base_uri": "https://localhost:8080/"
        },
        "id": "N2TPGjdgRmPc",
        "outputId": "80d06c5a-b8dd-4e62-91d7-1a828a35fe27"
      },
      "source": [
        "dates = pd.date_range('20210430', periods=6)\n",
        "\n",
        "dates"
      ],
      "execution_count": 31,
      "outputs": [
        {
          "output_type": "execute_result",
          "data": {
            "text/plain": [
              "DatetimeIndex(['2021-04-30', '2021-05-01', '2021-05-02', '2021-05-03',\n",
              "               '2021-05-04', '2021-05-05'],\n",
              "              dtype='datetime64[ns]', freq='D')"
            ]
          },
          "metadata": {
            "tags": []
          },
          "execution_count": 31
        }
      ]
    },
    {
      "cell_type": "code",
      "metadata": {
        "colab": {
          "base_uri": "https://localhost:8080/"
        },
        "id": "vl6Fv4gbSF5t",
        "outputId": "3dd4ecb5-1fbe-46ad-fc2f-c3a6dce55777"
      },
      "source": [
        "type(dates)"
      ],
      "execution_count": 32,
      "outputs": [
        {
          "output_type": "execute_result",
          "data": {
            "text/plain": [
              "pandas.core.indexes.datetimes.DatetimeIndex"
            ]
          },
          "metadata": {
            "tags": []
          },
          "execution_count": 32
        }
      ]
    },
    {
      "cell_type": "code",
      "metadata": {
        "id": "6EbSsXWDSIkF"
      },
      "source": [
        "df = pd.DataFrame(np.random.rand(6,4), index=dates, columns=list('ABCD'))"
      ],
      "execution_count": 33,
      "outputs": []
    },
    {
      "cell_type": "code",
      "metadata": {
        "colab": {
          "base_uri": "https://localhost:8080/",
          "height": 220
        },
        "id": "zYDbsSchSfH8",
        "outputId": "9d905721-1ae7-42f5-9d19-56bc6196db8b"
      },
      "source": [
        "df"
      ],
      "execution_count": 34,
      "outputs": [
        {
          "output_type": "execute_result",
          "data": {
            "text/html": [
              "<div>\n",
              "<style scoped>\n",
              "    .dataframe tbody tr th:only-of-type {\n",
              "        vertical-align: middle;\n",
              "    }\n",
              "\n",
              "    .dataframe tbody tr th {\n",
              "        vertical-align: top;\n",
              "    }\n",
              "\n",
              "    .dataframe thead th {\n",
              "        text-align: right;\n",
              "    }\n",
              "</style>\n",
              "<table border=\"1\" class=\"dataframe\">\n",
              "  <thead>\n",
              "    <tr style=\"text-align: right;\">\n",
              "      <th></th>\n",
              "      <th>A</th>\n",
              "      <th>B</th>\n",
              "      <th>C</th>\n",
              "      <th>D</th>\n",
              "    </tr>\n",
              "  </thead>\n",
              "  <tbody>\n",
              "    <tr>\n",
              "      <th>2021-04-30</th>\n",
              "      <td>0.522804</td>\n",
              "      <td>0.094407</td>\n",
              "      <td>0.572790</td>\n",
              "      <td>0.813364</td>\n",
              "    </tr>\n",
              "    <tr>\n",
              "      <th>2021-05-01</th>\n",
              "      <td>0.048051</td>\n",
              "      <td>0.278005</td>\n",
              "      <td>0.056434</td>\n",
              "      <td>0.688790</td>\n",
              "    </tr>\n",
              "    <tr>\n",
              "      <th>2021-05-02</th>\n",
              "      <td>0.187340</td>\n",
              "      <td>0.334725</td>\n",
              "      <td>0.566310</td>\n",
              "      <td>0.832539</td>\n",
              "    </tr>\n",
              "    <tr>\n",
              "      <th>2021-05-03</th>\n",
              "      <td>0.741802</td>\n",
              "      <td>0.790253</td>\n",
              "      <td>0.564908</td>\n",
              "      <td>0.170155</td>\n",
              "    </tr>\n",
              "    <tr>\n",
              "      <th>2021-05-04</th>\n",
              "      <td>0.021298</td>\n",
              "      <td>0.569072</td>\n",
              "      <td>0.039987</td>\n",
              "      <td>0.350869</td>\n",
              "    </tr>\n",
              "    <tr>\n",
              "      <th>2021-05-05</th>\n",
              "      <td>0.307776</td>\n",
              "      <td>0.048590</td>\n",
              "      <td>0.274827</td>\n",
              "      <td>0.799012</td>\n",
              "    </tr>\n",
              "  </tbody>\n",
              "</table>\n",
              "</div>"
            ],
            "text/plain": [
              "                   A         B         C         D\n",
              "2021-04-30  0.522804  0.094407  0.572790  0.813364\n",
              "2021-05-01  0.048051  0.278005  0.056434  0.688790\n",
              "2021-05-02  0.187340  0.334725  0.566310  0.832539\n",
              "2021-05-03  0.741802  0.790253  0.564908  0.170155\n",
              "2021-05-04  0.021298  0.569072  0.039987  0.350869\n",
              "2021-05-05  0.307776  0.048590  0.274827  0.799012"
            ]
          },
          "metadata": {
            "tags": []
          },
          "execution_count": 34
        }
      ]
    },
    {
      "cell_type": "code",
      "metadata": {
        "colab": {
          "base_uri": "https://localhost:8080/"
        },
        "id": "oDnpM07rTGPt",
        "outputId": "da0771e7-11a4-407f-9907-63aa5edc1d14"
      },
      "source": [
        "type(df)"
      ],
      "execution_count": 35,
      "outputs": [
        {
          "output_type": "execute_result",
          "data": {
            "text/plain": [
              "pandas.core.frame.DataFrame"
            ]
          },
          "metadata": {
            "tags": []
          },
          "execution_count": 35
        }
      ]
    },
    {
      "cell_type": "code",
      "metadata": {
        "colab": {
          "base_uri": "https://localhost:8080/"
        },
        "id": "Wx41QEBiTeLt",
        "outputId": "575b13d0-a8c1-430f-8c9e-ae26898ecb4d"
      },
      "source": [
        "df2 = pd.DataFrame(\n",
        "    {\n",
        "        'A': 1.,\n",
        "        'B': pd.Timestamp('20210430'),\n",
        "        'C': pd.Series(1, index=list(range(4)), dtype='float32'),\n",
        "        'D': np.array([3] * 4, dtype='int32'),\n",
        "        'E': pd.Categorical([\"test\", \"train\", \"test\", \"train\"]),\n",
        "        'F': 'foo'\n",
        "    }\n",
        ")\n",
        "\n",
        "print(type(df2))\n",
        "print(df2)\n",
        "df2\n",
        "\n",
        "print()\n",
        "\n",
        "df2.dtypes"
      ],
      "execution_count": 44,
      "outputs": [
        {
          "output_type": "stream",
          "text": [
            "<class 'pandas.core.frame.DataFrame'>\n",
            "     A          B    C  D      E    F\n",
            "0  1.0 2021-04-30  1.0  3   test  foo\n",
            "1  1.0 2021-04-30  1.0  3  train  foo\n",
            "2  1.0 2021-04-30  1.0  3   test  foo\n",
            "3  1.0 2021-04-30  1.0  3  train  foo\n",
            "\n"
          ],
          "name": "stdout"
        },
        {
          "output_type": "execute_result",
          "data": {
            "text/plain": [
              "A           float64\n",
              "B    datetime64[ns]\n",
              "C           float32\n",
              "D             int32\n",
              "E          category\n",
              "F            object\n",
              "dtype: object"
            ]
          },
          "metadata": {
            "tags": []
          },
          "execution_count": 44
        }
      ]
    },
    {
      "cell_type": "code",
      "metadata": {
        "colab": {
          "base_uri": "https://localhost:8080/",
          "height": 261
        },
        "id": "t4y0lAFDULbN",
        "outputId": "8a782e26-f2b9-4c0a-eefc-767f97092bf3"
      },
      "source": [
        "dates = pd.date_range('20210430', periods=6)\n",
        "\n",
        "df = pd.DataFrame(np.random.rand(6,4), index=dates, columns=list('ABCD'))\n",
        "\n",
        "print(df.tail(3))\n",
        "df.tail()"
      ],
      "execution_count": 45,
      "outputs": [
        {
          "output_type": "stream",
          "text": [
            "                   A         B         C         D\n",
            "2021-05-03  0.982134  0.206723  0.389218  0.442909\n",
            "2021-05-04  0.621181  0.644962  0.292571  0.541328\n",
            "2021-05-05  0.074132  0.767788  0.419595  0.878276\n"
          ],
          "name": "stdout"
        },
        {
          "output_type": "execute_result",
          "data": {
            "text/html": [
              "<div>\n",
              "<style scoped>\n",
              "    .dataframe tbody tr th:only-of-type {\n",
              "        vertical-align: middle;\n",
              "    }\n",
              "\n",
              "    .dataframe tbody tr th {\n",
              "        vertical-align: top;\n",
              "    }\n",
              "\n",
              "    .dataframe thead th {\n",
              "        text-align: right;\n",
              "    }\n",
              "</style>\n",
              "<table border=\"1\" class=\"dataframe\">\n",
              "  <thead>\n",
              "    <tr style=\"text-align: right;\">\n",
              "      <th></th>\n",
              "      <th>A</th>\n",
              "      <th>B</th>\n",
              "      <th>C</th>\n",
              "      <th>D</th>\n",
              "    </tr>\n",
              "  </thead>\n",
              "  <tbody>\n",
              "    <tr>\n",
              "      <th>2021-05-01</th>\n",
              "      <td>0.921982</td>\n",
              "      <td>0.199751</td>\n",
              "      <td>0.193211</td>\n",
              "      <td>0.817470</td>\n",
              "    </tr>\n",
              "    <tr>\n",
              "      <th>2021-05-02</th>\n",
              "      <td>0.969559</td>\n",
              "      <td>0.247734</td>\n",
              "      <td>0.872907</td>\n",
              "      <td>0.426149</td>\n",
              "    </tr>\n",
              "    <tr>\n",
              "      <th>2021-05-03</th>\n",
              "      <td>0.982134</td>\n",
              "      <td>0.206723</td>\n",
              "      <td>0.389218</td>\n",
              "      <td>0.442909</td>\n",
              "    </tr>\n",
              "    <tr>\n",
              "      <th>2021-05-04</th>\n",
              "      <td>0.621181</td>\n",
              "      <td>0.644962</td>\n",
              "      <td>0.292571</td>\n",
              "      <td>0.541328</td>\n",
              "    </tr>\n",
              "    <tr>\n",
              "      <th>2021-05-05</th>\n",
              "      <td>0.074132</td>\n",
              "      <td>0.767788</td>\n",
              "      <td>0.419595</td>\n",
              "      <td>0.878276</td>\n",
              "    </tr>\n",
              "  </tbody>\n",
              "</table>\n",
              "</div>"
            ],
            "text/plain": [
              "                   A         B         C         D\n",
              "2021-05-01  0.921982  0.199751  0.193211  0.817470\n",
              "2021-05-02  0.969559  0.247734  0.872907  0.426149\n",
              "2021-05-03  0.982134  0.206723  0.389218  0.442909\n",
              "2021-05-04  0.621181  0.644962  0.292571  0.541328\n",
              "2021-05-05  0.074132  0.767788  0.419595  0.878276"
            ]
          },
          "metadata": {
            "tags": []
          },
          "execution_count": 45
        }
      ]
    },
    {
      "cell_type": "code",
      "metadata": {
        "colab": {
          "base_uri": "https://localhost:8080/",
          "height": 191
        },
        "id": "rg0a7SikV37N",
        "outputId": "57d47345-1773-4f23-c743-9c94aaa13d71"
      },
      "source": [
        "df.head()"
      ],
      "execution_count": 50,
      "outputs": [
        {
          "output_type": "execute_result",
          "data": {
            "text/html": [
              "<div>\n",
              "<style scoped>\n",
              "    .dataframe tbody tr th:only-of-type {\n",
              "        vertical-align: middle;\n",
              "    }\n",
              "\n",
              "    .dataframe tbody tr th {\n",
              "        vertical-align: top;\n",
              "    }\n",
              "\n",
              "    .dataframe thead th {\n",
              "        text-align: right;\n",
              "    }\n",
              "</style>\n",
              "<table border=\"1\" class=\"dataframe\">\n",
              "  <thead>\n",
              "    <tr style=\"text-align: right;\">\n",
              "      <th></th>\n",
              "      <th>A</th>\n",
              "      <th>B</th>\n",
              "      <th>C</th>\n",
              "      <th>D</th>\n",
              "    </tr>\n",
              "  </thead>\n",
              "  <tbody>\n",
              "    <tr>\n",
              "      <th>2021-04-30</th>\n",
              "      <td>0.579914</td>\n",
              "      <td>0.556320</td>\n",
              "      <td>0.451755</td>\n",
              "      <td>0.303431</td>\n",
              "    </tr>\n",
              "    <tr>\n",
              "      <th>2021-05-01</th>\n",
              "      <td>0.921982</td>\n",
              "      <td>0.199751</td>\n",
              "      <td>0.193211</td>\n",
              "      <td>0.817470</td>\n",
              "    </tr>\n",
              "    <tr>\n",
              "      <th>2021-05-02</th>\n",
              "      <td>0.969559</td>\n",
              "      <td>0.247734</td>\n",
              "      <td>0.872907</td>\n",
              "      <td>0.426149</td>\n",
              "    </tr>\n",
              "    <tr>\n",
              "      <th>2021-05-03</th>\n",
              "      <td>0.982134</td>\n",
              "      <td>0.206723</td>\n",
              "      <td>0.389218</td>\n",
              "      <td>0.442909</td>\n",
              "    </tr>\n",
              "    <tr>\n",
              "      <th>2021-05-04</th>\n",
              "      <td>0.621181</td>\n",
              "      <td>0.644962</td>\n",
              "      <td>0.292571</td>\n",
              "      <td>0.541328</td>\n",
              "    </tr>\n",
              "  </tbody>\n",
              "</table>\n",
              "</div>"
            ],
            "text/plain": [
              "                   A         B         C         D\n",
              "2021-04-30  0.579914  0.556320  0.451755  0.303431\n",
              "2021-05-01  0.921982  0.199751  0.193211  0.817470\n",
              "2021-05-02  0.969559  0.247734  0.872907  0.426149\n",
              "2021-05-03  0.982134  0.206723  0.389218  0.442909\n",
              "2021-05-04  0.621181  0.644962  0.292571  0.541328"
            ]
          },
          "metadata": {
            "tags": []
          },
          "execution_count": 50
        }
      ]
    },
    {
      "cell_type": "code",
      "metadata": {
        "colab": {
          "base_uri": "https://localhost:8080/",
          "height": 133
        },
        "id": "yMZsWxhmWOct",
        "outputId": "7cc811ba-0bee-4c19-9d79-bde7081a06aa"
      },
      "source": [
        "df.tail(3)"
      ],
      "execution_count": 51,
      "outputs": [
        {
          "output_type": "execute_result",
          "data": {
            "text/html": [
              "<div>\n",
              "<style scoped>\n",
              "    .dataframe tbody tr th:only-of-type {\n",
              "        vertical-align: middle;\n",
              "    }\n",
              "\n",
              "    .dataframe tbody tr th {\n",
              "        vertical-align: top;\n",
              "    }\n",
              "\n",
              "    .dataframe thead th {\n",
              "        text-align: right;\n",
              "    }\n",
              "</style>\n",
              "<table border=\"1\" class=\"dataframe\">\n",
              "  <thead>\n",
              "    <tr style=\"text-align: right;\">\n",
              "      <th></th>\n",
              "      <th>A</th>\n",
              "      <th>B</th>\n",
              "      <th>C</th>\n",
              "      <th>D</th>\n",
              "    </tr>\n",
              "  </thead>\n",
              "  <tbody>\n",
              "    <tr>\n",
              "      <th>2021-05-03</th>\n",
              "      <td>0.982134</td>\n",
              "      <td>0.206723</td>\n",
              "      <td>0.389218</td>\n",
              "      <td>0.442909</td>\n",
              "    </tr>\n",
              "    <tr>\n",
              "      <th>2021-05-04</th>\n",
              "      <td>0.621181</td>\n",
              "      <td>0.644962</td>\n",
              "      <td>0.292571</td>\n",
              "      <td>0.541328</td>\n",
              "    </tr>\n",
              "    <tr>\n",
              "      <th>2021-05-05</th>\n",
              "      <td>0.074132</td>\n",
              "      <td>0.767788</td>\n",
              "      <td>0.419595</td>\n",
              "      <td>0.878276</td>\n",
              "    </tr>\n",
              "  </tbody>\n",
              "</table>\n",
              "</div>"
            ],
            "text/plain": [
              "                   A         B         C         D\n",
              "2021-05-03  0.982134  0.206723  0.389218  0.442909\n",
              "2021-05-04  0.621181  0.644962  0.292571  0.541328\n",
              "2021-05-05  0.074132  0.767788  0.419595  0.878276"
            ]
          },
          "metadata": {
            "tags": []
          },
          "execution_count": 51
        }
      ]
    },
    {
      "cell_type": "code",
      "metadata": {
        "colab": {
          "base_uri": "https://localhost:8080/"
        },
        "id": "naJRe_3eWTTF",
        "outputId": "633ab8f4-c273-4108-cf02-d1c16baf3bf0"
      },
      "source": [
        "dates"
      ],
      "execution_count": 52,
      "outputs": [
        {
          "output_type": "execute_result",
          "data": {
            "text/plain": [
              "DatetimeIndex(['2021-04-30', '2021-05-01', '2021-05-02', '2021-05-03',\n",
              "               '2021-05-04', '2021-05-05'],\n",
              "              dtype='datetime64[ns]', freq='D')"
            ]
          },
          "metadata": {
            "tags": []
          },
          "execution_count": 52
        }
      ]
    },
    {
      "cell_type": "code",
      "metadata": {
        "colab": {
          "base_uri": "https://localhost:8080/",
          "height": 220
        },
        "id": "0Xj_GrOHWr6N",
        "outputId": "0df3a373-509f-4bf5-f4c4-4ceee71f7f00"
      },
      "source": [
        "df"
      ],
      "execution_count": 53,
      "outputs": [
        {
          "output_type": "execute_result",
          "data": {
            "text/html": [
              "<div>\n",
              "<style scoped>\n",
              "    .dataframe tbody tr th:only-of-type {\n",
              "        vertical-align: middle;\n",
              "    }\n",
              "\n",
              "    .dataframe tbody tr th {\n",
              "        vertical-align: top;\n",
              "    }\n",
              "\n",
              "    .dataframe thead th {\n",
              "        text-align: right;\n",
              "    }\n",
              "</style>\n",
              "<table border=\"1\" class=\"dataframe\">\n",
              "  <thead>\n",
              "    <tr style=\"text-align: right;\">\n",
              "      <th></th>\n",
              "      <th>A</th>\n",
              "      <th>B</th>\n",
              "      <th>C</th>\n",
              "      <th>D</th>\n",
              "    </tr>\n",
              "  </thead>\n",
              "  <tbody>\n",
              "    <tr>\n",
              "      <th>2021-04-30</th>\n",
              "      <td>0.579914</td>\n",
              "      <td>0.556320</td>\n",
              "      <td>0.451755</td>\n",
              "      <td>0.303431</td>\n",
              "    </tr>\n",
              "    <tr>\n",
              "      <th>2021-05-01</th>\n",
              "      <td>0.921982</td>\n",
              "      <td>0.199751</td>\n",
              "      <td>0.193211</td>\n",
              "      <td>0.817470</td>\n",
              "    </tr>\n",
              "    <tr>\n",
              "      <th>2021-05-02</th>\n",
              "      <td>0.969559</td>\n",
              "      <td>0.247734</td>\n",
              "      <td>0.872907</td>\n",
              "      <td>0.426149</td>\n",
              "    </tr>\n",
              "    <tr>\n",
              "      <th>2021-05-03</th>\n",
              "      <td>0.982134</td>\n",
              "      <td>0.206723</td>\n",
              "      <td>0.389218</td>\n",
              "      <td>0.442909</td>\n",
              "    </tr>\n",
              "    <tr>\n",
              "      <th>2021-05-04</th>\n",
              "      <td>0.621181</td>\n",
              "      <td>0.644962</td>\n",
              "      <td>0.292571</td>\n",
              "      <td>0.541328</td>\n",
              "    </tr>\n",
              "    <tr>\n",
              "      <th>2021-05-05</th>\n",
              "      <td>0.074132</td>\n",
              "      <td>0.767788</td>\n",
              "      <td>0.419595</td>\n",
              "      <td>0.878276</td>\n",
              "    </tr>\n",
              "  </tbody>\n",
              "</table>\n",
              "</div>"
            ],
            "text/plain": [
              "                   A         B         C         D\n",
              "2021-04-30  0.579914  0.556320  0.451755  0.303431\n",
              "2021-05-01  0.921982  0.199751  0.193211  0.817470\n",
              "2021-05-02  0.969559  0.247734  0.872907  0.426149\n",
              "2021-05-03  0.982134  0.206723  0.389218  0.442909\n",
              "2021-05-04  0.621181  0.644962  0.292571  0.541328\n",
              "2021-05-05  0.074132  0.767788  0.419595  0.878276"
            ]
          },
          "metadata": {
            "tags": []
          },
          "execution_count": 53
        }
      ]
    },
    {
      "cell_type": "code",
      "metadata": {
        "colab": {
          "base_uri": "https://localhost:8080/"
        },
        "id": "eHYJYEDuWsQV",
        "outputId": "d28aa95f-0b4a-4feb-d6a0-e79b5e0ccce5"
      },
      "source": [
        "df.index"
      ],
      "execution_count": 54,
      "outputs": [
        {
          "output_type": "execute_result",
          "data": {
            "text/plain": [
              "DatetimeIndex(['2021-04-30', '2021-05-01', '2021-05-02', '2021-05-03',\n",
              "               '2021-05-04', '2021-05-05'],\n",
              "              dtype='datetime64[ns]', freq='D')"
            ]
          },
          "metadata": {
            "tags": []
          },
          "execution_count": 54
        }
      ]
    },
    {
      "cell_type": "code",
      "metadata": {
        "colab": {
          "base_uri": "https://localhost:8080/"
        },
        "id": "aVny-xaiW00N",
        "outputId": "4f7df40c-8c4c-4c7c-a541-284c217668de"
      },
      "source": [
        "df.columns"
      ],
      "execution_count": 55,
      "outputs": [
        {
          "output_type": "execute_result",
          "data": {
            "text/plain": [
              "Index(['A', 'B', 'C', 'D'], dtype='object')"
            ]
          },
          "metadata": {
            "tags": []
          },
          "execution_count": 55
        }
      ]
    },
    {
      "cell_type": "code",
      "metadata": {
        "colab": {
          "base_uri": "https://localhost:8080/"
        },
        "id": "bpPD6Q5rXFb9",
        "outputId": "b3fa0508-1905-4d08-9540-f8413204434a"
      },
      "source": [
        "df.values"
      ],
      "execution_count": 56,
      "outputs": [
        {
          "output_type": "execute_result",
          "data": {
            "text/plain": [
              "array([[0.57991442, 0.55631953, 0.45175511, 0.30343141],\n",
              "       [0.92198187, 0.1997509 , 0.19321053, 0.81746959],\n",
              "       [0.96955935, 0.24773389, 0.87290703, 0.42614867],\n",
              "       [0.9821339 , 0.20672333, 0.3892182 , 0.44290917],\n",
              "       [0.62118146, 0.64496161, 0.29257109, 0.54132756],\n",
              "       [0.07413222, 0.76778829, 0.41959457, 0.8782763 ]])"
            ]
          },
          "metadata": {
            "tags": []
          },
          "execution_count": 56
        }
      ]
    },
    {
      "cell_type": "code",
      "metadata": {
        "colab": {
          "base_uri": "https://localhost:8080/",
          "height": 277
        },
        "id": "PYLYErIyXLD1",
        "outputId": "8dfec128-48f5-441e-c626-7f6eed387bd8"
      },
      "source": [
        "df.describe()"
      ],
      "execution_count": 58,
      "outputs": [
        {
          "output_type": "execute_result",
          "data": {
            "text/html": [
              "<div>\n",
              "<style scoped>\n",
              "    .dataframe tbody tr th:only-of-type {\n",
              "        vertical-align: middle;\n",
              "    }\n",
              "\n",
              "    .dataframe tbody tr th {\n",
              "        vertical-align: top;\n",
              "    }\n",
              "\n",
              "    .dataframe thead th {\n",
              "        text-align: right;\n",
              "    }\n",
              "</style>\n",
              "<table border=\"1\" class=\"dataframe\">\n",
              "  <thead>\n",
              "    <tr style=\"text-align: right;\">\n",
              "      <th></th>\n",
              "      <th>A</th>\n",
              "      <th>B</th>\n",
              "      <th>C</th>\n",
              "      <th>D</th>\n",
              "    </tr>\n",
              "  </thead>\n",
              "  <tbody>\n",
              "    <tr>\n",
              "      <th>count</th>\n",
              "      <td>6.000000</td>\n",
              "      <td>6.000000</td>\n",
              "      <td>6.000000</td>\n",
              "      <td>6.000000</td>\n",
              "    </tr>\n",
              "    <tr>\n",
              "      <th>mean</th>\n",
              "      <td>0.691484</td>\n",
              "      <td>0.437213</td>\n",
              "      <td>0.436543</td>\n",
              "      <td>0.568260</td>\n",
              "    </tr>\n",
              "    <tr>\n",
              "      <th>std</th>\n",
              "      <td>0.350270</td>\n",
              "      <td>0.249817</td>\n",
              "      <td>0.233714</td>\n",
              "      <td>0.230210</td>\n",
              "    </tr>\n",
              "    <tr>\n",
              "      <th>min</th>\n",
              "      <td>0.074132</td>\n",
              "      <td>0.199751</td>\n",
              "      <td>0.193211</td>\n",
              "      <td>0.303431</td>\n",
              "    </tr>\n",
              "    <tr>\n",
              "      <th>25%</th>\n",
              "      <td>0.590231</td>\n",
              "      <td>0.216976</td>\n",
              "      <td>0.316733</td>\n",
              "      <td>0.430339</td>\n",
              "    </tr>\n",
              "    <tr>\n",
              "      <th>50%</th>\n",
              "      <td>0.771582</td>\n",
              "      <td>0.402027</td>\n",
              "      <td>0.404406</td>\n",
              "      <td>0.492118</td>\n",
              "    </tr>\n",
              "    <tr>\n",
              "      <th>75%</th>\n",
              "      <td>0.957665</td>\n",
              "      <td>0.622801</td>\n",
              "      <td>0.443715</td>\n",
              "      <td>0.748434</td>\n",
              "    </tr>\n",
              "    <tr>\n",
              "      <th>max</th>\n",
              "      <td>0.982134</td>\n",
              "      <td>0.767788</td>\n",
              "      <td>0.872907</td>\n",
              "      <td>0.878276</td>\n",
              "    </tr>\n",
              "  </tbody>\n",
              "</table>\n",
              "</div>"
            ],
            "text/plain": [
              "              A         B         C         D\n",
              "count  6.000000  6.000000  6.000000  6.000000\n",
              "mean   0.691484  0.437213  0.436543  0.568260\n",
              "std    0.350270  0.249817  0.233714  0.230210\n",
              "min    0.074132  0.199751  0.193211  0.303431\n",
              "25%    0.590231  0.216976  0.316733  0.430339\n",
              "50%    0.771582  0.402027  0.404406  0.492118\n",
              "75%    0.957665  0.622801  0.443715  0.748434\n",
              "max    0.982134  0.767788  0.872907  0.878276"
            ]
          },
          "metadata": {
            "tags": []
          },
          "execution_count": 58
        }
      ]
    },
    {
      "cell_type": "code",
      "metadata": {
        "colab": {
          "base_uri": "https://localhost:8080/",
          "height": 220
        },
        "id": "L_onPb1cXTlN",
        "outputId": "a80e733b-9ab7-49f3-de93-0831734af109"
      },
      "source": [
        "df"
      ],
      "execution_count": 59,
      "outputs": [
        {
          "output_type": "execute_result",
          "data": {
            "text/html": [
              "<div>\n",
              "<style scoped>\n",
              "    .dataframe tbody tr th:only-of-type {\n",
              "        vertical-align: middle;\n",
              "    }\n",
              "\n",
              "    .dataframe tbody tr th {\n",
              "        vertical-align: top;\n",
              "    }\n",
              "\n",
              "    .dataframe thead th {\n",
              "        text-align: right;\n",
              "    }\n",
              "</style>\n",
              "<table border=\"1\" class=\"dataframe\">\n",
              "  <thead>\n",
              "    <tr style=\"text-align: right;\">\n",
              "      <th></th>\n",
              "      <th>A</th>\n",
              "      <th>B</th>\n",
              "      <th>C</th>\n",
              "      <th>D</th>\n",
              "    </tr>\n",
              "  </thead>\n",
              "  <tbody>\n",
              "    <tr>\n",
              "      <th>2021-04-30</th>\n",
              "      <td>0.579914</td>\n",
              "      <td>0.556320</td>\n",
              "      <td>0.451755</td>\n",
              "      <td>0.303431</td>\n",
              "    </tr>\n",
              "    <tr>\n",
              "      <th>2021-05-01</th>\n",
              "      <td>0.921982</td>\n",
              "      <td>0.199751</td>\n",
              "      <td>0.193211</td>\n",
              "      <td>0.817470</td>\n",
              "    </tr>\n",
              "    <tr>\n",
              "      <th>2021-05-02</th>\n",
              "      <td>0.969559</td>\n",
              "      <td>0.247734</td>\n",
              "      <td>0.872907</td>\n",
              "      <td>0.426149</td>\n",
              "    </tr>\n",
              "    <tr>\n",
              "      <th>2021-05-03</th>\n",
              "      <td>0.982134</td>\n",
              "      <td>0.206723</td>\n",
              "      <td>0.389218</td>\n",
              "      <td>0.442909</td>\n",
              "    </tr>\n",
              "    <tr>\n",
              "      <th>2021-05-04</th>\n",
              "      <td>0.621181</td>\n",
              "      <td>0.644962</td>\n",
              "      <td>0.292571</td>\n",
              "      <td>0.541328</td>\n",
              "    </tr>\n",
              "    <tr>\n",
              "      <th>2021-05-05</th>\n",
              "      <td>0.074132</td>\n",
              "      <td>0.767788</td>\n",
              "      <td>0.419595</td>\n",
              "      <td>0.878276</td>\n",
              "    </tr>\n",
              "  </tbody>\n",
              "</table>\n",
              "</div>"
            ],
            "text/plain": [
              "                   A         B         C         D\n",
              "2021-04-30  0.579914  0.556320  0.451755  0.303431\n",
              "2021-05-01  0.921982  0.199751  0.193211  0.817470\n",
              "2021-05-02  0.969559  0.247734  0.872907  0.426149\n",
              "2021-05-03  0.982134  0.206723  0.389218  0.442909\n",
              "2021-05-04  0.621181  0.644962  0.292571  0.541328\n",
              "2021-05-05  0.074132  0.767788  0.419595  0.878276"
            ]
          },
          "metadata": {
            "tags": []
          },
          "execution_count": 59
        }
      ]
    },
    {
      "cell_type": "code",
      "metadata": {
        "colab": {
          "base_uri": "https://localhost:8080/",
          "height": 162
        },
        "id": "wz9LdhdnXwvF",
        "outputId": "396b2728-63b5-417a-f092-55aefd733bda"
      },
      "source": [
        "df.T"
      ],
      "execution_count": 60,
      "outputs": [
        {
          "output_type": "execute_result",
          "data": {
            "text/html": [
              "<div>\n",
              "<style scoped>\n",
              "    .dataframe tbody tr th:only-of-type {\n",
              "        vertical-align: middle;\n",
              "    }\n",
              "\n",
              "    .dataframe tbody tr th {\n",
              "        vertical-align: top;\n",
              "    }\n",
              "\n",
              "    .dataframe thead th {\n",
              "        text-align: right;\n",
              "    }\n",
              "</style>\n",
              "<table border=\"1\" class=\"dataframe\">\n",
              "  <thead>\n",
              "    <tr style=\"text-align: right;\">\n",
              "      <th></th>\n",
              "      <th>2021-04-30</th>\n",
              "      <th>2021-05-01</th>\n",
              "      <th>2021-05-02</th>\n",
              "      <th>2021-05-03</th>\n",
              "      <th>2021-05-04</th>\n",
              "      <th>2021-05-05</th>\n",
              "    </tr>\n",
              "  </thead>\n",
              "  <tbody>\n",
              "    <tr>\n",
              "      <th>A</th>\n",
              "      <td>0.579914</td>\n",
              "      <td>0.921982</td>\n",
              "      <td>0.969559</td>\n",
              "      <td>0.982134</td>\n",
              "      <td>0.621181</td>\n",
              "      <td>0.074132</td>\n",
              "    </tr>\n",
              "    <tr>\n",
              "      <th>B</th>\n",
              "      <td>0.556320</td>\n",
              "      <td>0.199751</td>\n",
              "      <td>0.247734</td>\n",
              "      <td>0.206723</td>\n",
              "      <td>0.644962</td>\n",
              "      <td>0.767788</td>\n",
              "    </tr>\n",
              "    <tr>\n",
              "      <th>C</th>\n",
              "      <td>0.451755</td>\n",
              "      <td>0.193211</td>\n",
              "      <td>0.872907</td>\n",
              "      <td>0.389218</td>\n",
              "      <td>0.292571</td>\n",
              "      <td>0.419595</td>\n",
              "    </tr>\n",
              "    <tr>\n",
              "      <th>D</th>\n",
              "      <td>0.303431</td>\n",
              "      <td>0.817470</td>\n",
              "      <td>0.426149</td>\n",
              "      <td>0.442909</td>\n",
              "      <td>0.541328</td>\n",
              "      <td>0.878276</td>\n",
              "    </tr>\n",
              "  </tbody>\n",
              "</table>\n",
              "</div>"
            ],
            "text/plain": [
              "   2021-04-30  2021-05-01  2021-05-02  2021-05-03  2021-05-04  2021-05-05\n",
              "A    0.579914    0.921982    0.969559    0.982134    0.621181    0.074132\n",
              "B    0.556320    0.199751    0.247734    0.206723    0.644962    0.767788\n",
              "C    0.451755    0.193211    0.872907    0.389218    0.292571    0.419595\n",
              "D    0.303431    0.817470    0.426149    0.442909    0.541328    0.878276"
            ]
          },
          "metadata": {
            "tags": []
          },
          "execution_count": 60
        }
      ]
    },
    {
      "cell_type": "code",
      "metadata": {
        "colab": {
          "base_uri": "https://localhost:8080/",
          "height": 220
        },
        "id": "iL8XrELvX3Gl",
        "outputId": "07c3e079-39f7-49be-ea52-f85251b62f88"
      },
      "source": [
        "df"
      ],
      "execution_count": 61,
      "outputs": [
        {
          "output_type": "execute_result",
          "data": {
            "text/html": [
              "<div>\n",
              "<style scoped>\n",
              "    .dataframe tbody tr th:only-of-type {\n",
              "        vertical-align: middle;\n",
              "    }\n",
              "\n",
              "    .dataframe tbody tr th {\n",
              "        vertical-align: top;\n",
              "    }\n",
              "\n",
              "    .dataframe thead th {\n",
              "        text-align: right;\n",
              "    }\n",
              "</style>\n",
              "<table border=\"1\" class=\"dataframe\">\n",
              "  <thead>\n",
              "    <tr style=\"text-align: right;\">\n",
              "      <th></th>\n",
              "      <th>A</th>\n",
              "      <th>B</th>\n",
              "      <th>C</th>\n",
              "      <th>D</th>\n",
              "    </tr>\n",
              "  </thead>\n",
              "  <tbody>\n",
              "    <tr>\n",
              "      <th>2021-04-30</th>\n",
              "      <td>0.579914</td>\n",
              "      <td>0.556320</td>\n",
              "      <td>0.451755</td>\n",
              "      <td>0.303431</td>\n",
              "    </tr>\n",
              "    <tr>\n",
              "      <th>2021-05-01</th>\n",
              "      <td>0.921982</td>\n",
              "      <td>0.199751</td>\n",
              "      <td>0.193211</td>\n",
              "      <td>0.817470</td>\n",
              "    </tr>\n",
              "    <tr>\n",
              "      <th>2021-05-02</th>\n",
              "      <td>0.969559</td>\n",
              "      <td>0.247734</td>\n",
              "      <td>0.872907</td>\n",
              "      <td>0.426149</td>\n",
              "    </tr>\n",
              "    <tr>\n",
              "      <th>2021-05-03</th>\n",
              "      <td>0.982134</td>\n",
              "      <td>0.206723</td>\n",
              "      <td>0.389218</td>\n",
              "      <td>0.442909</td>\n",
              "    </tr>\n",
              "    <tr>\n",
              "      <th>2021-05-04</th>\n",
              "      <td>0.621181</td>\n",
              "      <td>0.644962</td>\n",
              "      <td>0.292571</td>\n",
              "      <td>0.541328</td>\n",
              "    </tr>\n",
              "    <tr>\n",
              "      <th>2021-05-05</th>\n",
              "      <td>0.074132</td>\n",
              "      <td>0.767788</td>\n",
              "      <td>0.419595</td>\n",
              "      <td>0.878276</td>\n",
              "    </tr>\n",
              "  </tbody>\n",
              "</table>\n",
              "</div>"
            ],
            "text/plain": [
              "                   A         B         C         D\n",
              "2021-04-30  0.579914  0.556320  0.451755  0.303431\n",
              "2021-05-01  0.921982  0.199751  0.193211  0.817470\n",
              "2021-05-02  0.969559  0.247734  0.872907  0.426149\n",
              "2021-05-03  0.982134  0.206723  0.389218  0.442909\n",
              "2021-05-04  0.621181  0.644962  0.292571  0.541328\n",
              "2021-05-05  0.074132  0.767788  0.419595  0.878276"
            ]
          },
          "metadata": {
            "tags": []
          },
          "execution_count": 61
        }
      ]
    },
    {
      "cell_type": "code",
      "metadata": {
        "colab": {
          "base_uri": "https://localhost:8080/",
          "height": 220
        },
        "id": "OoWwPez2YJlV",
        "outputId": "9e26c218-e9ed-44aa-8f01-3205fcb6e39b"
      },
      "source": [
        "df.sort_index(axis=0, ascending=False)"
      ],
      "execution_count": 64,
      "outputs": [
        {
          "output_type": "execute_result",
          "data": {
            "text/html": [
              "<div>\n",
              "<style scoped>\n",
              "    .dataframe tbody tr th:only-of-type {\n",
              "        vertical-align: middle;\n",
              "    }\n",
              "\n",
              "    .dataframe tbody tr th {\n",
              "        vertical-align: top;\n",
              "    }\n",
              "\n",
              "    .dataframe thead th {\n",
              "        text-align: right;\n",
              "    }\n",
              "</style>\n",
              "<table border=\"1\" class=\"dataframe\">\n",
              "  <thead>\n",
              "    <tr style=\"text-align: right;\">\n",
              "      <th></th>\n",
              "      <th>A</th>\n",
              "      <th>B</th>\n",
              "      <th>C</th>\n",
              "      <th>D</th>\n",
              "    </tr>\n",
              "  </thead>\n",
              "  <tbody>\n",
              "    <tr>\n",
              "      <th>2021-05-05</th>\n",
              "      <td>0.074132</td>\n",
              "      <td>0.767788</td>\n",
              "      <td>0.419595</td>\n",
              "      <td>0.878276</td>\n",
              "    </tr>\n",
              "    <tr>\n",
              "      <th>2021-05-04</th>\n",
              "      <td>0.621181</td>\n",
              "      <td>0.644962</td>\n",
              "      <td>0.292571</td>\n",
              "      <td>0.541328</td>\n",
              "    </tr>\n",
              "    <tr>\n",
              "      <th>2021-05-03</th>\n",
              "      <td>0.982134</td>\n",
              "      <td>0.206723</td>\n",
              "      <td>0.389218</td>\n",
              "      <td>0.442909</td>\n",
              "    </tr>\n",
              "    <tr>\n",
              "      <th>2021-05-02</th>\n",
              "      <td>0.969559</td>\n",
              "      <td>0.247734</td>\n",
              "      <td>0.872907</td>\n",
              "      <td>0.426149</td>\n",
              "    </tr>\n",
              "    <tr>\n",
              "      <th>2021-05-01</th>\n",
              "      <td>0.921982</td>\n",
              "      <td>0.199751</td>\n",
              "      <td>0.193211</td>\n",
              "      <td>0.817470</td>\n",
              "    </tr>\n",
              "    <tr>\n",
              "      <th>2021-04-30</th>\n",
              "      <td>0.579914</td>\n",
              "      <td>0.556320</td>\n",
              "      <td>0.451755</td>\n",
              "      <td>0.303431</td>\n",
              "    </tr>\n",
              "  </tbody>\n",
              "</table>\n",
              "</div>"
            ],
            "text/plain": [
              "                   A         B         C         D\n",
              "2021-05-05  0.074132  0.767788  0.419595  0.878276\n",
              "2021-05-04  0.621181  0.644962  0.292571  0.541328\n",
              "2021-05-03  0.982134  0.206723  0.389218  0.442909\n",
              "2021-05-02  0.969559  0.247734  0.872907  0.426149\n",
              "2021-05-01  0.921982  0.199751  0.193211  0.817470\n",
              "2021-04-30  0.579914  0.556320  0.451755  0.303431"
            ]
          },
          "metadata": {
            "tags": []
          },
          "execution_count": 64
        }
      ]
    },
    {
      "cell_type": "code",
      "metadata": {
        "colab": {
          "base_uri": "https://localhost:8080/",
          "height": 220
        },
        "id": "0rF27ZO6YXdN",
        "outputId": "7986ef87-942d-4363-8606-a9f627dc8af3"
      },
      "source": [
        "df.sort_index(axis=0, ascending=True)"
      ],
      "execution_count": 65,
      "outputs": [
        {
          "output_type": "execute_result",
          "data": {
            "text/html": [
              "<div>\n",
              "<style scoped>\n",
              "    .dataframe tbody tr th:only-of-type {\n",
              "        vertical-align: middle;\n",
              "    }\n",
              "\n",
              "    .dataframe tbody tr th {\n",
              "        vertical-align: top;\n",
              "    }\n",
              "\n",
              "    .dataframe thead th {\n",
              "        text-align: right;\n",
              "    }\n",
              "</style>\n",
              "<table border=\"1\" class=\"dataframe\">\n",
              "  <thead>\n",
              "    <tr style=\"text-align: right;\">\n",
              "      <th></th>\n",
              "      <th>A</th>\n",
              "      <th>B</th>\n",
              "      <th>C</th>\n",
              "      <th>D</th>\n",
              "    </tr>\n",
              "  </thead>\n",
              "  <tbody>\n",
              "    <tr>\n",
              "      <th>2021-04-30</th>\n",
              "      <td>0.579914</td>\n",
              "      <td>0.556320</td>\n",
              "      <td>0.451755</td>\n",
              "      <td>0.303431</td>\n",
              "    </tr>\n",
              "    <tr>\n",
              "      <th>2021-05-01</th>\n",
              "      <td>0.921982</td>\n",
              "      <td>0.199751</td>\n",
              "      <td>0.193211</td>\n",
              "      <td>0.817470</td>\n",
              "    </tr>\n",
              "    <tr>\n",
              "      <th>2021-05-02</th>\n",
              "      <td>0.969559</td>\n",
              "      <td>0.247734</td>\n",
              "      <td>0.872907</td>\n",
              "      <td>0.426149</td>\n",
              "    </tr>\n",
              "    <tr>\n",
              "      <th>2021-05-03</th>\n",
              "      <td>0.982134</td>\n",
              "      <td>0.206723</td>\n",
              "      <td>0.389218</td>\n",
              "      <td>0.442909</td>\n",
              "    </tr>\n",
              "    <tr>\n",
              "      <th>2021-05-04</th>\n",
              "      <td>0.621181</td>\n",
              "      <td>0.644962</td>\n",
              "      <td>0.292571</td>\n",
              "      <td>0.541328</td>\n",
              "    </tr>\n",
              "    <tr>\n",
              "      <th>2021-05-05</th>\n",
              "      <td>0.074132</td>\n",
              "      <td>0.767788</td>\n",
              "      <td>0.419595</td>\n",
              "      <td>0.878276</td>\n",
              "    </tr>\n",
              "  </tbody>\n",
              "</table>\n",
              "</div>"
            ],
            "text/plain": [
              "                   A         B         C         D\n",
              "2021-04-30  0.579914  0.556320  0.451755  0.303431\n",
              "2021-05-01  0.921982  0.199751  0.193211  0.817470\n",
              "2021-05-02  0.969559  0.247734  0.872907  0.426149\n",
              "2021-05-03  0.982134  0.206723  0.389218  0.442909\n",
              "2021-05-04  0.621181  0.644962  0.292571  0.541328\n",
              "2021-05-05  0.074132  0.767788  0.419595  0.878276"
            ]
          },
          "metadata": {
            "tags": []
          },
          "execution_count": 65
        }
      ]
    },
    {
      "cell_type": "code",
      "metadata": {
        "colab": {
          "base_uri": "https://localhost:8080/",
          "height": 220
        },
        "id": "Fh41rzJbZRh1",
        "outputId": "6fab1214-1f8c-4443-8e2c-7e931a25cd55"
      },
      "source": [
        "df.sort_index(axis=1, ascending=False)"
      ],
      "execution_count": 67,
      "outputs": [
        {
          "output_type": "execute_result",
          "data": {
            "text/html": [
              "<div>\n",
              "<style scoped>\n",
              "    .dataframe tbody tr th:only-of-type {\n",
              "        vertical-align: middle;\n",
              "    }\n",
              "\n",
              "    .dataframe tbody tr th {\n",
              "        vertical-align: top;\n",
              "    }\n",
              "\n",
              "    .dataframe thead th {\n",
              "        text-align: right;\n",
              "    }\n",
              "</style>\n",
              "<table border=\"1\" class=\"dataframe\">\n",
              "  <thead>\n",
              "    <tr style=\"text-align: right;\">\n",
              "      <th></th>\n",
              "      <th>D</th>\n",
              "      <th>C</th>\n",
              "      <th>B</th>\n",
              "      <th>A</th>\n",
              "    </tr>\n",
              "  </thead>\n",
              "  <tbody>\n",
              "    <tr>\n",
              "      <th>2021-04-30</th>\n",
              "      <td>0.303431</td>\n",
              "      <td>0.451755</td>\n",
              "      <td>0.556320</td>\n",
              "      <td>0.579914</td>\n",
              "    </tr>\n",
              "    <tr>\n",
              "      <th>2021-05-01</th>\n",
              "      <td>0.817470</td>\n",
              "      <td>0.193211</td>\n",
              "      <td>0.199751</td>\n",
              "      <td>0.921982</td>\n",
              "    </tr>\n",
              "    <tr>\n",
              "      <th>2021-05-02</th>\n",
              "      <td>0.426149</td>\n",
              "      <td>0.872907</td>\n",
              "      <td>0.247734</td>\n",
              "      <td>0.969559</td>\n",
              "    </tr>\n",
              "    <tr>\n",
              "      <th>2021-05-03</th>\n",
              "      <td>0.442909</td>\n",
              "      <td>0.389218</td>\n",
              "      <td>0.206723</td>\n",
              "      <td>0.982134</td>\n",
              "    </tr>\n",
              "    <tr>\n",
              "      <th>2021-05-04</th>\n",
              "      <td>0.541328</td>\n",
              "      <td>0.292571</td>\n",
              "      <td>0.644962</td>\n",
              "      <td>0.621181</td>\n",
              "    </tr>\n",
              "    <tr>\n",
              "      <th>2021-05-05</th>\n",
              "      <td>0.878276</td>\n",
              "      <td>0.419595</td>\n",
              "      <td>0.767788</td>\n",
              "      <td>0.074132</td>\n",
              "    </tr>\n",
              "  </tbody>\n",
              "</table>\n",
              "</div>"
            ],
            "text/plain": [
              "                   D         C         B         A\n",
              "2021-04-30  0.303431  0.451755  0.556320  0.579914\n",
              "2021-05-01  0.817470  0.193211  0.199751  0.921982\n",
              "2021-05-02  0.426149  0.872907  0.247734  0.969559\n",
              "2021-05-03  0.442909  0.389218  0.206723  0.982134\n",
              "2021-05-04  0.541328  0.292571  0.644962  0.621181\n",
              "2021-05-05  0.878276  0.419595  0.767788  0.074132"
            ]
          },
          "metadata": {
            "tags": []
          },
          "execution_count": 67
        }
      ]
    },
    {
      "cell_type": "code",
      "metadata": {
        "colab": {
          "base_uri": "https://localhost:8080/",
          "height": 220
        },
        "id": "mIteAj1-ZUFm",
        "outputId": "44317d5d-63ad-4798-d3fe-795c3b7e26ba"
      },
      "source": [
        "df.sort_index(axis=1, ascending=True)"
      ],
      "execution_count": 68,
      "outputs": [
        {
          "output_type": "execute_result",
          "data": {
            "text/html": [
              "<div>\n",
              "<style scoped>\n",
              "    .dataframe tbody tr th:only-of-type {\n",
              "        vertical-align: middle;\n",
              "    }\n",
              "\n",
              "    .dataframe tbody tr th {\n",
              "        vertical-align: top;\n",
              "    }\n",
              "\n",
              "    .dataframe thead th {\n",
              "        text-align: right;\n",
              "    }\n",
              "</style>\n",
              "<table border=\"1\" class=\"dataframe\">\n",
              "  <thead>\n",
              "    <tr style=\"text-align: right;\">\n",
              "      <th></th>\n",
              "      <th>A</th>\n",
              "      <th>B</th>\n",
              "      <th>C</th>\n",
              "      <th>D</th>\n",
              "    </tr>\n",
              "  </thead>\n",
              "  <tbody>\n",
              "    <tr>\n",
              "      <th>2021-04-30</th>\n",
              "      <td>0.579914</td>\n",
              "      <td>0.556320</td>\n",
              "      <td>0.451755</td>\n",
              "      <td>0.303431</td>\n",
              "    </tr>\n",
              "    <tr>\n",
              "      <th>2021-05-01</th>\n",
              "      <td>0.921982</td>\n",
              "      <td>0.199751</td>\n",
              "      <td>0.193211</td>\n",
              "      <td>0.817470</td>\n",
              "    </tr>\n",
              "    <tr>\n",
              "      <th>2021-05-02</th>\n",
              "      <td>0.969559</td>\n",
              "      <td>0.247734</td>\n",
              "      <td>0.872907</td>\n",
              "      <td>0.426149</td>\n",
              "    </tr>\n",
              "    <tr>\n",
              "      <th>2021-05-03</th>\n",
              "      <td>0.982134</td>\n",
              "      <td>0.206723</td>\n",
              "      <td>0.389218</td>\n",
              "      <td>0.442909</td>\n",
              "    </tr>\n",
              "    <tr>\n",
              "      <th>2021-05-04</th>\n",
              "      <td>0.621181</td>\n",
              "      <td>0.644962</td>\n",
              "      <td>0.292571</td>\n",
              "      <td>0.541328</td>\n",
              "    </tr>\n",
              "    <tr>\n",
              "      <th>2021-05-05</th>\n",
              "      <td>0.074132</td>\n",
              "      <td>0.767788</td>\n",
              "      <td>0.419595</td>\n",
              "      <td>0.878276</td>\n",
              "    </tr>\n",
              "  </tbody>\n",
              "</table>\n",
              "</div>"
            ],
            "text/plain": [
              "                   A         B         C         D\n",
              "2021-04-30  0.579914  0.556320  0.451755  0.303431\n",
              "2021-05-01  0.921982  0.199751  0.193211  0.817470\n",
              "2021-05-02  0.969559  0.247734  0.872907  0.426149\n",
              "2021-05-03  0.982134  0.206723  0.389218  0.442909\n",
              "2021-05-04  0.621181  0.644962  0.292571  0.541328\n",
              "2021-05-05  0.074132  0.767788  0.419595  0.878276"
            ]
          },
          "metadata": {
            "tags": []
          },
          "execution_count": 68
        }
      ]
    },
    {
      "cell_type": "code",
      "metadata": {
        "colab": {
          "base_uri": "https://localhost:8080/",
          "height": 220
        },
        "id": "xGEjpI-iZZP8",
        "outputId": "102b66d0-6c8f-4bf2-8c6a-22d53e56777e"
      },
      "source": [
        "df\n"
      ],
      "execution_count": 69,
      "outputs": [
        {
          "output_type": "execute_result",
          "data": {
            "text/html": [
              "<div>\n",
              "<style scoped>\n",
              "    .dataframe tbody tr th:only-of-type {\n",
              "        vertical-align: middle;\n",
              "    }\n",
              "\n",
              "    .dataframe tbody tr th {\n",
              "        vertical-align: top;\n",
              "    }\n",
              "\n",
              "    .dataframe thead th {\n",
              "        text-align: right;\n",
              "    }\n",
              "</style>\n",
              "<table border=\"1\" class=\"dataframe\">\n",
              "  <thead>\n",
              "    <tr style=\"text-align: right;\">\n",
              "      <th></th>\n",
              "      <th>A</th>\n",
              "      <th>B</th>\n",
              "      <th>C</th>\n",
              "      <th>D</th>\n",
              "    </tr>\n",
              "  </thead>\n",
              "  <tbody>\n",
              "    <tr>\n",
              "      <th>2021-04-30</th>\n",
              "      <td>0.579914</td>\n",
              "      <td>0.556320</td>\n",
              "      <td>0.451755</td>\n",
              "      <td>0.303431</td>\n",
              "    </tr>\n",
              "    <tr>\n",
              "      <th>2021-05-01</th>\n",
              "      <td>0.921982</td>\n",
              "      <td>0.199751</td>\n",
              "      <td>0.193211</td>\n",
              "      <td>0.817470</td>\n",
              "    </tr>\n",
              "    <tr>\n",
              "      <th>2021-05-02</th>\n",
              "      <td>0.969559</td>\n",
              "      <td>0.247734</td>\n",
              "      <td>0.872907</td>\n",
              "      <td>0.426149</td>\n",
              "    </tr>\n",
              "    <tr>\n",
              "      <th>2021-05-03</th>\n",
              "      <td>0.982134</td>\n",
              "      <td>0.206723</td>\n",
              "      <td>0.389218</td>\n",
              "      <td>0.442909</td>\n",
              "    </tr>\n",
              "    <tr>\n",
              "      <th>2021-05-04</th>\n",
              "      <td>0.621181</td>\n",
              "      <td>0.644962</td>\n",
              "      <td>0.292571</td>\n",
              "      <td>0.541328</td>\n",
              "    </tr>\n",
              "    <tr>\n",
              "      <th>2021-05-05</th>\n",
              "      <td>0.074132</td>\n",
              "      <td>0.767788</td>\n",
              "      <td>0.419595</td>\n",
              "      <td>0.878276</td>\n",
              "    </tr>\n",
              "  </tbody>\n",
              "</table>\n",
              "</div>"
            ],
            "text/plain": [
              "                   A         B         C         D\n",
              "2021-04-30  0.579914  0.556320  0.451755  0.303431\n",
              "2021-05-01  0.921982  0.199751  0.193211  0.817470\n",
              "2021-05-02  0.969559  0.247734  0.872907  0.426149\n",
              "2021-05-03  0.982134  0.206723  0.389218  0.442909\n",
              "2021-05-04  0.621181  0.644962  0.292571  0.541328\n",
              "2021-05-05  0.074132  0.767788  0.419595  0.878276"
            ]
          },
          "metadata": {
            "tags": []
          },
          "execution_count": 69
        }
      ]
    },
    {
      "cell_type": "code",
      "metadata": {
        "colab": {
          "base_uri": "https://localhost:8080/",
          "height": 220
        },
        "id": "8Kf_v1_uZZ7E",
        "outputId": "4ac90bbb-a837-41da-a2e4-edc1e9bb44eb"
      },
      "source": [
        "df.sort_values(by='B')"
      ],
      "execution_count": 70,
      "outputs": [
        {
          "output_type": "execute_result",
          "data": {
            "text/html": [
              "<div>\n",
              "<style scoped>\n",
              "    .dataframe tbody tr th:only-of-type {\n",
              "        vertical-align: middle;\n",
              "    }\n",
              "\n",
              "    .dataframe tbody tr th {\n",
              "        vertical-align: top;\n",
              "    }\n",
              "\n",
              "    .dataframe thead th {\n",
              "        text-align: right;\n",
              "    }\n",
              "</style>\n",
              "<table border=\"1\" class=\"dataframe\">\n",
              "  <thead>\n",
              "    <tr style=\"text-align: right;\">\n",
              "      <th></th>\n",
              "      <th>A</th>\n",
              "      <th>B</th>\n",
              "      <th>C</th>\n",
              "      <th>D</th>\n",
              "    </tr>\n",
              "  </thead>\n",
              "  <tbody>\n",
              "    <tr>\n",
              "      <th>2021-05-01</th>\n",
              "      <td>0.921982</td>\n",
              "      <td>0.199751</td>\n",
              "      <td>0.193211</td>\n",
              "      <td>0.817470</td>\n",
              "    </tr>\n",
              "    <tr>\n",
              "      <th>2021-05-03</th>\n",
              "      <td>0.982134</td>\n",
              "      <td>0.206723</td>\n",
              "      <td>0.389218</td>\n",
              "      <td>0.442909</td>\n",
              "    </tr>\n",
              "    <tr>\n",
              "      <th>2021-05-02</th>\n",
              "      <td>0.969559</td>\n",
              "      <td>0.247734</td>\n",
              "      <td>0.872907</td>\n",
              "      <td>0.426149</td>\n",
              "    </tr>\n",
              "    <tr>\n",
              "      <th>2021-04-30</th>\n",
              "      <td>0.579914</td>\n",
              "      <td>0.556320</td>\n",
              "      <td>0.451755</td>\n",
              "      <td>0.303431</td>\n",
              "    </tr>\n",
              "    <tr>\n",
              "      <th>2021-05-04</th>\n",
              "      <td>0.621181</td>\n",
              "      <td>0.644962</td>\n",
              "      <td>0.292571</td>\n",
              "      <td>0.541328</td>\n",
              "    </tr>\n",
              "    <tr>\n",
              "      <th>2021-05-05</th>\n",
              "      <td>0.074132</td>\n",
              "      <td>0.767788</td>\n",
              "      <td>0.419595</td>\n",
              "      <td>0.878276</td>\n",
              "    </tr>\n",
              "  </tbody>\n",
              "</table>\n",
              "</div>"
            ],
            "text/plain": [
              "                   A         B         C         D\n",
              "2021-05-01  0.921982  0.199751  0.193211  0.817470\n",
              "2021-05-03  0.982134  0.206723  0.389218  0.442909\n",
              "2021-05-02  0.969559  0.247734  0.872907  0.426149\n",
              "2021-04-30  0.579914  0.556320  0.451755  0.303431\n",
              "2021-05-04  0.621181  0.644962  0.292571  0.541328\n",
              "2021-05-05  0.074132  0.767788  0.419595  0.878276"
            ]
          },
          "metadata": {
            "tags": []
          },
          "execution_count": 70
        }
      ]
    },
    {
      "cell_type": "code",
      "metadata": {
        "id": "TfjpVZZ7ZiWq"
      },
      "source": [
        ""
      ],
      "execution_count": null,
      "outputs": []
    }
  ]
}