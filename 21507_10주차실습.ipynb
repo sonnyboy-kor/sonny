{
  "nbformat": 4,
  "nbformat_minor": 0,
  "metadata": {
    "colab": {
      "name": "21507_10주차실습.ipynb",
      "provenance": [],
      "authorship_tag": "ABX9TyMNIC+sPBsJJolyaIvvIEvu",
      "include_colab_link": true
    },
    "kernelspec": {
      "name": "python3",
      "display_name": "Python 3"
    },
    "language_info": {
      "name": "python"
    }
  },
  "cells": [
    {
      "cell_type": "markdown",
      "metadata": {
        "id": "view-in-github",
        "colab_type": "text"
      },
      "source": [
        "<a href=\"https://colab.research.google.com/github/sonnyboy-kor/sonny/blob/main/21507_10%EC%A3%BC%EC%B0%A8%EC%8B%A4%EC%8A%B5.ipynb\" target=\"_parent\"><img src=\"https://colab.research.google.com/assets/colab-badge.svg\" alt=\"Open In Colab\"/></a>"
      ]
    },
    {
      "cell_type": "code",
      "metadata": {
        "id": "6Eywms-5GMmI"
      },
      "source": [
        "import pandas as pd\n",
        "import numpy as np\n",
        "import matplotlib.pyplot as plt\n"
      ],
      "execution_count": 1,
      "outputs": []
    },
    {
      "cell_type": "code",
      "metadata": {
        "colab": {
          "base_uri": "https://localhost:8080/"
        },
        "id": "rhkT_UsDHdN7",
        "outputId": "0db7fa3e-fce5-40ac-f363-0e591799a76a"
      },
      "source": [
        "# 1. Series 생성\n",
        "\n",
        "s = pd.Series([1,3, 5, np.nan, 6, 8])\n",
        "s"
      ],
      "execution_count": 3,
      "outputs": [
        {
          "output_type": "execute_result",
          "data": {
            "text/plain": [
              "0    1.0\n",
              "1    3.0\n",
              "2    5.0\n",
              "3    NaN\n",
              "4    6.0\n",
              "5    8.0\n",
              "dtype: float64"
            ]
          },
          "metadata": {
            "tags": []
          },
          "execution_count": 3
        }
      ]
    },
    {
      "cell_type": "code",
      "metadata": {
        "colab": {
          "base_uri": "https://localhost:8080/"
        },
        "id": "Ho_QmZj6IAdb",
        "outputId": "4aa943b9-59b8-4670-96dc-86f17c68a8b2"
      },
      "source": [
        "type(s)"
      ],
      "execution_count": 4,
      "outputs": [
        {
          "output_type": "execute_result",
          "data": {
            "text/plain": [
              "pandas.core.series.Series"
            ]
          },
          "metadata": {
            "tags": []
          },
          "execution_count": 4
        }
      ]
    },
    {
      "cell_type": "code",
      "metadata": {
        "colab": {
          "base_uri": "https://localhost:8080/"
        },
        "id": "tf19bK_LIr9J",
        "outputId": "bc33121e-147d-4432-da44-1539a3b6688a"
      },
      "source": [
        "dates = pd.date_range('20210507', periods=6)\n",
        "dates"
      ],
      "execution_count": 5,
      "outputs": [
        {
          "output_type": "execute_result",
          "data": {
            "text/plain": [
              "DatetimeIndex(['2021-05-07', '2021-05-08', '2021-05-09', '2021-05-10',\n",
              "               '2021-05-11', '2021-05-12'],\n",
              "              dtype='datetime64[ns]', freq='D')"
            ]
          },
          "metadata": {
            "tags": []
          },
          "execution_count": 5
        }
      ]
    },
    {
      "cell_type": "code",
      "metadata": {
        "colab": {
          "base_uri": "https://localhost:8080/",
          "height": 235
        },
        "id": "Ta6ccPoiJTq6",
        "outputId": "c4108f63-8595-4a74-f3f1-664f3122aec0"
      },
      "source": [
        "df = pd.DataFrame(np.random.randn(6,4), index=dates, columns=list('국영수물')) \n",
        "df"
      ],
      "execution_count": 12,
      "outputs": [
        {
          "output_type": "execute_result",
          "data": {
            "text/html": [
              "<div>\n",
              "<style scoped>\n",
              "    .dataframe tbody tr th:only-of-type {\n",
              "        vertical-align: middle;\n",
              "    }\n",
              "\n",
              "    .dataframe tbody tr th {\n",
              "        vertical-align: top;\n",
              "    }\n",
              "\n",
              "    .dataframe thead th {\n",
              "        text-align: right;\n",
              "    }\n",
              "</style>\n",
              "<table border=\"1\" class=\"dataframe\">\n",
              "  <thead>\n",
              "    <tr style=\"text-align: right;\">\n",
              "      <th></th>\n",
              "      <th>국</th>\n",
              "      <th>영</th>\n",
              "      <th>수</th>\n",
              "      <th>물</th>\n",
              "    </tr>\n",
              "  </thead>\n",
              "  <tbody>\n",
              "    <tr>\n",
              "      <th>2021-05-07</th>\n",
              "      <td>-0.940919</td>\n",
              "      <td>2.149272</td>\n",
              "      <td>-0.710055</td>\n",
              "      <td>-0.389837</td>\n",
              "    </tr>\n",
              "    <tr>\n",
              "      <th>2021-05-08</th>\n",
              "      <td>-0.088217</td>\n",
              "      <td>-0.658394</td>\n",
              "      <td>-1.231500</td>\n",
              "      <td>-0.449028</td>\n",
              "    </tr>\n",
              "    <tr>\n",
              "      <th>2021-05-09</th>\n",
              "      <td>0.263766</td>\n",
              "      <td>0.717174</td>\n",
              "      <td>-0.163778</td>\n",
              "      <td>-1.347560</td>\n",
              "    </tr>\n",
              "    <tr>\n",
              "      <th>2021-05-10</th>\n",
              "      <td>-0.111035</td>\n",
              "      <td>0.797363</td>\n",
              "      <td>-1.105202</td>\n",
              "      <td>-0.950246</td>\n",
              "    </tr>\n",
              "    <tr>\n",
              "      <th>2021-05-11</th>\n",
              "      <td>1.915645</td>\n",
              "      <td>-0.090139</td>\n",
              "      <td>-1.124516</td>\n",
              "      <td>-0.714608</td>\n",
              "    </tr>\n",
              "    <tr>\n",
              "      <th>2021-05-12</th>\n",
              "      <td>-1.340913</td>\n",
              "      <td>0.588277</td>\n",
              "      <td>0.613365</td>\n",
              "      <td>-0.239833</td>\n",
              "    </tr>\n",
              "  </tbody>\n",
              "</table>\n",
              "</div>"
            ],
            "text/plain": [
              "                   국         영         수         물\n",
              "2021-05-07 -0.940919  2.149272 -0.710055 -0.389837\n",
              "2021-05-08 -0.088217 -0.658394 -1.231500 -0.449028\n",
              "2021-05-09  0.263766  0.717174 -0.163778 -1.347560\n",
              "2021-05-10 -0.111035  0.797363 -1.105202 -0.950246\n",
              "2021-05-11  1.915645 -0.090139 -1.124516 -0.714608\n",
              "2021-05-12 -1.340913  0.588277  0.613365 -0.239833"
            ]
          },
          "metadata": {
            "tags": []
          },
          "execution_count": 12
        }
      ]
    },
    {
      "cell_type": "code",
      "metadata": {
        "colab": {
          "base_uri": "https://localhost:8080/",
          "height": 235
        },
        "id": "qiXV0Z69J904",
        "outputId": "1db6f312-0a41-4cdb-d73c-cedb8183209e"
      },
      "source": [
        "df = pd.DataFrame(np.random.randn(6,4), index=dates, columns=list('ABCD')) \n",
        "df\n"
      ],
      "execution_count": 13,
      "outputs": [
        {
          "output_type": "execute_result",
          "data": {
            "text/html": [
              "<div>\n",
              "<style scoped>\n",
              "    .dataframe tbody tr th:only-of-type {\n",
              "        vertical-align: middle;\n",
              "    }\n",
              "\n",
              "    .dataframe tbody tr th {\n",
              "        vertical-align: top;\n",
              "    }\n",
              "\n",
              "    .dataframe thead th {\n",
              "        text-align: right;\n",
              "    }\n",
              "</style>\n",
              "<table border=\"1\" class=\"dataframe\">\n",
              "  <thead>\n",
              "    <tr style=\"text-align: right;\">\n",
              "      <th></th>\n",
              "      <th>A</th>\n",
              "      <th>B</th>\n",
              "      <th>C</th>\n",
              "      <th>D</th>\n",
              "    </tr>\n",
              "  </thead>\n",
              "  <tbody>\n",
              "    <tr>\n",
              "      <th>2021-05-07</th>\n",
              "      <td>1.484617</td>\n",
              "      <td>-1.354082</td>\n",
              "      <td>1.049240</td>\n",
              "      <td>0.020140</td>\n",
              "    </tr>\n",
              "    <tr>\n",
              "      <th>2021-05-08</th>\n",
              "      <td>0.558277</td>\n",
              "      <td>-0.763700</td>\n",
              "      <td>-1.239378</td>\n",
              "      <td>-0.875892</td>\n",
              "    </tr>\n",
              "    <tr>\n",
              "      <th>2021-05-09</th>\n",
              "      <td>-0.131735</td>\n",
              "      <td>-0.512637</td>\n",
              "      <td>0.343816</td>\n",
              "      <td>-0.100666</td>\n",
              "    </tr>\n",
              "    <tr>\n",
              "      <th>2021-05-10</th>\n",
              "      <td>-1.850576</td>\n",
              "      <td>1.134397</td>\n",
              "      <td>-1.735520</td>\n",
              "      <td>0.727671</td>\n",
              "    </tr>\n",
              "    <tr>\n",
              "      <th>2021-05-11</th>\n",
              "      <td>-0.092280</td>\n",
              "      <td>0.467278</td>\n",
              "      <td>-0.254910</td>\n",
              "      <td>-0.988500</td>\n",
              "    </tr>\n",
              "    <tr>\n",
              "      <th>2021-05-12</th>\n",
              "      <td>-0.040614</td>\n",
              "      <td>0.020035</td>\n",
              "      <td>-0.840814</td>\n",
              "      <td>-0.331106</td>\n",
              "    </tr>\n",
              "  </tbody>\n",
              "</table>\n",
              "</div>"
            ],
            "text/plain": [
              "                   A         B         C         D\n",
              "2021-05-07  1.484617 -1.354082  1.049240  0.020140\n",
              "2021-05-08  0.558277 -0.763700 -1.239378 -0.875892\n",
              "2021-05-09 -0.131735 -0.512637  0.343816 -0.100666\n",
              "2021-05-10 -1.850576  1.134397 -1.735520  0.727671\n",
              "2021-05-11 -0.092280  0.467278 -0.254910 -0.988500\n",
              "2021-05-12 -0.040614  0.020035 -0.840814 -0.331106"
            ]
          },
          "metadata": {
            "tags": []
          },
          "execution_count": 13
        }
      ]
    },
    {
      "cell_type": "code",
      "metadata": {
        "colab": {
          "base_uri": "https://localhost:8080/",
          "height": 173
        },
        "id": "nev_vh0TLHzZ",
        "outputId": "f56f19cf-088e-45bc-e1ef-fc49c33b2084"
      },
      "source": [
        "df2 = pd.DataFrame(\n",
        "    {\n",
        "        'A' : 1.,\n",
        "        'B' : pd.Timestamp('20210507'),\n",
        "        'C' : pd.Series(1, index=list(range(4)), dtype='float32'),\n",
        "        'D' : np.array([3] * 4, dtype='int32'),\n",
        "        'E' : pd.Categorical([\"test\", 'train', \"test\", \"train\"]),\n",
        "        'F': 'foo'\n",
        "    }\n",
        ")\n",
        "df2"
      ],
      "execution_count": 22,
      "outputs": [
        {
          "output_type": "execute_result",
          "data": {
            "text/html": [
              "<div>\n",
              "<style scoped>\n",
              "    .dataframe tbody tr th:only-of-type {\n",
              "        vertical-align: middle;\n",
              "    }\n",
              "\n",
              "    .dataframe tbody tr th {\n",
              "        vertical-align: top;\n",
              "    }\n",
              "\n",
              "    .dataframe thead th {\n",
              "        text-align: right;\n",
              "    }\n",
              "</style>\n",
              "<table border=\"1\" class=\"dataframe\">\n",
              "  <thead>\n",
              "    <tr style=\"text-align: right;\">\n",
              "      <th></th>\n",
              "      <th>A</th>\n",
              "      <th>B</th>\n",
              "      <th>C</th>\n",
              "      <th>D</th>\n",
              "      <th>E</th>\n",
              "      <th>F</th>\n",
              "    </tr>\n",
              "  </thead>\n",
              "  <tbody>\n",
              "    <tr>\n",
              "      <th>0</th>\n",
              "      <td>1.0</td>\n",
              "      <td>2021-05-07</td>\n",
              "      <td>1.0</td>\n",
              "      <td>3</td>\n",
              "      <td>test</td>\n",
              "      <td>foo</td>\n",
              "    </tr>\n",
              "    <tr>\n",
              "      <th>1</th>\n",
              "      <td>1.0</td>\n",
              "      <td>2021-05-07</td>\n",
              "      <td>1.0</td>\n",
              "      <td>3</td>\n",
              "      <td>train</td>\n",
              "      <td>foo</td>\n",
              "    </tr>\n",
              "    <tr>\n",
              "      <th>2</th>\n",
              "      <td>1.0</td>\n",
              "      <td>2021-05-07</td>\n",
              "      <td>1.0</td>\n",
              "      <td>3</td>\n",
              "      <td>test</td>\n",
              "      <td>foo</td>\n",
              "    </tr>\n",
              "    <tr>\n",
              "      <th>3</th>\n",
              "      <td>1.0</td>\n",
              "      <td>2021-05-07</td>\n",
              "      <td>1.0</td>\n",
              "      <td>3</td>\n",
              "      <td>train</td>\n",
              "      <td>foo</td>\n",
              "    </tr>\n",
              "  </tbody>\n",
              "</table>\n",
              "</div>"
            ],
            "text/plain": [
              "     A          B    C  D      E    F\n",
              "0  1.0 2021-05-07  1.0  3   test  foo\n",
              "1  1.0 2021-05-07  1.0  3  train  foo\n",
              "2  1.0 2021-05-07  1.0  3   test  foo\n",
              "3  1.0 2021-05-07  1.0  3  train  foo"
            ]
          },
          "metadata": {
            "tags": []
          },
          "execution_count": 22
        }
      ]
    },
    {
      "cell_type": "code",
      "metadata": {
        "colab": {
          "base_uri": "https://localhost:8080/",
          "height": 235
        },
        "id": "pGk8PR4pMlZY",
        "outputId": "95452a65-4450-4961-c796-fb0680b2487c"
      },
      "source": [
        "df"
      ],
      "execution_count": 17,
      "outputs": [
        {
          "output_type": "execute_result",
          "data": {
            "text/html": [
              "<div>\n",
              "<style scoped>\n",
              "    .dataframe tbody tr th:only-of-type {\n",
              "        vertical-align: middle;\n",
              "    }\n",
              "\n",
              "    .dataframe tbody tr th {\n",
              "        vertical-align: top;\n",
              "    }\n",
              "\n",
              "    .dataframe thead th {\n",
              "        text-align: right;\n",
              "    }\n",
              "</style>\n",
              "<table border=\"1\" class=\"dataframe\">\n",
              "  <thead>\n",
              "    <tr style=\"text-align: right;\">\n",
              "      <th></th>\n",
              "      <th>A</th>\n",
              "      <th>B</th>\n",
              "      <th>C</th>\n",
              "      <th>D</th>\n",
              "    </tr>\n",
              "  </thead>\n",
              "  <tbody>\n",
              "    <tr>\n",
              "      <th>2021-05-07</th>\n",
              "      <td>1.484617</td>\n",
              "      <td>-1.354082</td>\n",
              "      <td>1.049240</td>\n",
              "      <td>0.020140</td>\n",
              "    </tr>\n",
              "    <tr>\n",
              "      <th>2021-05-08</th>\n",
              "      <td>0.558277</td>\n",
              "      <td>-0.763700</td>\n",
              "      <td>-1.239378</td>\n",
              "      <td>-0.875892</td>\n",
              "    </tr>\n",
              "    <tr>\n",
              "      <th>2021-05-09</th>\n",
              "      <td>-0.131735</td>\n",
              "      <td>-0.512637</td>\n",
              "      <td>0.343816</td>\n",
              "      <td>-0.100666</td>\n",
              "    </tr>\n",
              "    <tr>\n",
              "      <th>2021-05-10</th>\n",
              "      <td>-1.850576</td>\n",
              "      <td>1.134397</td>\n",
              "      <td>-1.735520</td>\n",
              "      <td>0.727671</td>\n",
              "    </tr>\n",
              "    <tr>\n",
              "      <th>2021-05-11</th>\n",
              "      <td>-0.092280</td>\n",
              "      <td>0.467278</td>\n",
              "      <td>-0.254910</td>\n",
              "      <td>-0.988500</td>\n",
              "    </tr>\n",
              "    <tr>\n",
              "      <th>2021-05-12</th>\n",
              "      <td>-0.040614</td>\n",
              "      <td>0.020035</td>\n",
              "      <td>-0.840814</td>\n",
              "      <td>-0.331106</td>\n",
              "    </tr>\n",
              "  </tbody>\n",
              "</table>\n",
              "</div>"
            ],
            "text/plain": [
              "                   A         B         C         D\n",
              "2021-05-07  1.484617 -1.354082  1.049240  0.020140\n",
              "2021-05-08  0.558277 -0.763700 -1.239378 -0.875892\n",
              "2021-05-09 -0.131735 -0.512637  0.343816 -0.100666\n",
              "2021-05-10 -1.850576  1.134397 -1.735520  0.727671\n",
              "2021-05-11 -0.092280  0.467278 -0.254910 -0.988500\n",
              "2021-05-12 -0.040614  0.020035 -0.840814 -0.331106"
            ]
          },
          "metadata": {
            "tags": []
          },
          "execution_count": 17
        }
      ]
    },
    {
      "cell_type": "code",
      "metadata": {
        "colab": {
          "base_uri": "https://localhost:8080/",
          "height": 204
        },
        "id": "E5-ddLGjNAWW",
        "outputId": "3d363ef9-aa68-4ee1-ce86-77450a0ed07d"
      },
      "source": [
        "df.head()"
      ],
      "execution_count": 18,
      "outputs": [
        {
          "output_type": "execute_result",
          "data": {
            "text/html": [
              "<div>\n",
              "<style scoped>\n",
              "    .dataframe tbody tr th:only-of-type {\n",
              "        vertical-align: middle;\n",
              "    }\n",
              "\n",
              "    .dataframe tbody tr th {\n",
              "        vertical-align: top;\n",
              "    }\n",
              "\n",
              "    .dataframe thead th {\n",
              "        text-align: right;\n",
              "    }\n",
              "</style>\n",
              "<table border=\"1\" class=\"dataframe\">\n",
              "  <thead>\n",
              "    <tr style=\"text-align: right;\">\n",
              "      <th></th>\n",
              "      <th>A</th>\n",
              "      <th>B</th>\n",
              "      <th>C</th>\n",
              "      <th>D</th>\n",
              "    </tr>\n",
              "  </thead>\n",
              "  <tbody>\n",
              "    <tr>\n",
              "      <th>2021-05-07</th>\n",
              "      <td>1.484617</td>\n",
              "      <td>-1.354082</td>\n",
              "      <td>1.049240</td>\n",
              "      <td>0.020140</td>\n",
              "    </tr>\n",
              "    <tr>\n",
              "      <th>2021-05-08</th>\n",
              "      <td>0.558277</td>\n",
              "      <td>-0.763700</td>\n",
              "      <td>-1.239378</td>\n",
              "      <td>-0.875892</td>\n",
              "    </tr>\n",
              "    <tr>\n",
              "      <th>2021-05-09</th>\n",
              "      <td>-0.131735</td>\n",
              "      <td>-0.512637</td>\n",
              "      <td>0.343816</td>\n",
              "      <td>-0.100666</td>\n",
              "    </tr>\n",
              "    <tr>\n",
              "      <th>2021-05-10</th>\n",
              "      <td>-1.850576</td>\n",
              "      <td>1.134397</td>\n",
              "      <td>-1.735520</td>\n",
              "      <td>0.727671</td>\n",
              "    </tr>\n",
              "    <tr>\n",
              "      <th>2021-05-11</th>\n",
              "      <td>-0.092280</td>\n",
              "      <td>0.467278</td>\n",
              "      <td>-0.254910</td>\n",
              "      <td>-0.988500</td>\n",
              "    </tr>\n",
              "  </tbody>\n",
              "</table>\n",
              "</div>"
            ],
            "text/plain": [
              "                   A         B         C         D\n",
              "2021-05-07  1.484617 -1.354082  1.049240  0.020140\n",
              "2021-05-08  0.558277 -0.763700 -1.239378 -0.875892\n",
              "2021-05-09 -0.131735 -0.512637  0.343816 -0.100666\n",
              "2021-05-10 -1.850576  1.134397 -1.735520  0.727671\n",
              "2021-05-11 -0.092280  0.467278 -0.254910 -0.988500"
            ]
          },
          "metadata": {
            "tags": []
          },
          "execution_count": 18
        }
      ]
    },
    {
      "cell_type": "code",
      "metadata": {
        "colab": {
          "base_uri": "https://localhost:8080/",
          "height": 204
        },
        "id": "fcfBUZIYNNXW",
        "outputId": "314c712b-0984-4bb7-8c34-4a8519b87b5a"
      },
      "source": [
        "df.tail()"
      ],
      "execution_count": 20,
      "outputs": [
        {
          "output_type": "execute_result",
          "data": {
            "text/html": [
              "<div>\n",
              "<style scoped>\n",
              "    .dataframe tbody tr th:only-of-type {\n",
              "        vertical-align: middle;\n",
              "    }\n",
              "\n",
              "    .dataframe tbody tr th {\n",
              "        vertical-align: top;\n",
              "    }\n",
              "\n",
              "    .dataframe thead th {\n",
              "        text-align: right;\n",
              "    }\n",
              "</style>\n",
              "<table border=\"1\" class=\"dataframe\">\n",
              "  <thead>\n",
              "    <tr style=\"text-align: right;\">\n",
              "      <th></th>\n",
              "      <th>A</th>\n",
              "      <th>B</th>\n",
              "      <th>C</th>\n",
              "      <th>D</th>\n",
              "    </tr>\n",
              "  </thead>\n",
              "  <tbody>\n",
              "    <tr>\n",
              "      <th>2021-05-08</th>\n",
              "      <td>0.558277</td>\n",
              "      <td>-0.763700</td>\n",
              "      <td>-1.239378</td>\n",
              "      <td>-0.875892</td>\n",
              "    </tr>\n",
              "    <tr>\n",
              "      <th>2021-05-09</th>\n",
              "      <td>-0.131735</td>\n",
              "      <td>-0.512637</td>\n",
              "      <td>0.343816</td>\n",
              "      <td>-0.100666</td>\n",
              "    </tr>\n",
              "    <tr>\n",
              "      <th>2021-05-10</th>\n",
              "      <td>-1.850576</td>\n",
              "      <td>1.134397</td>\n",
              "      <td>-1.735520</td>\n",
              "      <td>0.727671</td>\n",
              "    </tr>\n",
              "    <tr>\n",
              "      <th>2021-05-11</th>\n",
              "      <td>-0.092280</td>\n",
              "      <td>0.467278</td>\n",
              "      <td>-0.254910</td>\n",
              "      <td>-0.988500</td>\n",
              "    </tr>\n",
              "    <tr>\n",
              "      <th>2021-05-12</th>\n",
              "      <td>-0.040614</td>\n",
              "      <td>0.020035</td>\n",
              "      <td>-0.840814</td>\n",
              "      <td>-0.331106</td>\n",
              "    </tr>\n",
              "  </tbody>\n",
              "</table>\n",
              "</div>"
            ],
            "text/plain": [
              "                   A         B         C         D\n",
              "2021-05-08  0.558277 -0.763700 -1.239378 -0.875892\n",
              "2021-05-09 -0.131735 -0.512637  0.343816 -0.100666\n",
              "2021-05-10 -1.850576  1.134397 -1.735520  0.727671\n",
              "2021-05-11 -0.092280  0.467278 -0.254910 -0.988500\n",
              "2021-05-12 -0.040614  0.020035 -0.840814 -0.331106"
            ]
          },
          "metadata": {
            "tags": []
          },
          "execution_count": 20
        }
      ]
    },
    {
      "cell_type": "code",
      "metadata": {
        "colab": {
          "base_uri": "https://localhost:8080/",
          "height": 235
        },
        "id": "QisifIWONSQm",
        "outputId": "c50bd00b-517b-47e9-f79e-3eaab8f86662"
      },
      "source": [
        "df"
      ],
      "execution_count": 23,
      "outputs": [
        {
          "output_type": "execute_result",
          "data": {
            "text/html": [
              "<div>\n",
              "<style scoped>\n",
              "    .dataframe tbody tr th:only-of-type {\n",
              "        vertical-align: middle;\n",
              "    }\n",
              "\n",
              "    .dataframe tbody tr th {\n",
              "        vertical-align: top;\n",
              "    }\n",
              "\n",
              "    .dataframe thead th {\n",
              "        text-align: right;\n",
              "    }\n",
              "</style>\n",
              "<table border=\"1\" class=\"dataframe\">\n",
              "  <thead>\n",
              "    <tr style=\"text-align: right;\">\n",
              "      <th></th>\n",
              "      <th>A</th>\n",
              "      <th>B</th>\n",
              "      <th>C</th>\n",
              "      <th>D</th>\n",
              "    </tr>\n",
              "  </thead>\n",
              "  <tbody>\n",
              "    <tr>\n",
              "      <th>2021-05-07</th>\n",
              "      <td>1.484617</td>\n",
              "      <td>-1.354082</td>\n",
              "      <td>1.049240</td>\n",
              "      <td>0.020140</td>\n",
              "    </tr>\n",
              "    <tr>\n",
              "      <th>2021-05-08</th>\n",
              "      <td>0.558277</td>\n",
              "      <td>-0.763700</td>\n",
              "      <td>-1.239378</td>\n",
              "      <td>-0.875892</td>\n",
              "    </tr>\n",
              "    <tr>\n",
              "      <th>2021-05-09</th>\n",
              "      <td>-0.131735</td>\n",
              "      <td>-0.512637</td>\n",
              "      <td>0.343816</td>\n",
              "      <td>-0.100666</td>\n",
              "    </tr>\n",
              "    <tr>\n",
              "      <th>2021-05-10</th>\n",
              "      <td>-1.850576</td>\n",
              "      <td>1.134397</td>\n",
              "      <td>-1.735520</td>\n",
              "      <td>0.727671</td>\n",
              "    </tr>\n",
              "    <tr>\n",
              "      <th>2021-05-11</th>\n",
              "      <td>-0.092280</td>\n",
              "      <td>0.467278</td>\n",
              "      <td>-0.254910</td>\n",
              "      <td>-0.988500</td>\n",
              "    </tr>\n",
              "    <tr>\n",
              "      <th>2021-05-12</th>\n",
              "      <td>-0.040614</td>\n",
              "      <td>0.020035</td>\n",
              "      <td>-0.840814</td>\n",
              "      <td>-0.331106</td>\n",
              "    </tr>\n",
              "  </tbody>\n",
              "</table>\n",
              "</div>"
            ],
            "text/plain": [
              "                   A         B         C         D\n",
              "2021-05-07  1.484617 -1.354082  1.049240  0.020140\n",
              "2021-05-08  0.558277 -0.763700 -1.239378 -0.875892\n",
              "2021-05-09 -0.131735 -0.512637  0.343816 -0.100666\n",
              "2021-05-10 -1.850576  1.134397 -1.735520  0.727671\n",
              "2021-05-11 -0.092280  0.467278 -0.254910 -0.988500\n",
              "2021-05-12 -0.040614  0.020035 -0.840814 -0.331106"
            ]
          },
          "metadata": {
            "tags": []
          },
          "execution_count": 23
        }
      ]
    },
    {
      "cell_type": "code",
      "metadata": {
        "colab": {
          "base_uri": "https://localhost:8080/",
          "height": 80
        },
        "id": "WV2lwvRgNc_n",
        "outputId": "a3881266-cb93-42b0-d576-ea145467caa8"
      },
      "source": [
        "df.head(1)"
      ],
      "execution_count": 24,
      "outputs": [
        {
          "output_type": "execute_result",
          "data": {
            "text/html": [
              "<div>\n",
              "<style scoped>\n",
              "    .dataframe tbody tr th:only-of-type {\n",
              "        vertical-align: middle;\n",
              "    }\n",
              "\n",
              "    .dataframe tbody tr th {\n",
              "        vertical-align: top;\n",
              "    }\n",
              "\n",
              "    .dataframe thead th {\n",
              "        text-align: right;\n",
              "    }\n",
              "</style>\n",
              "<table border=\"1\" class=\"dataframe\">\n",
              "  <thead>\n",
              "    <tr style=\"text-align: right;\">\n",
              "      <th></th>\n",
              "      <th>A</th>\n",
              "      <th>B</th>\n",
              "      <th>C</th>\n",
              "      <th>D</th>\n",
              "    </tr>\n",
              "  </thead>\n",
              "  <tbody>\n",
              "    <tr>\n",
              "      <th>2021-05-07</th>\n",
              "      <td>1.484617</td>\n",
              "      <td>-1.354082</td>\n",
              "      <td>1.04924</td>\n",
              "      <td>0.02014</td>\n",
              "    </tr>\n",
              "  </tbody>\n",
              "</table>\n",
              "</div>"
            ],
            "text/plain": [
              "                   A         B        C        D\n",
              "2021-05-07  1.484617 -1.354082  1.04924  0.02014"
            ]
          },
          "metadata": {
            "tags": []
          },
          "execution_count": 24
        }
      ]
    },
    {
      "cell_type": "code",
      "metadata": {
        "colab": {
          "base_uri": "https://localhost:8080/",
          "height": 111
        },
        "id": "2IOtI2lRNeyG",
        "outputId": "84b6727b-f89b-4fa4-af3b-3c6eccfe6175"
      },
      "source": [
        "df.tail(2)"
      ],
      "execution_count": 25,
      "outputs": [
        {
          "output_type": "execute_result",
          "data": {
            "text/html": [
              "<div>\n",
              "<style scoped>\n",
              "    .dataframe tbody tr th:only-of-type {\n",
              "        vertical-align: middle;\n",
              "    }\n",
              "\n",
              "    .dataframe tbody tr th {\n",
              "        vertical-align: top;\n",
              "    }\n",
              "\n",
              "    .dataframe thead th {\n",
              "        text-align: right;\n",
              "    }\n",
              "</style>\n",
              "<table border=\"1\" class=\"dataframe\">\n",
              "  <thead>\n",
              "    <tr style=\"text-align: right;\">\n",
              "      <th></th>\n",
              "      <th>A</th>\n",
              "      <th>B</th>\n",
              "      <th>C</th>\n",
              "      <th>D</th>\n",
              "    </tr>\n",
              "  </thead>\n",
              "  <tbody>\n",
              "    <tr>\n",
              "      <th>2021-05-11</th>\n",
              "      <td>-0.092280</td>\n",
              "      <td>0.467278</td>\n",
              "      <td>-0.254910</td>\n",
              "      <td>-0.988500</td>\n",
              "    </tr>\n",
              "    <tr>\n",
              "      <th>2021-05-12</th>\n",
              "      <td>-0.040614</td>\n",
              "      <td>0.020035</td>\n",
              "      <td>-0.840814</td>\n",
              "      <td>-0.331106</td>\n",
              "    </tr>\n",
              "  </tbody>\n",
              "</table>\n",
              "</div>"
            ],
            "text/plain": [
              "                   A         B         C         D\n",
              "2021-05-11 -0.092280  0.467278 -0.254910 -0.988500\n",
              "2021-05-12 -0.040614  0.020035 -0.840814 -0.331106"
            ]
          },
          "metadata": {
            "tags": []
          },
          "execution_count": 25
        }
      ]
    },
    {
      "cell_type": "code",
      "metadata": {
        "colab": {
          "base_uri": "https://localhost:8080/",
          "height": 235
        },
        "id": "-jp4ScAqNinX",
        "outputId": "c17f5bb3-0a03-4820-8eb6-01995c37946e"
      },
      "source": [
        "df"
      ],
      "execution_count": 26,
      "outputs": [
        {
          "output_type": "execute_result",
          "data": {
            "text/html": [
              "<div>\n",
              "<style scoped>\n",
              "    .dataframe tbody tr th:only-of-type {\n",
              "        vertical-align: middle;\n",
              "    }\n",
              "\n",
              "    .dataframe tbody tr th {\n",
              "        vertical-align: top;\n",
              "    }\n",
              "\n",
              "    .dataframe thead th {\n",
              "        text-align: right;\n",
              "    }\n",
              "</style>\n",
              "<table border=\"1\" class=\"dataframe\">\n",
              "  <thead>\n",
              "    <tr style=\"text-align: right;\">\n",
              "      <th></th>\n",
              "      <th>A</th>\n",
              "      <th>B</th>\n",
              "      <th>C</th>\n",
              "      <th>D</th>\n",
              "    </tr>\n",
              "  </thead>\n",
              "  <tbody>\n",
              "    <tr>\n",
              "      <th>2021-05-07</th>\n",
              "      <td>1.484617</td>\n",
              "      <td>-1.354082</td>\n",
              "      <td>1.049240</td>\n",
              "      <td>0.020140</td>\n",
              "    </tr>\n",
              "    <tr>\n",
              "      <th>2021-05-08</th>\n",
              "      <td>0.558277</td>\n",
              "      <td>-0.763700</td>\n",
              "      <td>-1.239378</td>\n",
              "      <td>-0.875892</td>\n",
              "    </tr>\n",
              "    <tr>\n",
              "      <th>2021-05-09</th>\n",
              "      <td>-0.131735</td>\n",
              "      <td>-0.512637</td>\n",
              "      <td>0.343816</td>\n",
              "      <td>-0.100666</td>\n",
              "    </tr>\n",
              "    <tr>\n",
              "      <th>2021-05-10</th>\n",
              "      <td>-1.850576</td>\n",
              "      <td>1.134397</td>\n",
              "      <td>-1.735520</td>\n",
              "      <td>0.727671</td>\n",
              "    </tr>\n",
              "    <tr>\n",
              "      <th>2021-05-11</th>\n",
              "      <td>-0.092280</td>\n",
              "      <td>0.467278</td>\n",
              "      <td>-0.254910</td>\n",
              "      <td>-0.988500</td>\n",
              "    </tr>\n",
              "    <tr>\n",
              "      <th>2021-05-12</th>\n",
              "      <td>-0.040614</td>\n",
              "      <td>0.020035</td>\n",
              "      <td>-0.840814</td>\n",
              "      <td>-0.331106</td>\n",
              "    </tr>\n",
              "  </tbody>\n",
              "</table>\n",
              "</div>"
            ],
            "text/plain": [
              "                   A         B         C         D\n",
              "2021-05-07  1.484617 -1.354082  1.049240  0.020140\n",
              "2021-05-08  0.558277 -0.763700 -1.239378 -0.875892\n",
              "2021-05-09 -0.131735 -0.512637  0.343816 -0.100666\n",
              "2021-05-10 -1.850576  1.134397 -1.735520  0.727671\n",
              "2021-05-11 -0.092280  0.467278 -0.254910 -0.988500\n",
              "2021-05-12 -0.040614  0.020035 -0.840814 -0.331106"
            ]
          },
          "metadata": {
            "tags": []
          },
          "execution_count": 26
        }
      ]
    },
    {
      "cell_type": "code",
      "metadata": {
        "colab": {
          "base_uri": "https://localhost:8080/"
        },
        "id": "RmbM5HRtNs5m",
        "outputId": "dca33085-6693-4ccd-d97d-6345f15eb8ed"
      },
      "source": [
        "df.index"
      ],
      "execution_count": 27,
      "outputs": [
        {
          "output_type": "execute_result",
          "data": {
            "text/plain": [
              "DatetimeIndex(['2021-05-07', '2021-05-08', '2021-05-09', '2021-05-10',\n",
              "               '2021-05-11', '2021-05-12'],\n",
              "              dtype='datetime64[ns]', freq='D')"
            ]
          },
          "metadata": {
            "tags": []
          },
          "execution_count": 27
        }
      ]
    },
    {
      "cell_type": "code",
      "metadata": {
        "colab": {
          "base_uri": "https://localhost:8080/"
        },
        "id": "YGbJ7egqNzb2",
        "outputId": "03d68848-e83b-4327-bc5b-969d79877679"
      },
      "source": [
        "df.columns"
      ],
      "execution_count": 28,
      "outputs": [
        {
          "output_type": "execute_result",
          "data": {
            "text/plain": [
              "Index(['A', 'B', 'C', 'D'], dtype='object')"
            ]
          },
          "metadata": {
            "tags": []
          },
          "execution_count": 28
        }
      ]
    },
    {
      "cell_type": "code",
      "metadata": {
        "colab": {
          "base_uri": "https://localhost:8080/"
        },
        "id": "rTeLx3FLN5pm",
        "outputId": "e72aa96c-9a7c-4085-a087-b1ef5044e0ee"
      },
      "source": [
        "df.values"
      ],
      "execution_count": 29,
      "outputs": [
        {
          "output_type": "execute_result",
          "data": {
            "text/plain": [
              "array([[ 1.48461681, -1.35408207,  1.04923961,  0.02014006],\n",
              "       [ 0.55827667, -0.76369966, -1.23937802, -0.87589233],\n",
              "       [-0.13173464, -0.51263684,  0.34381599, -0.10066648],\n",
              "       [-1.85057597,  1.13439708, -1.7355197 ,  0.72767104],\n",
              "       [-0.09228007,  0.46727757, -0.25490973, -0.98850001],\n",
              "       [-0.04061365,  0.02003541, -0.84081383, -0.33110619]])"
            ]
          },
          "metadata": {
            "tags": []
          },
          "execution_count": 29
        }
      ]
    },
    {
      "cell_type": "code",
      "metadata": {
        "colab": {
          "base_uri": "https://localhost:8080/",
          "height": 297
        },
        "id": "iiiVXt8FOF8G",
        "outputId": "7cc514d4-fd3c-4fe2-fff4-53d5b3415a2c"
      },
      "source": [
        "df.describe()"
      ],
      "execution_count": 30,
      "outputs": [
        {
          "output_type": "execute_result",
          "data": {
            "text/html": [
              "<div>\n",
              "<style scoped>\n",
              "    .dataframe tbody tr th:only-of-type {\n",
              "        vertical-align: middle;\n",
              "    }\n",
              "\n",
              "    .dataframe tbody tr th {\n",
              "        vertical-align: top;\n",
              "    }\n",
              "\n",
              "    .dataframe thead th {\n",
              "        text-align: right;\n",
              "    }\n",
              "</style>\n",
              "<table border=\"1\" class=\"dataframe\">\n",
              "  <thead>\n",
              "    <tr style=\"text-align: right;\">\n",
              "      <th></th>\n",
              "      <th>A</th>\n",
              "      <th>B</th>\n",
              "      <th>C</th>\n",
              "      <th>D</th>\n",
              "    </tr>\n",
              "  </thead>\n",
              "  <tbody>\n",
              "    <tr>\n",
              "      <th>count</th>\n",
              "      <td>6.000000</td>\n",
              "      <td>6.000000</td>\n",
              "      <td>6.000000</td>\n",
              "      <td>6.000000</td>\n",
              "    </tr>\n",
              "    <tr>\n",
              "      <th>mean</th>\n",
              "      <td>-0.012052</td>\n",
              "      <td>-0.168118</td>\n",
              "      <td>-0.446261</td>\n",
              "      <td>-0.258059</td>\n",
              "    </tr>\n",
              "    <tr>\n",
              "      <th>std</th>\n",
              "      <td>1.092432</td>\n",
              "      <td>0.896169</td>\n",
              "      <td>1.033852</td>\n",
              "      <td>0.631574</td>\n",
              "    </tr>\n",
              "    <tr>\n",
              "      <th>min</th>\n",
              "      <td>-1.850576</td>\n",
              "      <td>-1.354082</td>\n",
              "      <td>-1.735520</td>\n",
              "      <td>-0.988500</td>\n",
              "    </tr>\n",
              "    <tr>\n",
              "      <th>25%</th>\n",
              "      <td>-0.121871</td>\n",
              "      <td>-0.700934</td>\n",
              "      <td>-1.139737</td>\n",
              "      <td>-0.739696</td>\n",
              "    </tr>\n",
              "    <tr>\n",
              "      <th>50%</th>\n",
              "      <td>-0.066447</td>\n",
              "      <td>-0.246301</td>\n",
              "      <td>-0.547862</td>\n",
              "      <td>-0.215886</td>\n",
              "    </tr>\n",
              "    <tr>\n",
              "      <th>75%</th>\n",
              "      <td>0.408554</td>\n",
              "      <td>0.355467</td>\n",
              "      <td>0.194135</td>\n",
              "      <td>-0.010062</td>\n",
              "    </tr>\n",
              "    <tr>\n",
              "      <th>max</th>\n",
              "      <td>1.484617</td>\n",
              "      <td>1.134397</td>\n",
              "      <td>1.049240</td>\n",
              "      <td>0.727671</td>\n",
              "    </tr>\n",
              "  </tbody>\n",
              "</table>\n",
              "</div>"
            ],
            "text/plain": [
              "              A         B         C         D\n",
              "count  6.000000  6.000000  6.000000  6.000000\n",
              "mean  -0.012052 -0.168118 -0.446261 -0.258059\n",
              "std    1.092432  0.896169  1.033852  0.631574\n",
              "min   -1.850576 -1.354082 -1.735520 -0.988500\n",
              "25%   -0.121871 -0.700934 -1.139737 -0.739696\n",
              "50%   -0.066447 -0.246301 -0.547862 -0.215886\n",
              "75%    0.408554  0.355467  0.194135 -0.010062\n",
              "max    1.484617  1.134397  1.049240  0.727671"
            ]
          },
          "metadata": {
            "tags": []
          },
          "execution_count": 30
        }
      ]
    },
    {
      "cell_type": "code",
      "metadata": {
        "colab": {
          "base_uri": "https://localhost:8080/",
          "height": 235
        },
        "id": "lP-LAWgiONkF",
        "outputId": "01242f67-1a12-479e-b7c0-0a431b41c03a"
      },
      "source": [
        "df"
      ],
      "execution_count": 31,
      "outputs": [
        {
          "output_type": "execute_result",
          "data": {
            "text/html": [
              "<div>\n",
              "<style scoped>\n",
              "    .dataframe tbody tr th:only-of-type {\n",
              "        vertical-align: middle;\n",
              "    }\n",
              "\n",
              "    .dataframe tbody tr th {\n",
              "        vertical-align: top;\n",
              "    }\n",
              "\n",
              "    .dataframe thead th {\n",
              "        text-align: right;\n",
              "    }\n",
              "</style>\n",
              "<table border=\"1\" class=\"dataframe\">\n",
              "  <thead>\n",
              "    <tr style=\"text-align: right;\">\n",
              "      <th></th>\n",
              "      <th>A</th>\n",
              "      <th>B</th>\n",
              "      <th>C</th>\n",
              "      <th>D</th>\n",
              "    </tr>\n",
              "  </thead>\n",
              "  <tbody>\n",
              "    <tr>\n",
              "      <th>2021-05-07</th>\n",
              "      <td>1.484617</td>\n",
              "      <td>-1.354082</td>\n",
              "      <td>1.049240</td>\n",
              "      <td>0.020140</td>\n",
              "    </tr>\n",
              "    <tr>\n",
              "      <th>2021-05-08</th>\n",
              "      <td>0.558277</td>\n",
              "      <td>-0.763700</td>\n",
              "      <td>-1.239378</td>\n",
              "      <td>-0.875892</td>\n",
              "    </tr>\n",
              "    <tr>\n",
              "      <th>2021-05-09</th>\n",
              "      <td>-0.131735</td>\n",
              "      <td>-0.512637</td>\n",
              "      <td>0.343816</td>\n",
              "      <td>-0.100666</td>\n",
              "    </tr>\n",
              "    <tr>\n",
              "      <th>2021-05-10</th>\n",
              "      <td>-1.850576</td>\n",
              "      <td>1.134397</td>\n",
              "      <td>-1.735520</td>\n",
              "      <td>0.727671</td>\n",
              "    </tr>\n",
              "    <tr>\n",
              "      <th>2021-05-11</th>\n",
              "      <td>-0.092280</td>\n",
              "      <td>0.467278</td>\n",
              "      <td>-0.254910</td>\n",
              "      <td>-0.988500</td>\n",
              "    </tr>\n",
              "    <tr>\n",
              "      <th>2021-05-12</th>\n",
              "      <td>-0.040614</td>\n",
              "      <td>0.020035</td>\n",
              "      <td>-0.840814</td>\n",
              "      <td>-0.331106</td>\n",
              "    </tr>\n",
              "  </tbody>\n",
              "</table>\n",
              "</div>"
            ],
            "text/plain": [
              "                   A         B         C         D\n",
              "2021-05-07  1.484617 -1.354082  1.049240  0.020140\n",
              "2021-05-08  0.558277 -0.763700 -1.239378 -0.875892\n",
              "2021-05-09 -0.131735 -0.512637  0.343816 -0.100666\n",
              "2021-05-10 -1.850576  1.134397 -1.735520  0.727671\n",
              "2021-05-11 -0.092280  0.467278 -0.254910 -0.988500\n",
              "2021-05-12 -0.040614  0.020035 -0.840814 -0.331106"
            ]
          },
          "metadata": {
            "tags": []
          },
          "execution_count": 31
        }
      ]
    },
    {
      "cell_type": "code",
      "metadata": {
        "colab": {
          "base_uri": "https://localhost:8080/",
          "height": 173
        },
        "id": "jBzH4DacO1i1",
        "outputId": "9414eccd-d0c7-44ed-9547-23dea50558d9"
      },
      "source": [
        "df.T"
      ],
      "execution_count": 34,
      "outputs": [
        {
          "output_type": "execute_result",
          "data": {
            "text/html": [
              "<div>\n",
              "<style scoped>\n",
              "    .dataframe tbody tr th:only-of-type {\n",
              "        vertical-align: middle;\n",
              "    }\n",
              "\n",
              "    .dataframe tbody tr th {\n",
              "        vertical-align: top;\n",
              "    }\n",
              "\n",
              "    .dataframe thead th {\n",
              "        text-align: right;\n",
              "    }\n",
              "</style>\n",
              "<table border=\"1\" class=\"dataframe\">\n",
              "  <thead>\n",
              "    <tr style=\"text-align: right;\">\n",
              "      <th></th>\n",
              "      <th>2021-05-07</th>\n",
              "      <th>2021-05-08</th>\n",
              "      <th>2021-05-09</th>\n",
              "      <th>2021-05-10</th>\n",
              "      <th>2021-05-11</th>\n",
              "      <th>2021-05-12</th>\n",
              "    </tr>\n",
              "  </thead>\n",
              "  <tbody>\n",
              "    <tr>\n",
              "      <th>A</th>\n",
              "      <td>1.484617</td>\n",
              "      <td>0.558277</td>\n",
              "      <td>-0.131735</td>\n",
              "      <td>-1.850576</td>\n",
              "      <td>-0.092280</td>\n",
              "      <td>-0.040614</td>\n",
              "    </tr>\n",
              "    <tr>\n",
              "      <th>B</th>\n",
              "      <td>-1.354082</td>\n",
              "      <td>-0.763700</td>\n",
              "      <td>-0.512637</td>\n",
              "      <td>1.134397</td>\n",
              "      <td>0.467278</td>\n",
              "      <td>0.020035</td>\n",
              "    </tr>\n",
              "    <tr>\n",
              "      <th>C</th>\n",
              "      <td>1.049240</td>\n",
              "      <td>-1.239378</td>\n",
              "      <td>0.343816</td>\n",
              "      <td>-1.735520</td>\n",
              "      <td>-0.254910</td>\n",
              "      <td>-0.840814</td>\n",
              "    </tr>\n",
              "    <tr>\n",
              "      <th>D</th>\n",
              "      <td>0.020140</td>\n",
              "      <td>-0.875892</td>\n",
              "      <td>-0.100666</td>\n",
              "      <td>0.727671</td>\n",
              "      <td>-0.988500</td>\n",
              "      <td>-0.331106</td>\n",
              "    </tr>\n",
              "  </tbody>\n",
              "</table>\n",
              "</div>"
            ],
            "text/plain": [
              "   2021-05-07  2021-05-08  2021-05-09  2021-05-10  2021-05-11  2021-05-12\n",
              "A    1.484617    0.558277   -0.131735   -1.850576   -0.092280   -0.040614\n",
              "B   -1.354082   -0.763700   -0.512637    1.134397    0.467278    0.020035\n",
              "C    1.049240   -1.239378    0.343816   -1.735520   -0.254910   -0.840814\n",
              "D    0.020140   -0.875892   -0.100666    0.727671   -0.988500   -0.331106"
            ]
          },
          "metadata": {
            "tags": []
          },
          "execution_count": 34
        }
      ]
    },
    {
      "cell_type": "code",
      "metadata": {
        "colab": {
          "base_uri": "https://localhost:8080/",
          "height": 235
        },
        "id": "D_MVzKbWO47V",
        "outputId": "060e7287-5673-418c-ac2c-71cdabad0f77"
      },
      "source": [
        "df.sort_index(axis=1, ascending=False)"
      ],
      "execution_count": 44,
      "outputs": [
        {
          "output_type": "execute_result",
          "data": {
            "text/html": [
              "<div>\n",
              "<style scoped>\n",
              "    .dataframe tbody tr th:only-of-type {\n",
              "        vertical-align: middle;\n",
              "    }\n",
              "\n",
              "    .dataframe tbody tr th {\n",
              "        vertical-align: top;\n",
              "    }\n",
              "\n",
              "    .dataframe thead th {\n",
              "        text-align: right;\n",
              "    }\n",
              "</style>\n",
              "<table border=\"1\" class=\"dataframe\">\n",
              "  <thead>\n",
              "    <tr style=\"text-align: right;\">\n",
              "      <th></th>\n",
              "      <th>D</th>\n",
              "      <th>C</th>\n",
              "      <th>B</th>\n",
              "      <th>A</th>\n",
              "    </tr>\n",
              "  </thead>\n",
              "  <tbody>\n",
              "    <tr>\n",
              "      <th>2021-05-07</th>\n",
              "      <td>0.020140</td>\n",
              "      <td>1.049240</td>\n",
              "      <td>-1.354082</td>\n",
              "      <td>1.484617</td>\n",
              "    </tr>\n",
              "    <tr>\n",
              "      <th>2021-05-08</th>\n",
              "      <td>-0.875892</td>\n",
              "      <td>-1.239378</td>\n",
              "      <td>-0.763700</td>\n",
              "      <td>0.558277</td>\n",
              "    </tr>\n",
              "    <tr>\n",
              "      <th>2021-05-09</th>\n",
              "      <td>-0.100666</td>\n",
              "      <td>0.343816</td>\n",
              "      <td>-0.512637</td>\n",
              "      <td>-0.131735</td>\n",
              "    </tr>\n",
              "    <tr>\n",
              "      <th>2021-05-10</th>\n",
              "      <td>0.727671</td>\n",
              "      <td>-1.735520</td>\n",
              "      <td>1.134397</td>\n",
              "      <td>-1.850576</td>\n",
              "    </tr>\n",
              "    <tr>\n",
              "      <th>2021-05-11</th>\n",
              "      <td>-0.988500</td>\n",
              "      <td>-0.254910</td>\n",
              "      <td>0.467278</td>\n",
              "      <td>-0.092280</td>\n",
              "    </tr>\n",
              "    <tr>\n",
              "      <th>2021-05-12</th>\n",
              "      <td>-0.331106</td>\n",
              "      <td>-0.840814</td>\n",
              "      <td>0.020035</td>\n",
              "      <td>-0.040614</td>\n",
              "    </tr>\n",
              "  </tbody>\n",
              "</table>\n",
              "</div>"
            ],
            "text/plain": [
              "                   D         C         B         A\n",
              "2021-05-07  0.020140  1.049240 -1.354082  1.484617\n",
              "2021-05-08 -0.875892 -1.239378 -0.763700  0.558277\n",
              "2021-05-09 -0.100666  0.343816 -0.512637 -0.131735\n",
              "2021-05-10  0.727671 -1.735520  1.134397 -1.850576\n",
              "2021-05-11 -0.988500 -0.254910  0.467278 -0.092280\n",
              "2021-05-12 -0.331106 -0.840814  0.020035 -0.040614"
            ]
          },
          "metadata": {
            "tags": []
          },
          "execution_count": 44
        }
      ]
    },
    {
      "cell_type": "code",
      "metadata": {
        "colab": {
          "base_uri": "https://localhost:8080/",
          "height": 235
        },
        "id": "3btxOf1aRnFT",
        "outputId": "ecd5c09d-36df-4669-8945-0c905df69c9e"
      },
      "source": [
        "df.sort_index(axis=0 , ascending=False)"
      ],
      "execution_count": 45,
      "outputs": [
        {
          "output_type": "execute_result",
          "data": {
            "text/html": [
              "<div>\n",
              "<style scoped>\n",
              "    .dataframe tbody tr th:only-of-type {\n",
              "        vertical-align: middle;\n",
              "    }\n",
              "\n",
              "    .dataframe tbody tr th {\n",
              "        vertical-align: top;\n",
              "    }\n",
              "\n",
              "    .dataframe thead th {\n",
              "        text-align: right;\n",
              "    }\n",
              "</style>\n",
              "<table border=\"1\" class=\"dataframe\">\n",
              "  <thead>\n",
              "    <tr style=\"text-align: right;\">\n",
              "      <th></th>\n",
              "      <th>A</th>\n",
              "      <th>B</th>\n",
              "      <th>C</th>\n",
              "      <th>D</th>\n",
              "    </tr>\n",
              "  </thead>\n",
              "  <tbody>\n",
              "    <tr>\n",
              "      <th>2021-05-12</th>\n",
              "      <td>-0.040614</td>\n",
              "      <td>0.020035</td>\n",
              "      <td>-0.840814</td>\n",
              "      <td>-0.331106</td>\n",
              "    </tr>\n",
              "    <tr>\n",
              "      <th>2021-05-11</th>\n",
              "      <td>-0.092280</td>\n",
              "      <td>0.467278</td>\n",
              "      <td>-0.254910</td>\n",
              "      <td>-0.988500</td>\n",
              "    </tr>\n",
              "    <tr>\n",
              "      <th>2021-05-10</th>\n",
              "      <td>-1.850576</td>\n",
              "      <td>1.134397</td>\n",
              "      <td>-1.735520</td>\n",
              "      <td>0.727671</td>\n",
              "    </tr>\n",
              "    <tr>\n",
              "      <th>2021-05-09</th>\n",
              "      <td>-0.131735</td>\n",
              "      <td>-0.512637</td>\n",
              "      <td>0.343816</td>\n",
              "      <td>-0.100666</td>\n",
              "    </tr>\n",
              "    <tr>\n",
              "      <th>2021-05-08</th>\n",
              "      <td>0.558277</td>\n",
              "      <td>-0.763700</td>\n",
              "      <td>-1.239378</td>\n",
              "      <td>-0.875892</td>\n",
              "    </tr>\n",
              "    <tr>\n",
              "      <th>2021-05-07</th>\n",
              "      <td>1.484617</td>\n",
              "      <td>-1.354082</td>\n",
              "      <td>1.049240</td>\n",
              "      <td>0.020140</td>\n",
              "    </tr>\n",
              "  </tbody>\n",
              "</table>\n",
              "</div>"
            ],
            "text/plain": [
              "                   A         B         C         D\n",
              "2021-05-12 -0.040614  0.020035 -0.840814 -0.331106\n",
              "2021-05-11 -0.092280  0.467278 -0.254910 -0.988500\n",
              "2021-05-10 -1.850576  1.134397 -1.735520  0.727671\n",
              "2021-05-09 -0.131735 -0.512637  0.343816 -0.100666\n",
              "2021-05-08  0.558277 -0.763700 -1.239378 -0.875892\n",
              "2021-05-07  1.484617 -1.354082  1.049240  0.020140"
            ]
          },
          "metadata": {
            "tags": []
          },
          "execution_count": 45
        }
      ]
    },
    {
      "cell_type": "code",
      "metadata": {
        "colab": {
          "base_uri": "https://localhost:8080/",
          "height": 235
        },
        "id": "xM5TRO0JSRFT",
        "outputId": "f1fd9078-35d4-4cb5-8b03-d43a248d9ae0"
      },
      "source": [
        "df"
      ],
      "execution_count": 46,
      "outputs": [
        {
          "output_type": "execute_result",
          "data": {
            "text/html": [
              "<div>\n",
              "<style scoped>\n",
              "    .dataframe tbody tr th:only-of-type {\n",
              "        vertical-align: middle;\n",
              "    }\n",
              "\n",
              "    .dataframe tbody tr th {\n",
              "        vertical-align: top;\n",
              "    }\n",
              "\n",
              "    .dataframe thead th {\n",
              "        text-align: right;\n",
              "    }\n",
              "</style>\n",
              "<table border=\"1\" class=\"dataframe\">\n",
              "  <thead>\n",
              "    <tr style=\"text-align: right;\">\n",
              "      <th></th>\n",
              "      <th>A</th>\n",
              "      <th>B</th>\n",
              "      <th>C</th>\n",
              "      <th>D</th>\n",
              "    </tr>\n",
              "  </thead>\n",
              "  <tbody>\n",
              "    <tr>\n",
              "      <th>2021-05-07</th>\n",
              "      <td>1.484617</td>\n",
              "      <td>-1.354082</td>\n",
              "      <td>1.049240</td>\n",
              "      <td>0.020140</td>\n",
              "    </tr>\n",
              "    <tr>\n",
              "      <th>2021-05-08</th>\n",
              "      <td>0.558277</td>\n",
              "      <td>-0.763700</td>\n",
              "      <td>-1.239378</td>\n",
              "      <td>-0.875892</td>\n",
              "    </tr>\n",
              "    <tr>\n",
              "      <th>2021-05-09</th>\n",
              "      <td>-0.131735</td>\n",
              "      <td>-0.512637</td>\n",
              "      <td>0.343816</td>\n",
              "      <td>-0.100666</td>\n",
              "    </tr>\n",
              "    <tr>\n",
              "      <th>2021-05-10</th>\n",
              "      <td>-1.850576</td>\n",
              "      <td>1.134397</td>\n",
              "      <td>-1.735520</td>\n",
              "      <td>0.727671</td>\n",
              "    </tr>\n",
              "    <tr>\n",
              "      <th>2021-05-11</th>\n",
              "      <td>-0.092280</td>\n",
              "      <td>0.467278</td>\n",
              "      <td>-0.254910</td>\n",
              "      <td>-0.988500</td>\n",
              "    </tr>\n",
              "    <tr>\n",
              "      <th>2021-05-12</th>\n",
              "      <td>-0.040614</td>\n",
              "      <td>0.020035</td>\n",
              "      <td>-0.840814</td>\n",
              "      <td>-0.331106</td>\n",
              "    </tr>\n",
              "  </tbody>\n",
              "</table>\n",
              "</div>"
            ],
            "text/plain": [
              "                   A         B         C         D\n",
              "2021-05-07  1.484617 -1.354082  1.049240  0.020140\n",
              "2021-05-08  0.558277 -0.763700 -1.239378 -0.875892\n",
              "2021-05-09 -0.131735 -0.512637  0.343816 -0.100666\n",
              "2021-05-10 -1.850576  1.134397 -1.735520  0.727671\n",
              "2021-05-11 -0.092280  0.467278 -0.254910 -0.988500\n",
              "2021-05-12 -0.040614  0.020035 -0.840814 -0.331106"
            ]
          },
          "metadata": {
            "tags": []
          },
          "execution_count": 46
        }
      ]
    },
    {
      "cell_type": "code",
      "metadata": {
        "colab": {
          "base_uri": "https://localhost:8080/",
          "height": 235
        },
        "id": "6LOrULMNSrDy",
        "outputId": "44774b94-fab0-4ba8-ed18-b1c3f87d5c1a"
      },
      "source": [
        "df.sort_values(by='B')"
      ],
      "execution_count": 47,
      "outputs": [
        {
          "output_type": "execute_result",
          "data": {
            "text/html": [
              "<div>\n",
              "<style scoped>\n",
              "    .dataframe tbody tr th:only-of-type {\n",
              "        vertical-align: middle;\n",
              "    }\n",
              "\n",
              "    .dataframe tbody tr th {\n",
              "        vertical-align: top;\n",
              "    }\n",
              "\n",
              "    .dataframe thead th {\n",
              "        text-align: right;\n",
              "    }\n",
              "</style>\n",
              "<table border=\"1\" class=\"dataframe\">\n",
              "  <thead>\n",
              "    <tr style=\"text-align: right;\">\n",
              "      <th></th>\n",
              "      <th>A</th>\n",
              "      <th>B</th>\n",
              "      <th>C</th>\n",
              "      <th>D</th>\n",
              "    </tr>\n",
              "  </thead>\n",
              "  <tbody>\n",
              "    <tr>\n",
              "      <th>2021-05-07</th>\n",
              "      <td>1.484617</td>\n",
              "      <td>-1.354082</td>\n",
              "      <td>1.049240</td>\n",
              "      <td>0.020140</td>\n",
              "    </tr>\n",
              "    <tr>\n",
              "      <th>2021-05-08</th>\n",
              "      <td>0.558277</td>\n",
              "      <td>-0.763700</td>\n",
              "      <td>-1.239378</td>\n",
              "      <td>-0.875892</td>\n",
              "    </tr>\n",
              "    <tr>\n",
              "      <th>2021-05-09</th>\n",
              "      <td>-0.131735</td>\n",
              "      <td>-0.512637</td>\n",
              "      <td>0.343816</td>\n",
              "      <td>-0.100666</td>\n",
              "    </tr>\n",
              "    <tr>\n",
              "      <th>2021-05-12</th>\n",
              "      <td>-0.040614</td>\n",
              "      <td>0.020035</td>\n",
              "      <td>-0.840814</td>\n",
              "      <td>-0.331106</td>\n",
              "    </tr>\n",
              "    <tr>\n",
              "      <th>2021-05-11</th>\n",
              "      <td>-0.092280</td>\n",
              "      <td>0.467278</td>\n",
              "      <td>-0.254910</td>\n",
              "      <td>-0.988500</td>\n",
              "    </tr>\n",
              "    <tr>\n",
              "      <th>2021-05-10</th>\n",
              "      <td>-1.850576</td>\n",
              "      <td>1.134397</td>\n",
              "      <td>-1.735520</td>\n",
              "      <td>0.727671</td>\n",
              "    </tr>\n",
              "  </tbody>\n",
              "</table>\n",
              "</div>"
            ],
            "text/plain": [
              "                   A         B         C         D\n",
              "2021-05-07  1.484617 -1.354082  1.049240  0.020140\n",
              "2021-05-08  0.558277 -0.763700 -1.239378 -0.875892\n",
              "2021-05-09 -0.131735 -0.512637  0.343816 -0.100666\n",
              "2021-05-12 -0.040614  0.020035 -0.840814 -0.331106\n",
              "2021-05-11 -0.092280  0.467278 -0.254910 -0.988500\n",
              "2021-05-10 -1.850576  1.134397 -1.735520  0.727671"
            ]
          },
          "metadata": {
            "tags": []
          },
          "execution_count": 47
        }
      ]
    },
    {
      "cell_type": "code",
      "metadata": {
        "colab": {
          "base_uri": "https://localhost:8080/"
        },
        "id": "OTS02uTYSx3C",
        "outputId": "a9162a34-b75d-49a6-88e0-eb9c66f694ef"
      },
      "source": [
        "df['A']"
      ],
      "execution_count": 48,
      "outputs": [
        {
          "output_type": "execute_result",
          "data": {
            "text/plain": [
              "2021-05-07    1.484617\n",
              "2021-05-08    0.558277\n",
              "2021-05-09   -0.131735\n",
              "2021-05-10   -1.850576\n",
              "2021-05-11   -0.092280\n",
              "2021-05-12   -0.040614\n",
              "Freq: D, Name: A, dtype: float64"
            ]
          },
          "metadata": {
            "tags": []
          },
          "execution_count": 48
        }
      ]
    },
    {
      "cell_type": "code",
      "metadata": {
        "colab": {
          "base_uri": "https://localhost:8080/"
        },
        "id": "z1d_0ijYTHGC",
        "outputId": "1cd55078-a1ca-4e61-f870-555b4a644cab"
      },
      "source": [
        "df['B']"
      ],
      "execution_count": 49,
      "outputs": [
        {
          "output_type": "execute_result",
          "data": {
            "text/plain": [
              "2021-05-07   -1.354082\n",
              "2021-05-08   -0.763700\n",
              "2021-05-09   -0.512637\n",
              "2021-05-10    1.134397\n",
              "2021-05-11    0.467278\n",
              "2021-05-12    0.020035\n",
              "Freq: D, Name: B, dtype: float64"
            ]
          },
          "metadata": {
            "tags": []
          },
          "execution_count": 49
        }
      ]
    },
    {
      "cell_type": "code",
      "metadata": {
        "colab": {
          "base_uri": "https://localhost:8080/",
          "height": 235
        },
        "id": "oyZpiNfgTQWR",
        "outputId": "2aa8a956-2de2-47b1-bd64-60cca7f88ae8"
      },
      "source": [
        "df[['A', 'D']]\n",
        "df[['B', 'C', 'D']]"
      ],
      "execution_count": 55,
      "outputs": [
        {
          "output_type": "execute_result",
          "data": {
            "text/html": [
              "<div>\n",
              "<style scoped>\n",
              "    .dataframe tbody tr th:only-of-type {\n",
              "        vertical-align: middle;\n",
              "    }\n",
              "\n",
              "    .dataframe tbody tr th {\n",
              "        vertical-align: top;\n",
              "    }\n",
              "\n",
              "    .dataframe thead th {\n",
              "        text-align: right;\n",
              "    }\n",
              "</style>\n",
              "<table border=\"1\" class=\"dataframe\">\n",
              "  <thead>\n",
              "    <tr style=\"text-align: right;\">\n",
              "      <th></th>\n",
              "      <th>B</th>\n",
              "      <th>C</th>\n",
              "      <th>D</th>\n",
              "    </tr>\n",
              "  </thead>\n",
              "  <tbody>\n",
              "    <tr>\n",
              "      <th>2021-05-07</th>\n",
              "      <td>-1.354082</td>\n",
              "      <td>1.049240</td>\n",
              "      <td>0.020140</td>\n",
              "    </tr>\n",
              "    <tr>\n",
              "      <th>2021-05-08</th>\n",
              "      <td>-0.763700</td>\n",
              "      <td>-1.239378</td>\n",
              "      <td>-0.875892</td>\n",
              "    </tr>\n",
              "    <tr>\n",
              "      <th>2021-05-09</th>\n",
              "      <td>-0.512637</td>\n",
              "      <td>0.343816</td>\n",
              "      <td>-0.100666</td>\n",
              "    </tr>\n",
              "    <tr>\n",
              "      <th>2021-05-10</th>\n",
              "      <td>1.134397</td>\n",
              "      <td>-1.735520</td>\n",
              "      <td>0.727671</td>\n",
              "    </tr>\n",
              "    <tr>\n",
              "      <th>2021-05-11</th>\n",
              "      <td>0.467278</td>\n",
              "      <td>-0.254910</td>\n",
              "      <td>-0.988500</td>\n",
              "    </tr>\n",
              "    <tr>\n",
              "      <th>2021-05-12</th>\n",
              "      <td>0.020035</td>\n",
              "      <td>-0.840814</td>\n",
              "      <td>-0.331106</td>\n",
              "    </tr>\n",
              "  </tbody>\n",
              "</table>\n",
              "</div>"
            ],
            "text/plain": [
              "                   B         C         D\n",
              "2021-05-07 -1.354082  1.049240  0.020140\n",
              "2021-05-08 -0.763700 -1.239378 -0.875892\n",
              "2021-05-09 -0.512637  0.343816 -0.100666\n",
              "2021-05-10  1.134397 -1.735520  0.727671\n",
              "2021-05-11  0.467278 -0.254910 -0.988500\n",
              "2021-05-12  0.020035 -0.840814 -0.331106"
            ]
          },
          "metadata": {
            "tags": []
          },
          "execution_count": 55
        }
      ]
    },
    {
      "cell_type": "code",
      "metadata": {
        "colab": {
          "base_uri": "https://localhost:8080/"
        },
        "id": "yEH4LYEhTVUy",
        "outputId": "b1a76f74-f7cb-4d73-c879-5e746fdc0e68"
      },
      "source": [
        "df[0:3],\n",
        "print(df[\"20210507\" :\"20210509\" ])\n",
        "print(df[[\"A\", \"B\", \"C\"]])"
      ],
      "execution_count": 63,
      "outputs": [
        {
          "output_type": "stream",
          "text": [
            "                   A         B         C         D\n",
            "2021-05-07  1.484617 -1.354082  1.049240  0.020140\n",
            "2021-05-08  0.558277 -0.763700 -1.239378 -0.875892\n",
            "2021-05-09 -0.131735 -0.512637  0.343816 -0.100666\n",
            "                   A         B         C\n",
            "2021-05-07  1.484617 -1.354082  1.049240\n",
            "2021-05-08  0.558277 -0.763700 -1.239378\n",
            "2021-05-09 -0.131735 -0.512637  0.343816\n",
            "2021-05-10 -1.850576  1.134397 -1.735520\n",
            "2021-05-11 -0.092280  0.467278 -0.254910\n",
            "2021-05-12 -0.040614  0.020035 -0.840814\n"
          ],
          "name": "stdout"
        }
      ]
    },
    {
      "cell_type": "code",
      "metadata": {
        "colab": {
          "base_uri": "https://localhost:8080/",
          "height": 235
        },
        "id": "TrVlr_7kT8TS",
        "outputId": "7745393f-3387-4fbb-d574-56e3bb1f2542"
      },
      "source": [
        "df"
      ],
      "execution_count": 64,
      "outputs": [
        {
          "output_type": "execute_result",
          "data": {
            "text/html": [
              "<div>\n",
              "<style scoped>\n",
              "    .dataframe tbody tr th:only-of-type {\n",
              "        vertical-align: middle;\n",
              "    }\n",
              "\n",
              "    .dataframe tbody tr th {\n",
              "        vertical-align: top;\n",
              "    }\n",
              "\n",
              "    .dataframe thead th {\n",
              "        text-align: right;\n",
              "    }\n",
              "</style>\n",
              "<table border=\"1\" class=\"dataframe\">\n",
              "  <thead>\n",
              "    <tr style=\"text-align: right;\">\n",
              "      <th></th>\n",
              "      <th>A</th>\n",
              "      <th>B</th>\n",
              "      <th>C</th>\n",
              "      <th>D</th>\n",
              "    </tr>\n",
              "  </thead>\n",
              "  <tbody>\n",
              "    <tr>\n",
              "      <th>2021-05-07</th>\n",
              "      <td>1.484617</td>\n",
              "      <td>-1.354082</td>\n",
              "      <td>1.049240</td>\n",
              "      <td>0.020140</td>\n",
              "    </tr>\n",
              "    <tr>\n",
              "      <th>2021-05-08</th>\n",
              "      <td>0.558277</td>\n",
              "      <td>-0.763700</td>\n",
              "      <td>-1.239378</td>\n",
              "      <td>-0.875892</td>\n",
              "    </tr>\n",
              "    <tr>\n",
              "      <th>2021-05-09</th>\n",
              "      <td>-0.131735</td>\n",
              "      <td>-0.512637</td>\n",
              "      <td>0.343816</td>\n",
              "      <td>-0.100666</td>\n",
              "    </tr>\n",
              "    <tr>\n",
              "      <th>2021-05-10</th>\n",
              "      <td>-1.850576</td>\n",
              "      <td>1.134397</td>\n",
              "      <td>-1.735520</td>\n",
              "      <td>0.727671</td>\n",
              "    </tr>\n",
              "    <tr>\n",
              "      <th>2021-05-11</th>\n",
              "      <td>-0.092280</td>\n",
              "      <td>0.467278</td>\n",
              "      <td>-0.254910</td>\n",
              "      <td>-0.988500</td>\n",
              "    </tr>\n",
              "    <tr>\n",
              "      <th>2021-05-12</th>\n",
              "      <td>-0.040614</td>\n",
              "      <td>0.020035</td>\n",
              "      <td>-0.840814</td>\n",
              "      <td>-0.331106</td>\n",
              "    </tr>\n",
              "  </tbody>\n",
              "</table>\n",
              "</div>"
            ],
            "text/plain": [
              "                   A         B         C         D\n",
              "2021-05-07  1.484617 -1.354082  1.049240  0.020140\n",
              "2021-05-08  0.558277 -0.763700 -1.239378 -0.875892\n",
              "2021-05-09 -0.131735 -0.512637  0.343816 -0.100666\n",
              "2021-05-10 -1.850576  1.134397 -1.735520  0.727671\n",
              "2021-05-11 -0.092280  0.467278 -0.254910 -0.988500\n",
              "2021-05-12 -0.040614  0.020035 -0.840814 -0.331106"
            ]
          },
          "metadata": {
            "tags": []
          },
          "execution_count": 64
        }
      ]
    },
    {
      "cell_type": "code",
      "metadata": {
        "colab": {
          "base_uri": "https://localhost:8080/",
          "height": 235
        },
        "id": "JZbtuhHNUsJS",
        "outputId": "b4031671-1c18-4208-80b5-be7977e5f1d8"
      },
      "source": [
        "df.loc[:,['A']]"
      ],
      "execution_count": 68,
      "outputs": [
        {
          "output_type": "execute_result",
          "data": {
            "text/html": [
              "<div>\n",
              "<style scoped>\n",
              "    .dataframe tbody tr th:only-of-type {\n",
              "        vertical-align: middle;\n",
              "    }\n",
              "\n",
              "    .dataframe tbody tr th {\n",
              "        vertical-align: top;\n",
              "    }\n",
              "\n",
              "    .dataframe thead th {\n",
              "        text-align: right;\n",
              "    }\n",
              "</style>\n",
              "<table border=\"1\" class=\"dataframe\">\n",
              "  <thead>\n",
              "    <tr style=\"text-align: right;\">\n",
              "      <th></th>\n",
              "      <th>A</th>\n",
              "    </tr>\n",
              "  </thead>\n",
              "  <tbody>\n",
              "    <tr>\n",
              "      <th>2021-05-07</th>\n",
              "      <td>1.484617</td>\n",
              "    </tr>\n",
              "    <tr>\n",
              "      <th>2021-05-08</th>\n",
              "      <td>0.558277</td>\n",
              "    </tr>\n",
              "    <tr>\n",
              "      <th>2021-05-09</th>\n",
              "      <td>-0.131735</td>\n",
              "    </tr>\n",
              "    <tr>\n",
              "      <th>2021-05-10</th>\n",
              "      <td>-1.850576</td>\n",
              "    </tr>\n",
              "    <tr>\n",
              "      <th>2021-05-11</th>\n",
              "      <td>-0.092280</td>\n",
              "    </tr>\n",
              "    <tr>\n",
              "      <th>2021-05-12</th>\n",
              "      <td>-0.040614</td>\n",
              "    </tr>\n",
              "  </tbody>\n",
              "</table>\n",
              "</div>"
            ],
            "text/plain": [
              "                   A\n",
              "2021-05-07  1.484617\n",
              "2021-05-08  0.558277\n",
              "2021-05-09 -0.131735\n",
              "2021-05-10 -1.850576\n",
              "2021-05-11 -0.092280\n",
              "2021-05-12 -0.040614"
            ]
          },
          "metadata": {
            "tags": []
          },
          "execution_count": 68
        }
      ]
    },
    {
      "cell_type": "code",
      "metadata": {
        "colab": {
          "base_uri": "https://localhost:8080/",
          "height": 111
        },
        "id": "cnZhI47WUvHh",
        "outputId": "2ac7f68f-c6c0-4e86-8fb0-185d1c774f93"
      },
      "source": [
        "df.loc[\"20210507\" : \"20210508\", [\"A\"]]"
      ],
      "execution_count": 69,
      "outputs": [
        {
          "output_type": "execute_result",
          "data": {
            "text/html": [
              "<div>\n",
              "<style scoped>\n",
              "    .dataframe tbody tr th:only-of-type {\n",
              "        vertical-align: middle;\n",
              "    }\n",
              "\n",
              "    .dataframe tbody tr th {\n",
              "        vertical-align: top;\n",
              "    }\n",
              "\n",
              "    .dataframe thead th {\n",
              "        text-align: right;\n",
              "    }\n",
              "</style>\n",
              "<table border=\"1\" class=\"dataframe\">\n",
              "  <thead>\n",
              "    <tr style=\"text-align: right;\">\n",
              "      <th></th>\n",
              "      <th>A</th>\n",
              "    </tr>\n",
              "  </thead>\n",
              "  <tbody>\n",
              "    <tr>\n",
              "      <th>2021-05-07</th>\n",
              "      <td>1.484617</td>\n",
              "    </tr>\n",
              "    <tr>\n",
              "      <th>2021-05-08</th>\n",
              "      <td>0.558277</td>\n",
              "    </tr>\n",
              "  </tbody>\n",
              "</table>\n",
              "</div>"
            ],
            "text/plain": [
              "                   A\n",
              "2021-05-07  1.484617\n",
              "2021-05-08  0.558277"
            ]
          },
          "metadata": {
            "tags": []
          },
          "execution_count": 69
        }
      ]
    },
    {
      "cell_type": "code",
      "metadata": {
        "colab": {
          "base_uri": "https://localhost:8080/",
          "height": 111
        },
        "id": "fCiwICMIVP_h",
        "outputId": "39b5e3d6-9995-425f-f2f4-b2faf08dd18e"
      },
      "source": [
        "df.iloc[[1,3],[0 ,3]]"
      ],
      "execution_count": 77,
      "outputs": [
        {
          "output_type": "execute_result",
          "data": {
            "text/html": [
              "<div>\n",
              "<style scoped>\n",
              "    .dataframe tbody tr th:only-of-type {\n",
              "        vertical-align: middle;\n",
              "    }\n",
              "\n",
              "    .dataframe tbody tr th {\n",
              "        vertical-align: top;\n",
              "    }\n",
              "\n",
              "    .dataframe thead th {\n",
              "        text-align: right;\n",
              "    }\n",
              "</style>\n",
              "<table border=\"1\" class=\"dataframe\">\n",
              "  <thead>\n",
              "    <tr style=\"text-align: right;\">\n",
              "      <th></th>\n",
              "      <th>A</th>\n",
              "      <th>D</th>\n",
              "    </tr>\n",
              "  </thead>\n",
              "  <tbody>\n",
              "    <tr>\n",
              "      <th>2021-05-08</th>\n",
              "      <td>0.558277</td>\n",
              "      <td>-0.875892</td>\n",
              "    </tr>\n",
              "    <tr>\n",
              "      <th>2021-05-10</th>\n",
              "      <td>-1.850576</td>\n",
              "      <td>0.727671</td>\n",
              "    </tr>\n",
              "  </tbody>\n",
              "</table>\n",
              "</div>"
            ],
            "text/plain": [
              "                   A         D\n",
              "2021-05-08  0.558277 -0.875892\n",
              "2021-05-10 -1.850576  0.727671"
            ]
          },
          "metadata": {
            "tags": []
          },
          "execution_count": 77
        }
      ]
    },
    {
      "cell_type": "code",
      "metadata": {
        "colab": {
          "base_uri": "https://localhost:8080/",
          "height": 142
        },
        "id": "qw8khGKmVeAB",
        "outputId": "a339d385-e02b-43fe-eceb-beacf33ad99e"
      },
      "source": [
        "df.iloc[0:3,1:3]"
      ],
      "execution_count": 78,
      "outputs": [
        {
          "output_type": "execute_result",
          "data": {
            "text/html": [
              "<div>\n",
              "<style scoped>\n",
              "    .dataframe tbody tr th:only-of-type {\n",
              "        vertical-align: middle;\n",
              "    }\n",
              "\n",
              "    .dataframe tbody tr th {\n",
              "        vertical-align: top;\n",
              "    }\n",
              "\n",
              "    .dataframe thead th {\n",
              "        text-align: right;\n",
              "    }\n",
              "</style>\n",
              "<table border=\"1\" class=\"dataframe\">\n",
              "  <thead>\n",
              "    <tr style=\"text-align: right;\">\n",
              "      <th></th>\n",
              "      <th>B</th>\n",
              "      <th>C</th>\n",
              "    </tr>\n",
              "  </thead>\n",
              "  <tbody>\n",
              "    <tr>\n",
              "      <th>2021-05-07</th>\n",
              "      <td>-1.354082</td>\n",
              "      <td>1.049240</td>\n",
              "    </tr>\n",
              "    <tr>\n",
              "      <th>2021-05-08</th>\n",
              "      <td>-0.763700</td>\n",
              "      <td>-1.239378</td>\n",
              "    </tr>\n",
              "    <tr>\n",
              "      <th>2021-05-09</th>\n",
              "      <td>-0.512637</td>\n",
              "      <td>0.343816</td>\n",
              "    </tr>\n",
              "  </tbody>\n",
              "</table>\n",
              "</div>"
            ],
            "text/plain": [
              "                   B         C\n",
              "2021-05-07 -1.354082  1.049240\n",
              "2021-05-08 -0.763700 -1.239378\n",
              "2021-05-09 -0.512637  0.343816"
            ]
          },
          "metadata": {
            "tags": []
          },
          "execution_count": 78
        }
      ]
    },
    {
      "cell_type": "code",
      "metadata": {
        "colab": {
          "base_uri": "https://localhost:8080/",
          "height": 111
        },
        "id": "kpykCGg2WtsA",
        "outputId": "10409fdb-6b2c-4a69-cbfd-33cca384ffd2"
      },
      "source": [
        "df.iloc[[0,3], [1.3]]"
      ],
      "execution_count": 80,
      "outputs": [
        {
          "output_type": "execute_result",
          "data": {
            "text/html": [
              "<div>\n",
              "<style scoped>\n",
              "    .dataframe tbody tr th:only-of-type {\n",
              "        vertical-align: middle;\n",
              "    }\n",
              "\n",
              "    .dataframe tbody tr th {\n",
              "        vertical-align: top;\n",
              "    }\n",
              "\n",
              "    .dataframe thead th {\n",
              "        text-align: right;\n",
              "    }\n",
              "</style>\n",
              "<table border=\"1\" class=\"dataframe\">\n",
              "  <thead>\n",
              "    <tr style=\"text-align: right;\">\n",
              "      <th></th>\n",
              "      <th>B</th>\n",
              "    </tr>\n",
              "  </thead>\n",
              "  <tbody>\n",
              "    <tr>\n",
              "      <th>2021-05-07</th>\n",
              "      <td>-1.354082</td>\n",
              "    </tr>\n",
              "    <tr>\n",
              "      <th>2021-05-10</th>\n",
              "      <td>1.134397</td>\n",
              "    </tr>\n",
              "  </tbody>\n",
              "</table>\n",
              "</div>"
            ],
            "text/plain": [
              "                   B\n",
              "2021-05-07 -1.354082\n",
              "2021-05-10  1.134397"
            ]
          },
          "metadata": {
            "tags": []
          },
          "execution_count": 80
        }
      ]
    },
    {
      "cell_type": "code",
      "metadata": {
        "colab": {
          "base_uri": "https://localhost:8080/"
        },
        "id": "x7lARSvBWz6v",
        "outputId": "5540bb7f-1de9-43f2-e681-8ebb49a1811f"
      },
      "source": [
        "df.iloc[0,1]"
      ],
      "execution_count": 82,
      "outputs": [
        {
          "output_type": "execute_result",
          "data": {
            "text/plain": [
              "-1.3540820737297745"
            ]
          },
          "metadata": {
            "tags": []
          },
          "execution_count": 82
        }
      ]
    },
    {
      "cell_type": "code",
      "metadata": {
        "colab": {
          "base_uri": "https://localhost:8080/",
          "height": 235
        },
        "id": "30fsMZdrW6_f",
        "outputId": "0b4d52f9-c1c6-466e-a511-c6e2f9e74244"
      },
      "source": [
        "df"
      ],
      "execution_count": 83,
      "outputs": [
        {
          "output_type": "execute_result",
          "data": {
            "text/html": [
              "<div>\n",
              "<style scoped>\n",
              "    .dataframe tbody tr th:only-of-type {\n",
              "        vertical-align: middle;\n",
              "    }\n",
              "\n",
              "    .dataframe tbody tr th {\n",
              "        vertical-align: top;\n",
              "    }\n",
              "\n",
              "    .dataframe thead th {\n",
              "        text-align: right;\n",
              "    }\n",
              "</style>\n",
              "<table border=\"1\" class=\"dataframe\">\n",
              "  <thead>\n",
              "    <tr style=\"text-align: right;\">\n",
              "      <th></th>\n",
              "      <th>A</th>\n",
              "      <th>B</th>\n",
              "      <th>C</th>\n",
              "      <th>D</th>\n",
              "    </tr>\n",
              "  </thead>\n",
              "  <tbody>\n",
              "    <tr>\n",
              "      <th>2021-05-07</th>\n",
              "      <td>1.484617</td>\n",
              "      <td>-1.354082</td>\n",
              "      <td>1.049240</td>\n",
              "      <td>0.020140</td>\n",
              "    </tr>\n",
              "    <tr>\n",
              "      <th>2021-05-08</th>\n",
              "      <td>0.558277</td>\n",
              "      <td>-0.763700</td>\n",
              "      <td>-1.239378</td>\n",
              "      <td>-0.875892</td>\n",
              "    </tr>\n",
              "    <tr>\n",
              "      <th>2021-05-09</th>\n",
              "      <td>-0.131735</td>\n",
              "      <td>-0.512637</td>\n",
              "      <td>0.343816</td>\n",
              "      <td>-0.100666</td>\n",
              "    </tr>\n",
              "    <tr>\n",
              "      <th>2021-05-10</th>\n",
              "      <td>-1.850576</td>\n",
              "      <td>1.134397</td>\n",
              "      <td>-1.735520</td>\n",
              "      <td>0.727671</td>\n",
              "    </tr>\n",
              "    <tr>\n",
              "      <th>2021-05-11</th>\n",
              "      <td>-0.092280</td>\n",
              "      <td>0.467278</td>\n",
              "      <td>-0.254910</td>\n",
              "      <td>-0.988500</td>\n",
              "    </tr>\n",
              "    <tr>\n",
              "      <th>2021-05-12</th>\n",
              "      <td>-0.040614</td>\n",
              "      <td>0.020035</td>\n",
              "      <td>-0.840814</td>\n",
              "      <td>-0.331106</td>\n",
              "    </tr>\n",
              "  </tbody>\n",
              "</table>\n",
              "</div>"
            ],
            "text/plain": [
              "                   A         B         C         D\n",
              "2021-05-07  1.484617 -1.354082  1.049240  0.020140\n",
              "2021-05-08  0.558277 -0.763700 -1.239378 -0.875892\n",
              "2021-05-09 -0.131735 -0.512637  0.343816 -0.100666\n",
              "2021-05-10 -1.850576  1.134397 -1.735520  0.727671\n",
              "2021-05-11 -0.092280  0.467278 -0.254910 -0.988500\n",
              "2021-05-12 -0.040614  0.020035 -0.840814 -0.331106"
            ]
          },
          "metadata": {
            "tags": []
          },
          "execution_count": 83
        }
      ]
    },
    {
      "cell_type": "code",
      "metadata": {
        "colab": {
          "base_uri": "https://localhost:8080/"
        },
        "id": "-CxLspfAW9WQ",
        "outputId": "a932f5a8-763f-4e8f-a2ea-0df772dcb455"
      },
      "source": [
        "df.iloc[0,0]"
      ],
      "execution_count": 84,
      "outputs": [
        {
          "output_type": "execute_result",
          "data": {
            "text/plain": [
              "1.4846168136230125"
            ]
          },
          "metadata": {
            "tags": []
          },
          "execution_count": 84
        }
      ]
    },
    {
      "cell_type": "code",
      "metadata": {
        "colab": {
          "base_uri": "https://localhost:8080/",
          "height": 235
        },
        "id": "OeuF9moXXDy_",
        "outputId": "0eb0d159-1ce9-4203-b5cc-6a15b470efcd"
      },
      "source": [
        "df"
      ],
      "execution_count": 85,
      "outputs": [
        {
          "output_type": "execute_result",
          "data": {
            "text/html": [
              "<div>\n",
              "<style scoped>\n",
              "    .dataframe tbody tr th:only-of-type {\n",
              "        vertical-align: middle;\n",
              "    }\n",
              "\n",
              "    .dataframe tbody tr th {\n",
              "        vertical-align: top;\n",
              "    }\n",
              "\n",
              "    .dataframe thead th {\n",
              "        text-align: right;\n",
              "    }\n",
              "</style>\n",
              "<table border=\"1\" class=\"dataframe\">\n",
              "  <thead>\n",
              "    <tr style=\"text-align: right;\">\n",
              "      <th></th>\n",
              "      <th>A</th>\n",
              "      <th>B</th>\n",
              "      <th>C</th>\n",
              "      <th>D</th>\n",
              "    </tr>\n",
              "  </thead>\n",
              "  <tbody>\n",
              "    <tr>\n",
              "      <th>2021-05-07</th>\n",
              "      <td>1.484617</td>\n",
              "      <td>-1.354082</td>\n",
              "      <td>1.049240</td>\n",
              "      <td>0.020140</td>\n",
              "    </tr>\n",
              "    <tr>\n",
              "      <th>2021-05-08</th>\n",
              "      <td>0.558277</td>\n",
              "      <td>-0.763700</td>\n",
              "      <td>-1.239378</td>\n",
              "      <td>-0.875892</td>\n",
              "    </tr>\n",
              "    <tr>\n",
              "      <th>2021-05-09</th>\n",
              "      <td>-0.131735</td>\n",
              "      <td>-0.512637</td>\n",
              "      <td>0.343816</td>\n",
              "      <td>-0.100666</td>\n",
              "    </tr>\n",
              "    <tr>\n",
              "      <th>2021-05-10</th>\n",
              "      <td>-1.850576</td>\n",
              "      <td>1.134397</td>\n",
              "      <td>-1.735520</td>\n",
              "      <td>0.727671</td>\n",
              "    </tr>\n",
              "    <tr>\n",
              "      <th>2021-05-11</th>\n",
              "      <td>-0.092280</td>\n",
              "      <td>0.467278</td>\n",
              "      <td>-0.254910</td>\n",
              "      <td>-0.988500</td>\n",
              "    </tr>\n",
              "    <tr>\n",
              "      <th>2021-05-12</th>\n",
              "      <td>-0.040614</td>\n",
              "      <td>0.020035</td>\n",
              "      <td>-0.840814</td>\n",
              "      <td>-0.331106</td>\n",
              "    </tr>\n",
              "  </tbody>\n",
              "</table>\n",
              "</div>"
            ],
            "text/plain": [
              "                   A         B         C         D\n",
              "2021-05-07  1.484617 -1.354082  1.049240  0.020140\n",
              "2021-05-08  0.558277 -0.763700 -1.239378 -0.875892\n",
              "2021-05-09 -0.131735 -0.512637  0.343816 -0.100666\n",
              "2021-05-10 -1.850576  1.134397 -1.735520  0.727671\n",
              "2021-05-11 -0.092280  0.467278 -0.254910 -0.988500\n",
              "2021-05-12 -0.040614  0.020035 -0.840814 -0.331106"
            ]
          },
          "metadata": {
            "tags": []
          },
          "execution_count": 85
        }
      ]
    },
    {
      "cell_type": "code",
      "metadata": {
        "colab": {
          "base_uri": "https://localhost:8080/"
        },
        "id": "eGH_GgIYYRpH",
        "outputId": "e467e332-5e11-4bf2-9abb-50ff12eb7e13"
      },
      "source": [
        "df.A \n"
      ],
      "execution_count": 89,
      "outputs": [
        {
          "output_type": "execute_result",
          "data": {
            "text/plain": [
              "2021-05-07    1.484617\n",
              "2021-05-08    0.558277\n",
              "2021-05-09   -0.131735\n",
              "2021-05-10   -1.850576\n",
              "2021-05-11   -0.092280\n",
              "2021-05-12   -0.040614\n",
              "Freq: D, Name: A, dtype: float64"
            ]
          },
          "metadata": {
            "tags": []
          },
          "execution_count": 89
        }
      ]
    },
    {
      "cell_type": "code",
      "metadata": {
        "colab": {
          "base_uri": "https://localhost:8080/"
        },
        "id": "enf6OMlGYWAW",
        "outputId": "8dcc606d-9fe2-4f5d-e663-2323a3778faa"
      },
      "source": [
        "df.A > 0"
      ],
      "execution_count": 90,
      "outputs": [
        {
          "output_type": "execute_result",
          "data": {
            "text/plain": [
              "2021-05-07     True\n",
              "2021-05-08     True\n",
              "2021-05-09    False\n",
              "2021-05-10    False\n",
              "2021-05-11    False\n",
              "2021-05-12    False\n",
              "Freq: D, Name: A, dtype: bool"
            ]
          },
          "metadata": {
            "tags": []
          },
          "execution_count": 90
        }
      ]
    },
    {
      "cell_type": "code",
      "metadata": {
        "colab": {
          "base_uri": "https://localhost:8080/",
          "height": 111
        },
        "id": "ZM0Ryir2Yjtl",
        "outputId": "5696450a-f963-4ffb-f825-35b3c082d3c5"
      },
      "source": [
        "df[df.A > 0]"
      ],
      "execution_count": 92,
      "outputs": [
        {
          "output_type": "execute_result",
          "data": {
            "text/html": [
              "<div>\n",
              "<style scoped>\n",
              "    .dataframe tbody tr th:only-of-type {\n",
              "        vertical-align: middle;\n",
              "    }\n",
              "\n",
              "    .dataframe tbody tr th {\n",
              "        vertical-align: top;\n",
              "    }\n",
              "\n",
              "    .dataframe thead th {\n",
              "        text-align: right;\n",
              "    }\n",
              "</style>\n",
              "<table border=\"1\" class=\"dataframe\">\n",
              "  <thead>\n",
              "    <tr style=\"text-align: right;\">\n",
              "      <th></th>\n",
              "      <th>A</th>\n",
              "      <th>B</th>\n",
              "      <th>C</th>\n",
              "      <th>D</th>\n",
              "    </tr>\n",
              "  </thead>\n",
              "  <tbody>\n",
              "    <tr>\n",
              "      <th>2021-05-07</th>\n",
              "      <td>1.484617</td>\n",
              "      <td>-1.354082</td>\n",
              "      <td>1.049240</td>\n",
              "      <td>0.020140</td>\n",
              "    </tr>\n",
              "    <tr>\n",
              "      <th>2021-05-08</th>\n",
              "      <td>0.558277</td>\n",
              "      <td>-0.763700</td>\n",
              "      <td>-1.239378</td>\n",
              "      <td>-0.875892</td>\n",
              "    </tr>\n",
              "  </tbody>\n",
              "</table>\n",
              "</div>"
            ],
            "text/plain": [
              "                   A         B         C         D\n",
              "2021-05-07  1.484617 -1.354082  1.049240  0.020140\n",
              "2021-05-08  0.558277 -0.763700 -1.239378 -0.875892"
            ]
          },
          "metadata": {
            "tags": []
          },
          "execution_count": 92
        }
      ]
    },
    {
      "cell_type": "code",
      "metadata": {
        "colab": {
          "base_uri": "https://localhost:8080/",
          "height": 111
        },
        "id": "G7IDxm1fYrBm",
        "outputId": "1b36d78a-3e22-4f45-f7b0-04eb659ad433"
      },
      "source": [
        "df[ df.A > 0.5]"
      ],
      "execution_count": 93,
      "outputs": [
        {
          "output_type": "execute_result",
          "data": {
            "text/html": [
              "<div>\n",
              "<style scoped>\n",
              "    .dataframe tbody tr th:only-of-type {\n",
              "        vertical-align: middle;\n",
              "    }\n",
              "\n",
              "    .dataframe tbody tr th {\n",
              "        vertical-align: top;\n",
              "    }\n",
              "\n",
              "    .dataframe thead th {\n",
              "        text-align: right;\n",
              "    }\n",
              "</style>\n",
              "<table border=\"1\" class=\"dataframe\">\n",
              "  <thead>\n",
              "    <tr style=\"text-align: right;\">\n",
              "      <th></th>\n",
              "      <th>A</th>\n",
              "      <th>B</th>\n",
              "      <th>C</th>\n",
              "      <th>D</th>\n",
              "    </tr>\n",
              "  </thead>\n",
              "  <tbody>\n",
              "    <tr>\n",
              "      <th>2021-05-07</th>\n",
              "      <td>1.484617</td>\n",
              "      <td>-1.354082</td>\n",
              "      <td>1.049240</td>\n",
              "      <td>0.020140</td>\n",
              "    </tr>\n",
              "    <tr>\n",
              "      <th>2021-05-08</th>\n",
              "      <td>0.558277</td>\n",
              "      <td>-0.763700</td>\n",
              "      <td>-1.239378</td>\n",
              "      <td>-0.875892</td>\n",
              "    </tr>\n",
              "  </tbody>\n",
              "</table>\n",
              "</div>"
            ],
            "text/plain": [
              "                   A         B         C         D\n",
              "2021-05-07  1.484617 -1.354082  1.049240  0.020140\n",
              "2021-05-08  0.558277 -0.763700 -1.239378 -0.875892"
            ]
          },
          "metadata": {
            "tags": []
          },
          "execution_count": 93
        }
      ]
    },
    {
      "cell_type": "code",
      "metadata": {
        "colab": {
          "base_uri": "https://localhost:8080/",
          "height": 235
        },
        "id": "1SIfP7mDY6Om",
        "outputId": "e335fcca-c8bc-4f0f-c35e-99b7129836f1"
      },
      "source": [
        "df > 0"
      ],
      "execution_count": 94,
      "outputs": [
        {
          "output_type": "execute_result",
          "data": {
            "text/html": [
              "<div>\n",
              "<style scoped>\n",
              "    .dataframe tbody tr th:only-of-type {\n",
              "        vertical-align: middle;\n",
              "    }\n",
              "\n",
              "    .dataframe tbody tr th {\n",
              "        vertical-align: top;\n",
              "    }\n",
              "\n",
              "    .dataframe thead th {\n",
              "        text-align: right;\n",
              "    }\n",
              "</style>\n",
              "<table border=\"1\" class=\"dataframe\">\n",
              "  <thead>\n",
              "    <tr style=\"text-align: right;\">\n",
              "      <th></th>\n",
              "      <th>A</th>\n",
              "      <th>B</th>\n",
              "      <th>C</th>\n",
              "      <th>D</th>\n",
              "    </tr>\n",
              "  </thead>\n",
              "  <tbody>\n",
              "    <tr>\n",
              "      <th>2021-05-07</th>\n",
              "      <td>True</td>\n",
              "      <td>False</td>\n",
              "      <td>True</td>\n",
              "      <td>True</td>\n",
              "    </tr>\n",
              "    <tr>\n",
              "      <th>2021-05-08</th>\n",
              "      <td>True</td>\n",
              "      <td>False</td>\n",
              "      <td>False</td>\n",
              "      <td>False</td>\n",
              "    </tr>\n",
              "    <tr>\n",
              "      <th>2021-05-09</th>\n",
              "      <td>False</td>\n",
              "      <td>False</td>\n",
              "      <td>True</td>\n",
              "      <td>False</td>\n",
              "    </tr>\n",
              "    <tr>\n",
              "      <th>2021-05-10</th>\n",
              "      <td>False</td>\n",
              "      <td>True</td>\n",
              "      <td>False</td>\n",
              "      <td>True</td>\n",
              "    </tr>\n",
              "    <tr>\n",
              "      <th>2021-05-11</th>\n",
              "      <td>False</td>\n",
              "      <td>True</td>\n",
              "      <td>False</td>\n",
              "      <td>False</td>\n",
              "    </tr>\n",
              "    <tr>\n",
              "      <th>2021-05-12</th>\n",
              "      <td>False</td>\n",
              "      <td>True</td>\n",
              "      <td>False</td>\n",
              "      <td>False</td>\n",
              "    </tr>\n",
              "  </tbody>\n",
              "</table>\n",
              "</div>"
            ],
            "text/plain": [
              "                A      B      C      D\n",
              "2021-05-07   True  False   True   True\n",
              "2021-05-08   True  False  False  False\n",
              "2021-05-09  False  False   True  False\n",
              "2021-05-10  False   True  False   True\n",
              "2021-05-11  False   True  False  False\n",
              "2021-05-12  False   True  False  False"
            ]
          },
          "metadata": {
            "tags": []
          },
          "execution_count": 94
        }
      ]
    },
    {
      "cell_type": "code",
      "metadata": {
        "colab": {
          "base_uri": "https://localhost:8080/",
          "height": 235
        },
        "id": "lNRsT73DY-6m",
        "outputId": "c976ef8b-334b-499a-e395-383cf0e1b412"
      },
      "source": [
        "df[df>0]"
      ],
      "execution_count": 95,
      "outputs": [
        {
          "output_type": "execute_result",
          "data": {
            "text/html": [
              "<div>\n",
              "<style scoped>\n",
              "    .dataframe tbody tr th:only-of-type {\n",
              "        vertical-align: middle;\n",
              "    }\n",
              "\n",
              "    .dataframe tbody tr th {\n",
              "        vertical-align: top;\n",
              "    }\n",
              "\n",
              "    .dataframe thead th {\n",
              "        text-align: right;\n",
              "    }\n",
              "</style>\n",
              "<table border=\"1\" class=\"dataframe\">\n",
              "  <thead>\n",
              "    <tr style=\"text-align: right;\">\n",
              "      <th></th>\n",
              "      <th>A</th>\n",
              "      <th>B</th>\n",
              "      <th>C</th>\n",
              "      <th>D</th>\n",
              "    </tr>\n",
              "  </thead>\n",
              "  <tbody>\n",
              "    <tr>\n",
              "      <th>2021-05-07</th>\n",
              "      <td>1.484617</td>\n",
              "      <td>NaN</td>\n",
              "      <td>1.049240</td>\n",
              "      <td>0.020140</td>\n",
              "    </tr>\n",
              "    <tr>\n",
              "      <th>2021-05-08</th>\n",
              "      <td>0.558277</td>\n",
              "      <td>NaN</td>\n",
              "      <td>NaN</td>\n",
              "      <td>NaN</td>\n",
              "    </tr>\n",
              "    <tr>\n",
              "      <th>2021-05-09</th>\n",
              "      <td>NaN</td>\n",
              "      <td>NaN</td>\n",
              "      <td>0.343816</td>\n",
              "      <td>NaN</td>\n",
              "    </tr>\n",
              "    <tr>\n",
              "      <th>2021-05-10</th>\n",
              "      <td>NaN</td>\n",
              "      <td>1.134397</td>\n",
              "      <td>NaN</td>\n",
              "      <td>0.727671</td>\n",
              "    </tr>\n",
              "    <tr>\n",
              "      <th>2021-05-11</th>\n",
              "      <td>NaN</td>\n",
              "      <td>0.467278</td>\n",
              "      <td>NaN</td>\n",
              "      <td>NaN</td>\n",
              "    </tr>\n",
              "    <tr>\n",
              "      <th>2021-05-12</th>\n",
              "      <td>NaN</td>\n",
              "      <td>0.020035</td>\n",
              "      <td>NaN</td>\n",
              "      <td>NaN</td>\n",
              "    </tr>\n",
              "  </tbody>\n",
              "</table>\n",
              "</div>"
            ],
            "text/plain": [
              "                   A         B         C         D\n",
              "2021-05-07  1.484617       NaN  1.049240  0.020140\n",
              "2021-05-08  0.558277       NaN       NaN       NaN\n",
              "2021-05-09       NaN       NaN  0.343816       NaN\n",
              "2021-05-10       NaN  1.134397       NaN  0.727671\n",
              "2021-05-11       NaN  0.467278       NaN       NaN\n",
              "2021-05-12       NaN  0.020035       NaN       NaN"
            ]
          },
          "metadata": {
            "tags": []
          },
          "execution_count": 95
        }
      ]
    },
    {
      "cell_type": "code",
      "metadata": {
        "id": "VsVVc124ZBL2"
      },
      "source": [
        "df2 = df.copy()"
      ],
      "execution_count": 96,
      "outputs": []
    },
    {
      "cell_type": "code",
      "metadata": {
        "colab": {
          "base_uri": "https://localhost:8080/",
          "height": 235
        },
        "id": "ulRutXP3ZX-O",
        "outputId": "09f3202f-ff4f-44a3-8f11-66476d06bbca"
      },
      "source": [
        "df"
      ],
      "execution_count": 99,
      "outputs": [
        {
          "output_type": "execute_result",
          "data": {
            "text/html": [
              "<div>\n",
              "<style scoped>\n",
              "    .dataframe tbody tr th:only-of-type {\n",
              "        vertical-align: middle;\n",
              "    }\n",
              "\n",
              "    .dataframe tbody tr th {\n",
              "        vertical-align: top;\n",
              "    }\n",
              "\n",
              "    .dataframe thead th {\n",
              "        text-align: right;\n",
              "    }\n",
              "</style>\n",
              "<table border=\"1\" class=\"dataframe\">\n",
              "  <thead>\n",
              "    <tr style=\"text-align: right;\">\n",
              "      <th></th>\n",
              "      <th>A</th>\n",
              "      <th>B</th>\n",
              "      <th>C</th>\n",
              "      <th>D</th>\n",
              "    </tr>\n",
              "  </thead>\n",
              "  <tbody>\n",
              "    <tr>\n",
              "      <th>2021-05-07</th>\n",
              "      <td>1.484617</td>\n",
              "      <td>-1.354082</td>\n",
              "      <td>1.049240</td>\n",
              "      <td>0.020140</td>\n",
              "    </tr>\n",
              "    <tr>\n",
              "      <th>2021-05-08</th>\n",
              "      <td>0.558277</td>\n",
              "      <td>-0.763700</td>\n",
              "      <td>-1.239378</td>\n",
              "      <td>-0.875892</td>\n",
              "    </tr>\n",
              "    <tr>\n",
              "      <th>2021-05-09</th>\n",
              "      <td>-0.131735</td>\n",
              "      <td>-0.512637</td>\n",
              "      <td>0.343816</td>\n",
              "      <td>-0.100666</td>\n",
              "    </tr>\n",
              "    <tr>\n",
              "      <th>2021-05-10</th>\n",
              "      <td>-1.850576</td>\n",
              "      <td>1.134397</td>\n",
              "      <td>-1.735520</td>\n",
              "      <td>0.727671</td>\n",
              "    </tr>\n",
              "    <tr>\n",
              "      <th>2021-05-11</th>\n",
              "      <td>-0.092280</td>\n",
              "      <td>0.467278</td>\n",
              "      <td>-0.254910</td>\n",
              "      <td>-0.988500</td>\n",
              "    </tr>\n",
              "    <tr>\n",
              "      <th>2021-05-12</th>\n",
              "      <td>-0.040614</td>\n",
              "      <td>0.020035</td>\n",
              "      <td>-0.840814</td>\n",
              "      <td>-0.331106</td>\n",
              "    </tr>\n",
              "  </tbody>\n",
              "</table>\n",
              "</div>"
            ],
            "text/plain": [
              "                   A         B         C         D\n",
              "2021-05-07  1.484617 -1.354082  1.049240  0.020140\n",
              "2021-05-08  0.558277 -0.763700 -1.239378 -0.875892\n",
              "2021-05-09 -0.131735 -0.512637  0.343816 -0.100666\n",
              "2021-05-10 -1.850576  1.134397 -1.735520  0.727671\n",
              "2021-05-11 -0.092280  0.467278 -0.254910 -0.988500\n",
              "2021-05-12 -0.040614  0.020035 -0.840814 -0.331106"
            ]
          },
          "metadata": {
            "tags": []
          },
          "execution_count": 99
        }
      ]
    },
    {
      "cell_type": "code",
      "metadata": {
        "id": "nwM-Scb7ZS1W"
      },
      "source": [
        "df2['E'] = ['one', 'one', 'two', 'three', 'four', 'three']"
      ],
      "execution_count": 105,
      "outputs": []
    },
    {
      "cell_type": "code",
      "metadata": {
        "colab": {
          "base_uri": "https://localhost:8080/"
        },
        "id": "KrYsWuCRZp_1",
        "outputId": "7310ccd3-d352-4d28-a79e-89f2c3d1a49b"
      },
      "source": [
        "df2['E']"
      ],
      "execution_count": 106,
      "outputs": [
        {
          "output_type": "execute_result",
          "data": {
            "text/plain": [
              "2021-05-07      one\n",
              "2021-05-08      one\n",
              "2021-05-09      two\n",
              "2021-05-10    three\n",
              "2021-05-11     four\n",
              "2021-05-12    three\n",
              "Freq: D, Name: E, dtype: object"
            ]
          },
          "metadata": {
            "tags": []
          },
          "execution_count": 106
        }
      ]
    },
    {
      "cell_type": "code",
      "metadata": {
        "id": "3lQA5c9vZvJl"
      },
      "source": [
        "df2['E'] = ['one', 'one', 'two', 'three', 'four', 'three']"
      ],
      "execution_count": 107,
      "outputs": []
    },
    {
      "cell_type": "code",
      "metadata": {
        "colab": {
          "base_uri": "https://localhost:8080/",
          "height": 235
        },
        "id": "SP1nzt7vZzI1",
        "outputId": "9db248ab-a810-4936-ad42-8761383bcd27"
      },
      "source": [
        "df2"
      ],
      "execution_count": 108,
      "outputs": [
        {
          "output_type": "execute_result",
          "data": {
            "text/html": [
              "<div>\n",
              "<style scoped>\n",
              "    .dataframe tbody tr th:only-of-type {\n",
              "        vertical-align: middle;\n",
              "    }\n",
              "\n",
              "    .dataframe tbody tr th {\n",
              "        vertical-align: top;\n",
              "    }\n",
              "\n",
              "    .dataframe thead th {\n",
              "        text-align: right;\n",
              "    }\n",
              "</style>\n",
              "<table border=\"1\" class=\"dataframe\">\n",
              "  <thead>\n",
              "    <tr style=\"text-align: right;\">\n",
              "      <th></th>\n",
              "      <th>A</th>\n",
              "      <th>B</th>\n",
              "      <th>C</th>\n",
              "      <th>D</th>\n",
              "      <th>E</th>\n",
              "    </tr>\n",
              "  </thead>\n",
              "  <tbody>\n",
              "    <tr>\n",
              "      <th>2021-05-07</th>\n",
              "      <td>1.484617</td>\n",
              "      <td>-1.354082</td>\n",
              "      <td>1.049240</td>\n",
              "      <td>0.020140</td>\n",
              "      <td>one</td>\n",
              "    </tr>\n",
              "    <tr>\n",
              "      <th>2021-05-08</th>\n",
              "      <td>0.558277</td>\n",
              "      <td>-0.763700</td>\n",
              "      <td>-1.239378</td>\n",
              "      <td>-0.875892</td>\n",
              "      <td>one</td>\n",
              "    </tr>\n",
              "    <tr>\n",
              "      <th>2021-05-09</th>\n",
              "      <td>-0.131735</td>\n",
              "      <td>-0.512637</td>\n",
              "      <td>0.343816</td>\n",
              "      <td>-0.100666</td>\n",
              "      <td>two</td>\n",
              "    </tr>\n",
              "    <tr>\n",
              "      <th>2021-05-10</th>\n",
              "      <td>-1.850576</td>\n",
              "      <td>1.134397</td>\n",
              "      <td>-1.735520</td>\n",
              "      <td>0.727671</td>\n",
              "      <td>three</td>\n",
              "    </tr>\n",
              "    <tr>\n",
              "      <th>2021-05-11</th>\n",
              "      <td>-0.092280</td>\n",
              "      <td>0.467278</td>\n",
              "      <td>-0.254910</td>\n",
              "      <td>-0.988500</td>\n",
              "      <td>four</td>\n",
              "    </tr>\n",
              "    <tr>\n",
              "      <th>2021-05-12</th>\n",
              "      <td>-0.040614</td>\n",
              "      <td>0.020035</td>\n",
              "      <td>-0.840814</td>\n",
              "      <td>-0.331106</td>\n",
              "      <td>three</td>\n",
              "    </tr>\n",
              "  </tbody>\n",
              "</table>\n",
              "</div>"
            ],
            "text/plain": [
              "                   A         B         C         D      E\n",
              "2021-05-07  1.484617 -1.354082  1.049240  0.020140    one\n",
              "2021-05-08  0.558277 -0.763700 -1.239378 -0.875892    one\n",
              "2021-05-09 -0.131735 -0.512637  0.343816 -0.100666    two\n",
              "2021-05-10 -1.850576  1.134397 -1.735520  0.727671  three\n",
              "2021-05-11 -0.092280  0.467278 -0.254910 -0.988500   four\n",
              "2021-05-12 -0.040614  0.020035 -0.840814 -0.331106  three"
            ]
          },
          "metadata": {
            "tags": []
          },
          "execution_count": 108
        }
      ]
    },
    {
      "cell_type": "code",
      "metadata": {
        "colab": {
          "base_uri": "https://localhost:8080/"
        },
        "id": "Yr1LQGEqZ4TF",
        "outputId": "96bc4458-b8b0-49d5-9b68-06bed0555737"
      },
      "source": [
        "df2 = df.copy()\n",
        "df2['E'] = ['one', 'one', 'two', 'three', 'four', 'three']\n",
        "print(df2);print()\n",
        "print(df2[df2['E'].isin(['two','four'])]);print() "
      ],
      "execution_count": 110,
      "outputs": [
        {
          "output_type": "stream",
          "text": [
            "                   A         B         C         D      E\n",
            "2021-05-07  1.484617 -1.354082  1.049240  0.020140    one\n",
            "2021-05-08  0.558277 -0.763700 -1.239378 -0.875892    one\n",
            "2021-05-09 -0.131735 -0.512637  0.343816 -0.100666    two\n",
            "2021-05-10 -1.850576  1.134397 -1.735520  0.727671  three\n",
            "2021-05-11 -0.092280  0.467278 -0.254910 -0.988500   four\n",
            "2021-05-12 -0.040614  0.020035 -0.840814 -0.331106  three\n",
            "\n",
            "                   A         B         C         D     E\n",
            "2021-05-09 -0.131735 -0.512637  0.343816 -0.100666   two\n",
            "2021-05-11 -0.092280  0.467278 -0.254910 -0.988500  four\n",
            "\n"
          ],
          "name": "stdout"
        }
      ]
    },
    {
      "cell_type": "code",
      "metadata": {
        "colab": {
          "base_uri": "https://localhost:8080/",
          "height": 235
        },
        "id": "XDnake2uaMMl",
        "outputId": "d93974cb-4875-4d20-eafc-69354d3ab7f3"
      },
      "source": [
        "df"
      ],
      "execution_count": 111,
      "outputs": [
        {
          "output_type": "execute_result",
          "data": {
            "text/html": [
              "<div>\n",
              "<style scoped>\n",
              "    .dataframe tbody tr th:only-of-type {\n",
              "        vertical-align: middle;\n",
              "    }\n",
              "\n",
              "    .dataframe tbody tr th {\n",
              "        vertical-align: top;\n",
              "    }\n",
              "\n",
              "    .dataframe thead th {\n",
              "        text-align: right;\n",
              "    }\n",
              "</style>\n",
              "<table border=\"1\" class=\"dataframe\">\n",
              "  <thead>\n",
              "    <tr style=\"text-align: right;\">\n",
              "      <th></th>\n",
              "      <th>A</th>\n",
              "      <th>B</th>\n",
              "      <th>C</th>\n",
              "      <th>D</th>\n",
              "      <th>E</th>\n",
              "    </tr>\n",
              "  </thead>\n",
              "  <tbody>\n",
              "    <tr>\n",
              "      <th>2021-05-07</th>\n",
              "      <td>1.484617</td>\n",
              "      <td>-1.354082</td>\n",
              "      <td>1.049240</td>\n",
              "      <td>0.020140</td>\n",
              "      <td>one</td>\n",
              "    </tr>\n",
              "    <tr>\n",
              "      <th>2021-05-08</th>\n",
              "      <td>0.558277</td>\n",
              "      <td>-0.763700</td>\n",
              "      <td>-1.239378</td>\n",
              "      <td>-0.875892</td>\n",
              "      <td>one</td>\n",
              "    </tr>\n",
              "    <tr>\n",
              "      <th>2021-05-09</th>\n",
              "      <td>-0.131735</td>\n",
              "      <td>-0.512637</td>\n",
              "      <td>0.343816</td>\n",
              "      <td>-0.100666</td>\n",
              "      <td>two</td>\n",
              "    </tr>\n",
              "    <tr>\n",
              "      <th>2021-05-10</th>\n",
              "      <td>-1.850576</td>\n",
              "      <td>1.134397</td>\n",
              "      <td>-1.735520</td>\n",
              "      <td>0.727671</td>\n",
              "      <td>three</td>\n",
              "    </tr>\n",
              "    <tr>\n",
              "      <th>2021-05-11</th>\n",
              "      <td>-0.092280</td>\n",
              "      <td>0.467278</td>\n",
              "      <td>-0.254910</td>\n",
              "      <td>-0.988500</td>\n",
              "      <td>four</td>\n",
              "    </tr>\n",
              "    <tr>\n",
              "      <th>2021-05-12</th>\n",
              "      <td>-0.040614</td>\n",
              "      <td>0.020035</td>\n",
              "      <td>-0.840814</td>\n",
              "      <td>-0.331106</td>\n",
              "      <td>three</td>\n",
              "    </tr>\n",
              "  </tbody>\n",
              "</table>\n",
              "</div>"
            ],
            "text/plain": [
              "                   A         B         C         D      E\n",
              "2021-05-07  1.484617 -1.354082  1.049240  0.020140    one\n",
              "2021-05-08  0.558277 -0.763700 -1.239378 -0.875892    one\n",
              "2021-05-09 -0.131735 -0.512637  0.343816 -0.100666    two\n",
              "2021-05-10 -1.850576  1.134397 -1.735520  0.727671  three\n",
              "2021-05-11 -0.092280  0.467278 -0.254910 -0.988500   four\n",
              "2021-05-12 -0.040614  0.020035 -0.840814 -0.331106  three"
            ]
          },
          "metadata": {
            "tags": []
          },
          "execution_count": 111
        }
      ]
    },
    {
      "cell_type": "code",
      "metadata": {
        "id": "Kg8q2a9uacgV"
      },
      "source": [
        "s1 = pd.Series([1, 2, 3, 4, 5, 6], index=pd.date_range('20210507', periods=6))"
      ],
      "execution_count": 112,
      "outputs": []
    },
    {
      "cell_type": "code",
      "metadata": {
        "id": "1oTccNaiapkU"
      },
      "source": [
        "df['F'] = s1"
      ],
      "execution_count": 113,
      "outputs": []
    },
    {
      "cell_type": "code",
      "metadata": {
        "colab": {
          "base_uri": "https://localhost:8080/",
          "height": 235
        },
        "id": "vBCzbFDqauXV",
        "outputId": "caa4d78e-7384-45f4-bcf7-f1bf8400b809"
      },
      "source": [
        "df"
      ],
      "execution_count": 114,
      "outputs": [
        {
          "output_type": "execute_result",
          "data": {
            "text/html": [
              "<div>\n",
              "<style scoped>\n",
              "    .dataframe tbody tr th:only-of-type {\n",
              "        vertical-align: middle;\n",
              "    }\n",
              "\n",
              "    .dataframe tbody tr th {\n",
              "        vertical-align: top;\n",
              "    }\n",
              "\n",
              "    .dataframe thead th {\n",
              "        text-align: right;\n",
              "    }\n",
              "</style>\n",
              "<table border=\"1\" class=\"dataframe\">\n",
              "  <thead>\n",
              "    <tr style=\"text-align: right;\">\n",
              "      <th></th>\n",
              "      <th>A</th>\n",
              "      <th>B</th>\n",
              "      <th>C</th>\n",
              "      <th>D</th>\n",
              "      <th>E</th>\n",
              "      <th>F</th>\n",
              "    </tr>\n",
              "  </thead>\n",
              "  <tbody>\n",
              "    <tr>\n",
              "      <th>2021-05-07</th>\n",
              "      <td>1.484617</td>\n",
              "      <td>-1.354082</td>\n",
              "      <td>1.049240</td>\n",
              "      <td>0.020140</td>\n",
              "      <td>one</td>\n",
              "      <td>1</td>\n",
              "    </tr>\n",
              "    <tr>\n",
              "      <th>2021-05-08</th>\n",
              "      <td>0.558277</td>\n",
              "      <td>-0.763700</td>\n",
              "      <td>-1.239378</td>\n",
              "      <td>-0.875892</td>\n",
              "      <td>one</td>\n",
              "      <td>2</td>\n",
              "    </tr>\n",
              "    <tr>\n",
              "      <th>2021-05-09</th>\n",
              "      <td>-0.131735</td>\n",
              "      <td>-0.512637</td>\n",
              "      <td>0.343816</td>\n",
              "      <td>-0.100666</td>\n",
              "      <td>two</td>\n",
              "      <td>3</td>\n",
              "    </tr>\n",
              "    <tr>\n",
              "      <th>2021-05-10</th>\n",
              "      <td>-1.850576</td>\n",
              "      <td>1.134397</td>\n",
              "      <td>-1.735520</td>\n",
              "      <td>0.727671</td>\n",
              "      <td>three</td>\n",
              "      <td>4</td>\n",
              "    </tr>\n",
              "    <tr>\n",
              "      <th>2021-05-11</th>\n",
              "      <td>-0.092280</td>\n",
              "      <td>0.467278</td>\n",
              "      <td>-0.254910</td>\n",
              "      <td>-0.988500</td>\n",
              "      <td>four</td>\n",
              "      <td>5</td>\n",
              "    </tr>\n",
              "    <tr>\n",
              "      <th>2021-05-12</th>\n",
              "      <td>-0.040614</td>\n",
              "      <td>0.020035</td>\n",
              "      <td>-0.840814</td>\n",
              "      <td>-0.331106</td>\n",
              "      <td>three</td>\n",
              "      <td>6</td>\n",
              "    </tr>\n",
              "  </tbody>\n",
              "</table>\n",
              "</div>"
            ],
            "text/plain": [
              "                   A         B         C         D      E  F\n",
              "2021-05-07  1.484617 -1.354082  1.049240  0.020140    one  1\n",
              "2021-05-08  0.558277 -0.763700 -1.239378 -0.875892    one  2\n",
              "2021-05-09 -0.131735 -0.512637  0.343816 -0.100666    two  3\n",
              "2021-05-10 -1.850576  1.134397 -1.735520  0.727671  three  4\n",
              "2021-05-11 -0.092280  0.467278 -0.254910 -0.988500   four  5\n",
              "2021-05-12 -0.040614  0.020035 -0.840814 -0.331106  three  6"
            ]
          },
          "metadata": {
            "tags": []
          },
          "execution_count": 114
        }
      ]
    },
    {
      "cell_type": "code",
      "metadata": {
        "colab": {
          "base_uri": "https://localhost:8080/",
          "height": 298
        },
        "id": "8NQajZ4NavOU",
        "outputId": "db5afc9b-5bc5-4239-d030-a867ad1627f3"
      },
      "source": [
        "df[df>0] = -df"
      ],
      "execution_count": 116,
      "outputs": [
        {
          "output_type": "error",
          "ename": "TypeError",
          "evalue": "ignored",
          "traceback": [
            "\u001b[0;31m---------------------------------------------------------------------------\u001b[0m",
            "\u001b[0;31mTypeError\u001b[0m                                 Traceback (most recent call last)",
            "\u001b[0;32m<ipython-input-116-0f9f71d3c75d>\u001b[0m in \u001b[0;36m<module>\u001b[0;34m()\u001b[0m\n\u001b[0;32m----> 1\u001b[0;31m \u001b[0mdf\u001b[0m\u001b[0;34m[\u001b[0m\u001b[0mdf\u001b[0m\u001b[0;34m>\u001b[0m\u001b[0;36m0\u001b[0m\u001b[0;34m]\u001b[0m \u001b[0;34m=\u001b[0m \u001b[0;34m-\u001b[0m\u001b[0mdf\u001b[0m\u001b[0;34m\u001b[0m\u001b[0;34m\u001b[0m\u001b[0m\n\u001b[0m",
            "\u001b[0;32m/usr/local/lib/python3.7/dist-packages/pandas/core/generic.py\u001b[0m in \u001b[0;36m__neg__\u001b[0;34m(self)\u001b[0m\n\u001b[1;32m   1295\u001b[0m             \u001b[0;32mor\u001b[0m \u001b[0mis_object_dtype\u001b[0m\u001b[0;34m(\u001b[0m\u001b[0mvalues\u001b[0m\u001b[0;34m)\u001b[0m\u001b[0;34m\u001b[0m\u001b[0;34m\u001b[0m\u001b[0m\n\u001b[1;32m   1296\u001b[0m         ):\n\u001b[0;32m-> 1297\u001b[0;31m             \u001b[0marr\u001b[0m \u001b[0;34m=\u001b[0m \u001b[0moperator\u001b[0m\u001b[0;34m.\u001b[0m\u001b[0mneg\u001b[0m\u001b[0;34m(\u001b[0m\u001b[0mvalues\u001b[0m\u001b[0;34m)\u001b[0m\u001b[0;34m\u001b[0m\u001b[0;34m\u001b[0m\u001b[0m\n\u001b[0m\u001b[1;32m   1298\u001b[0m         \u001b[0;32melse\u001b[0m\u001b[0;34m:\u001b[0m\u001b[0;34m\u001b[0m\u001b[0;34m\u001b[0m\u001b[0m\n\u001b[1;32m   1299\u001b[0m             \u001b[0;32mraise\u001b[0m \u001b[0mTypeError\u001b[0m\u001b[0;34m(\u001b[0m\u001b[0;34mf\"Unary negative expects numeric dtype, not {values.dtype}\"\u001b[0m\u001b[0;34m)\u001b[0m\u001b[0;34m\u001b[0m\u001b[0;34m\u001b[0m\u001b[0m\n",
            "\u001b[0;31mTypeError\u001b[0m: bad operand type for unary -: 'str'"
          ]
        }
      ]
    },
    {
      "cell_type": "code",
      "metadata": {
        "id": "xchhVOf6a7WV"
      },
      "source": [
        ""
      ],
      "execution_count": null,
      "outputs": []
    }
  ]
}